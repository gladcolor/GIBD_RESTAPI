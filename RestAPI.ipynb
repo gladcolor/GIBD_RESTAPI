{
 "cells": [
  {
   "cell_type": "markdown",
   "metadata": {},
   "source": [
    "This is a tutorial for using [ODT Flow Explorer](http://gis.cas.sc.edu/GeoAnalytics/od.html). The API reference is in [here](https://github.com/GIBDUSC/ODT_Flows/wiki/ODT-Flow-REST-APIs). Each API performs a specific task such as aggregate the flows for a selected place and download flow data for an interested geographic area. All APIs return data in CSV (comma-separated values) format. The API is specified in the **operation** parameter in the API query(see examples below)."
   ]
  },
  {
   "cell_type": "markdown",
   "metadata": {},
   "source": [
    "# Import packages\n",
    "\n",
    "Please install packages before importing. This toturial is tested in Windows 10 and Ubuntu 18.04 using Chrome browser."
   ]
  },
  {
   "cell_type": "code",
   "execution_count": 692,
   "metadata": {
    "ExecuteTime": {
     "end_time": "2021-03-18T02:46:45.171292Z",
     "start_time": "2021-03-18T02:46:45.161362Z"
    },
    "pycharm": {
     "is_executing": true
    }
   },
   "outputs": [],
   "source": [
    "import os\n",
    "import pandas as pd\n",
    "import numpy as np\n",
    "import requests\n",
    "from io import StringIO\n",
    "# import gdal\n",
    "import keplergl\n",
    "import geopandas as gpd\n",
    "import matplotlib.pyplot as plt\n",
    "import seaborn as sns\n",
    "import matplotlib as mpl"
   ]
  },
  {
   "cell_type": "markdown",
   "metadata": {},
   "source": [
    "# Query Examples\n",
    "\n",
    "These examples show how to use API to obtain data in Jupyternotebook."
   ]
  },
  {
   "cell_type": "markdown",
   "metadata": {},
   "source": [
    "## get_flow_by_place\n",
    "\n",
    "Return the aggregated movement between the selected place and other places. (Corresponding to the Choropleth Map function in the Explorer)."
   ]
  },
  {
   "cell_type": "code",
   "execution_count": 706,
   "metadata": {
    "ExecuteTime": {
     "end_time": "2021-03-18T02:54:19.952172Z",
     "start_time": "2021-03-18T02:54:18.799885Z"
    }
   },
   "outputs": [
    {
     "data": {
      "text/html": [
       "<div>\n",
       "<style scoped>\n",
       "    .dataframe tbody tr th:only-of-type {\n",
       "        vertical-align: middle;\n",
       "    }\n",
       "\n",
       "    .dataframe tbody tr th {\n",
       "        vertical-align: top;\n",
       "    }\n",
       "\n",
       "    .dataframe thead th {\n",
       "        text-align: right;\n",
       "    }\n",
       "</style>\n",
       "<table border=\"1\" class=\"dataframe\">\n",
       "  <thead>\n",
       "    <tr style=\"text-align: right;\">\n",
       "      <th></th>\n",
       "      <th>place</th>\n",
       "      <th>count</th>\n",
       "    </tr>\n",
       "  </thead>\n",
       "  <tbody>\n",
       "    <tr>\n",
       "      <th>0</th>\n",
       "      <td>Wyoming</td>\n",
       "      <td>5</td>\n",
       "    </tr>\n",
       "    <tr>\n",
       "      <th>1</th>\n",
       "      <td>Kansas</td>\n",
       "      <td>95</td>\n",
       "    </tr>\n",
       "    <tr>\n",
       "      <th>2</th>\n",
       "      <td>Tennessee</td>\n",
       "      <td>787</td>\n",
       "    </tr>\n",
       "    <tr>\n",
       "      <th>3</th>\n",
       "      <td>Ohio</td>\n",
       "      <td>8838</td>\n",
       "    </tr>\n",
       "    <tr>\n",
       "      <th>4</th>\n",
       "      <td>South Carolina</td>\n",
       "      <td>474</td>\n",
       "    </tr>\n",
       "    <tr>\n",
       "      <th>5</th>\n",
       "      <td>Missouri</td>\n",
       "      <td>197</td>\n",
       "    </tr>\n",
       "    <tr>\n",
       "      <th>6</th>\n",
       "      <td>Georgia</td>\n",
       "      <td>370</td>\n",
       "    </tr>\n",
       "    <tr>\n",
       "      <th>7</th>\n",
       "      <td>Virginia</td>\n",
       "      <td>5147</td>\n",
       "    </tr>\n",
       "    <tr>\n",
       "      <th>8</th>\n",
       "      <td>Indiana</td>\n",
       "      <td>376</td>\n",
       "    </tr>\n",
       "    <tr>\n",
       "      <th>9</th>\n",
       "      <td>South Dakota</td>\n",
       "      <td>13</td>\n",
       "    </tr>\n",
       "    <tr>\n",
       "      <th>10</th>\n",
       "      <td>New Hampshire</td>\n",
       "      <td>30</td>\n",
       "    </tr>\n",
       "    <tr>\n",
       "      <th>11</th>\n",
       "      <td>Delaware</td>\n",
       "      <td>45</td>\n",
       "    </tr>\n",
       "    <tr>\n",
       "      <th>12</th>\n",
       "      <td>New Mexico</td>\n",
       "      <td>48</td>\n",
       "    </tr>\n",
       "    <tr>\n",
       "      <th>13</th>\n",
       "      <td>Illinois</td>\n",
       "      <td>376</td>\n",
       "    </tr>\n",
       "    <tr>\n",
       "      <th>14</th>\n",
       "      <td>Washington</td>\n",
       "      <td>55</td>\n",
       "    </tr>\n",
       "    <tr>\n",
       "      <th>15</th>\n",
       "      <td>North Carolina</td>\n",
       "      <td>1316</td>\n",
       "    </tr>\n",
       "    <tr>\n",
       "      <th>16</th>\n",
       "      <td>Montana</td>\n",
       "      <td>5</td>\n",
       "    </tr>\n",
       "    <tr>\n",
       "      <th>17</th>\n",
       "      <td>California</td>\n",
       "      <td>520</td>\n",
       "    </tr>\n",
       "    <tr>\n",
       "      <th>18</th>\n",
       "      <td>North Dakota</td>\n",
       "      <td>4</td>\n",
       "    </tr>\n",
       "    <tr>\n",
       "      <th>19</th>\n",
       "      <td>Pennsylvania</td>\n",
       "      <td>4696</td>\n",
       "    </tr>\n",
       "    <tr>\n",
       "      <th>20</th>\n",
       "      <td>Arkansas</td>\n",
       "      <td>70</td>\n",
       "    </tr>\n",
       "    <tr>\n",
       "      <th>21</th>\n",
       "      <td>New Jersey</td>\n",
       "      <td>438</td>\n",
       "    </tr>\n",
       "    <tr>\n",
       "      <th>22</th>\n",
       "      <td>Idaho</td>\n",
       "      <td>12</td>\n",
       "    </tr>\n",
       "    <tr>\n",
       "      <th>23</th>\n",
       "      <td>Mississippi</td>\n",
       "      <td>65</td>\n",
       "    </tr>\n",
       "    <tr>\n",
       "      <th>24</th>\n",
       "      <td>Louisiana</td>\n",
       "      <td>82</td>\n",
       "    </tr>\n",
       "    <tr>\n",
       "      <th>25</th>\n",
       "      <td>Iowa</td>\n",
       "      <td>37</td>\n",
       "    </tr>\n",
       "    <tr>\n",
       "      <th>26</th>\n",
       "      <td>West Virginia</td>\n",
       "      <td>425220</td>\n",
       "    </tr>\n",
       "    <tr>\n",
       "      <th>27</th>\n",
       "      <td>Vermont</td>\n",
       "      <td>14</td>\n",
       "    </tr>\n",
       "    <tr>\n",
       "      <th>28</th>\n",
       "      <td>Rhode Island</td>\n",
       "      <td>19</td>\n",
       "    </tr>\n",
       "    <tr>\n",
       "      <th>29</th>\n",
       "      <td>Arizona</td>\n",
       "      <td>92</td>\n",
       "    </tr>\n",
       "    <tr>\n",
       "      <th>30</th>\n",
       "      <td>Utah</td>\n",
       "      <td>33</td>\n",
       "    </tr>\n",
       "    <tr>\n",
       "      <th>31</th>\n",
       "      <td>Oklahoma</td>\n",
       "      <td>99</td>\n",
       "    </tr>\n",
       "    <tr>\n",
       "      <th>32</th>\n",
       "      <td>New York</td>\n",
       "      <td>1019</td>\n",
       "    </tr>\n",
       "    <tr>\n",
       "      <th>33</th>\n",
       "      <td>Michigan</td>\n",
       "      <td>303</td>\n",
       "    </tr>\n",
       "    <tr>\n",
       "      <th>34</th>\n",
       "      <td>Oregon</td>\n",
       "      <td>45</td>\n",
       "    </tr>\n",
       "    <tr>\n",
       "      <th>35</th>\n",
       "      <td>Colorado</td>\n",
       "      <td>85</td>\n",
       "    </tr>\n",
       "    <tr>\n",
       "      <th>36</th>\n",
       "      <td>Kentucky</td>\n",
       "      <td>2224</td>\n",
       "    </tr>\n",
       "    <tr>\n",
       "      <th>37</th>\n",
       "      <td>Massachusetts</td>\n",
       "      <td>153</td>\n",
       "    </tr>\n",
       "    <tr>\n",
       "      <th>38</th>\n",
       "      <td>Texas</td>\n",
       "      <td>528</td>\n",
       "    </tr>\n",
       "    <tr>\n",
       "      <th>39</th>\n",
       "      <td>District of Columbia</td>\n",
       "      <td>747</td>\n",
       "    </tr>\n",
       "    <tr>\n",
       "      <th>40</th>\n",
       "      <td>Nebraska</td>\n",
       "      <td>18</td>\n",
       "    </tr>\n",
       "    <tr>\n",
       "      <th>41</th>\n",
       "      <td>Nevada</td>\n",
       "      <td>86</td>\n",
       "    </tr>\n",
       "    <tr>\n",
       "      <th>42</th>\n",
       "      <td>Connecticut</td>\n",
       "      <td>94</td>\n",
       "    </tr>\n",
       "    <tr>\n",
       "      <th>43</th>\n",
       "      <td>Alabama</td>\n",
       "      <td>107</td>\n",
       "    </tr>\n",
       "    <tr>\n",
       "      <th>44</th>\n",
       "      <td>Florida</td>\n",
       "      <td>455</td>\n",
       "    </tr>\n",
       "    <tr>\n",
       "      <th>45</th>\n",
       "      <td>Minnesota</td>\n",
       "      <td>38</td>\n",
       "    </tr>\n",
       "    <tr>\n",
       "      <th>46</th>\n",
       "      <td>Wisconsin</td>\n",
       "      <td>42</td>\n",
       "    </tr>\n",
       "    <tr>\n",
       "      <th>47</th>\n",
       "      <td>Maine</td>\n",
       "      <td>18</td>\n",
       "    </tr>\n",
       "    <tr>\n",
       "      <th>48</th>\n",
       "      <td>Maryland</td>\n",
       "      <td>3905</td>\n",
       "    </tr>\n",
       "  </tbody>\n",
       "</table>\n",
       "</div>"
      ],
      "text/plain": [
       "                   place   count\n",
       "0                Wyoming       5\n",
       "1                 Kansas      95\n",
       "2              Tennessee     787\n",
       "3                   Ohio    8838\n",
       "4         South Carolina     474\n",
       "5               Missouri     197\n",
       "6                Georgia     370\n",
       "7               Virginia    5147\n",
       "8                Indiana     376\n",
       "9           South Dakota      13\n",
       "10         New Hampshire      30\n",
       "11              Delaware      45\n",
       "12            New Mexico      48\n",
       "13              Illinois     376\n",
       "14            Washington      55\n",
       "15        North Carolina    1316\n",
       "16               Montana       5\n",
       "17            California     520\n",
       "18          North Dakota       4\n",
       "19          Pennsylvania    4696\n",
       "20              Arkansas      70\n",
       "21            New Jersey     438\n",
       "22                 Idaho      12\n",
       "23           Mississippi      65\n",
       "24             Louisiana      82\n",
       "25                  Iowa      37\n",
       "26         West Virginia  425220\n",
       "27               Vermont      14\n",
       "28          Rhode Island      19\n",
       "29               Arizona      92\n",
       "30                  Utah      33\n",
       "31              Oklahoma      99\n",
       "32              New York    1019\n",
       "33              Michigan     303\n",
       "34                Oregon      45\n",
       "35              Colorado      85\n",
       "36              Kentucky    2224\n",
       "37         Massachusetts     153\n",
       "38                 Texas     528\n",
       "39  District of Columbia     747\n",
       "40              Nebraska      18\n",
       "41                Nevada      86\n",
       "42           Connecticut      94\n",
       "43               Alabama     107\n",
       "44               Florida     455\n",
       "45             Minnesota      38\n",
       "46             Wisconsin      42\n",
       "47                 Maine      18\n",
       "48              Maryland    3905"
      ]
     },
     "execution_count": 706,
     "metadata": {},
     "output_type": "execute_result"
    }
   ],
   "source": [
    "target_place = 54   \n",
    "\n",
    "params = {\"operation\": \"get_flow_by_place\",\n",
    "       \"source\": \"twitter\",\n",
    "       \"scale\": \"us_state\",\n",
    "        \"place\": str(target_place),\n",
    "       \"begin\": \"01/01/2020\",\n",
    "       \"end\": \"12/31/2020\",\n",
    "       \"direction\": \"both\"}\n",
    "\n",
    "q = r'http://gis.cas.sc.edu/GeoAnalytics/REST'\n",
    "r = requests.get(q, params=params)\n",
    "\n",
    "df = pd.read_csv(StringIO(r.text), header=None, names=[\"place\", \"count\"])\n",
    "df"
   ]
  },
  {
   "cell_type": "markdown",
   "metadata": {},
   "source": [
    "## get_daily_movement_by_place\n",
    "\n",
    "Return the daily inter-unit movements between the selected place and other places or the selected place's daily intra-unit movements. (Corresponding to the Daily Movements function in the Explorer)."
   ]
  },
  {
   "cell_type": "code",
   "execution_count": 719,
   "metadata": {
    "ExecuteTime": {
     "end_time": "2021-03-18T03:00:53.554716Z",
     "start_time": "2021-03-18T03:00:52.089324Z"
    }
   },
   "outputs": [
    {
     "data": {
      "text/html": [
       "<div>\n",
       "<style scoped>\n",
       "    .dataframe tbody tr th:only-of-type {\n",
       "        vertical-align: middle;\n",
       "    }\n",
       "\n",
       "    .dataframe tbody tr th {\n",
       "        vertical-align: top;\n",
       "    }\n",
       "\n",
       "    .dataframe thead th {\n",
       "        text-align: right;\n",
       "    }\n",
       "</style>\n",
       "<table border=\"1\" class=\"dataframe\">\n",
       "  <thead>\n",
       "    <tr style=\"text-align: right;\">\n",
       "      <th></th>\n",
       "      <th>date</th>\n",
       "      <th>count</th>\n",
       "    </tr>\n",
       "  </thead>\n",
       "  <tbody>\n",
       "    <tr>\n",
       "      <th>0</th>\n",
       "      <td>2020-01-01</td>\n",
       "      <td>67010</td>\n",
       "    </tr>\n",
       "    <tr>\n",
       "      <th>1</th>\n",
       "      <td>2020-01-02</td>\n",
       "      <td>63624</td>\n",
       "    </tr>\n",
       "    <tr>\n",
       "      <th>2</th>\n",
       "      <td>2020-01-03</td>\n",
       "      <td>61241</td>\n",
       "    </tr>\n",
       "    <tr>\n",
       "      <th>3</th>\n",
       "      <td>2020-01-04</td>\n",
       "      <td>58069</td>\n",
       "    </tr>\n",
       "    <tr>\n",
       "      <th>4</th>\n",
       "      <td>2020-01-05</td>\n",
       "      <td>47221</td>\n",
       "    </tr>\n",
       "    <tr>\n",
       "      <th>...</th>\n",
       "      <td>...</td>\n",
       "      <td>...</td>\n",
       "    </tr>\n",
       "    <tr>\n",
       "      <th>361</th>\n",
       "      <td>2020-12-27</td>\n",
       "      <td>37283</td>\n",
       "    </tr>\n",
       "    <tr>\n",
       "      <th>362</th>\n",
       "      <td>2020-12-28</td>\n",
       "      <td>34454</td>\n",
       "    </tr>\n",
       "    <tr>\n",
       "      <th>363</th>\n",
       "      <td>2020-12-29</td>\n",
       "      <td>33722</td>\n",
       "    </tr>\n",
       "    <tr>\n",
       "      <th>364</th>\n",
       "      <td>2020-12-30</td>\n",
       "      <td>36466</td>\n",
       "    </tr>\n",
       "    <tr>\n",
       "      <th>365</th>\n",
       "      <td>2020-12-31</td>\n",
       "      <td>38737</td>\n",
       "    </tr>\n",
       "  </tbody>\n",
       "</table>\n",
       "<p>366 rows × 2 columns</p>\n",
       "</div>"
      ],
      "text/plain": [
       "           date  count\n",
       "0    2020-01-01  67010\n",
       "1    2020-01-02  63624\n",
       "2    2020-01-03  61241\n",
       "3    2020-01-04  58069\n",
       "4    2020-01-05  47221\n",
       "..          ...    ...\n",
       "361  2020-12-27  37283\n",
       "362  2020-12-28  34454\n",
       "363  2020-12-29  33722\n",
       "364  2020-12-30  36466\n",
       "365  2020-12-31  38737\n",
       "\n",
       "[366 rows x 2 columns]"
      ]
     },
     "execution_count": 719,
     "metadata": {},
     "output_type": "execute_result"
    }
   ],
   "source": [
    "target_place = 32003   # Clark County, NV, Las Vegas city\n",
    "\n",
    "params = {\"operation\": \"get_daily_movement_by_place\",\n",
    "          \"scale\": \"us_county\",\n",
    "       \"source\": \"safegraph\",\n",
    "        \"place\": str(target_place),\n",
    "          \"begin\": \"01/01/2020\",\n",
    "          \"end\": \"12/31/2020\",\n",
    "       \"direction\": \"inflow\"}\n",
    "\n",
    "q = r'http://gis.cas.sc.edu/GeoAnalytics/REST'\n",
    "r = requests.get(q, params=params)\n",
    "df = pd.read_csv(StringIO(r.text), header=None, names=[\"date\", \"count\"])\n",
    "df"
   ]
  },
  {
   "cell_type": "markdown",
   "metadata": {},
   "source": [
    "## get_daily_movement_for_all_places\n"
   ]
  },
  {
   "cell_type": "code",
   "execution_count": 723,
   "metadata": {
    "ExecuteTime": {
     "end_time": "2021-03-18T03:04:06.342314Z",
     "start_time": "2021-03-18T03:04:05.630177Z"
    }
   },
   "outputs": [
    {
     "data": {
      "text/html": [
       "<div>\n",
       "<style scoped>\n",
       "    .dataframe tbody tr th:only-of-type {\n",
       "        vertical-align: middle;\n",
       "    }\n",
       "\n",
       "    .dataframe tbody tr th {\n",
       "        vertical-align: top;\n",
       "    }\n",
       "\n",
       "    .dataframe thead th {\n",
       "        text-align: right;\n",
       "    }\n",
       "</style>\n",
       "<table border=\"1\" class=\"dataframe\">\n",
       "  <thead>\n",
       "    <tr style=\"text-align: right;\">\n",
       "      <th></th>\n",
       "      <th>place</th>\n",
       "      <th>date</th>\n",
       "      <th>intra_movement</th>\n",
       "    </tr>\n",
       "  </thead>\n",
       "  <tbody>\n",
       "    <tr>\n",
       "      <th>0</th>\n",
       "      <td>Alabama</td>\n",
       "      <td>2020-01-01</td>\n",
       "      <td>855</td>\n",
       "    </tr>\n",
       "    <tr>\n",
       "      <th>1</th>\n",
       "      <td>Alabama</td>\n",
       "      <td>2020-01-02</td>\n",
       "      <td>867</td>\n",
       "    </tr>\n",
       "    <tr>\n",
       "      <th>2</th>\n",
       "      <td>Alabama</td>\n",
       "      <td>2020-01-03</td>\n",
       "      <td>968</td>\n",
       "    </tr>\n",
       "    <tr>\n",
       "      <th>3</th>\n",
       "      <td>Alabama</td>\n",
       "      <td>2020-01-04</td>\n",
       "      <td>845</td>\n",
       "    </tr>\n",
       "    <tr>\n",
       "      <th>4</th>\n",
       "      <td>Alabama</td>\n",
       "      <td>2020-01-05</td>\n",
       "      <td>834</td>\n",
       "    </tr>\n",
       "    <tr>\n",
       "      <th>...</th>\n",
       "      <td>...</td>\n",
       "      <td>...</td>\n",
       "      <td>...</td>\n",
       "    </tr>\n",
       "    <tr>\n",
       "      <th>17537</th>\n",
       "      <td>Wyoming</td>\n",
       "      <td>2020-12-26</td>\n",
       "      <td>9</td>\n",
       "    </tr>\n",
       "    <tr>\n",
       "      <th>17538</th>\n",
       "      <td>Wyoming</td>\n",
       "      <td>2020-12-27</td>\n",
       "      <td>13</td>\n",
       "    </tr>\n",
       "    <tr>\n",
       "      <th>17539</th>\n",
       "      <td>Wyoming</td>\n",
       "      <td>2020-12-28</td>\n",
       "      <td>18</td>\n",
       "    </tr>\n",
       "    <tr>\n",
       "      <th>17540</th>\n",
       "      <td>Wyoming</td>\n",
       "      <td>2020-12-29</td>\n",
       "      <td>17</td>\n",
       "    </tr>\n",
       "    <tr>\n",
       "      <th>17541</th>\n",
       "      <td>Wyoming</td>\n",
       "      <td>2020-12-30</td>\n",
       "      <td>18</td>\n",
       "    </tr>\n",
       "  </tbody>\n",
       "</table>\n",
       "<p>17542 rows × 3 columns</p>\n",
       "</div>"
      ],
      "text/plain": [
       "         place        date  intra_movement\n",
       "0      Alabama  2020-01-01             855\n",
       "1      Alabama  2020-01-02             867\n",
       "2      Alabama  2020-01-03             968\n",
       "3      Alabama  2020-01-04             845\n",
       "4      Alabama  2020-01-05             834\n",
       "...        ...         ...             ...\n",
       "17537  Wyoming  2020-12-26               9\n",
       "17538  Wyoming  2020-12-27              13\n",
       "17539  Wyoming  2020-12-28              18\n",
       "17540  Wyoming  2020-12-29              17\n",
       "17541  Wyoming  2020-12-30              18\n",
       "\n",
       "[17542 rows x 3 columns]"
      ]
     },
     "execution_count": 723,
     "metadata": {},
     "output_type": "execute_result"
    }
   ],
   "source": [
    "target_place = 32003   # Clark County, NV, Las Vegas city\n",
    "\n",
    "params = {\"operation\": \"get_daily_movement_for_all_places\",\n",
    "          \"scale\": \"us_state\",\n",
    "       \"source\": \"twitter\",\n",
    "        \"place\": str(target_place),\n",
    "          \"begin\": \"01/01/2020\",\n",
    "          \"end\": \"12/31/2020\"\n",
    "         }\n",
    "\n",
    "q = r'http://gis.cas.sc.edu/GeoAnalytics/REST'\n",
    "r = requests.get(q, params=params)\n",
    "df = pd.read_csv(StringIO(r.text))\n",
    "df"
   ]
  },
  {
   "cell_type": "markdown",
   "metadata": {},
   "source": [
    "## extract_odt_data\n",
    "\n",
    "Return the selected OD flows in either temporally aggregated format or daily format."
   ]
  },
  {
   "cell_type": "code",
   "execution_count": 726,
   "metadata": {
    "ExecuteTime": {
     "end_time": "2021-03-18T03:05:22.977969Z",
     "start_time": "2021-03-18T03:05:22.373031Z"
    },
    "pycharm": {
     "name": "#%%\n"
    }
   },
   "outputs": [
    {
     "data": {
      "text/html": [
       "<div>\n",
       "<style scoped>\n",
       "    .dataframe tbody tr th:only-of-type {\n",
       "        vertical-align: middle;\n",
       "    }\n",
       "\n",
       "    .dataframe tbody tr th {\n",
       "        vertical-align: top;\n",
       "    }\n",
       "\n",
       "    .dataframe thead th {\n",
       "        text-align: right;\n",
       "    }\n",
       "</style>\n",
       "<table border=\"1\" class=\"dataframe\">\n",
       "  <thead>\n",
       "    <tr style=\"text-align: right;\">\n",
       "      <th></th>\n",
       "      <th>o_place</th>\n",
       "      <th>d_place</th>\n",
       "      <th>year</th>\n",
       "      <th>month</th>\n",
       "      <th>day</th>\n",
       "      <th>cnt</th>\n",
       "      <th>o_lat</th>\n",
       "      <th>o_lon</th>\n",
       "      <th>d_lat</th>\n",
       "      <th>d_lon</th>\n",
       "    </tr>\n",
       "  </thead>\n",
       "  <tbody>\n",
       "    <tr>\n",
       "      <th>0</th>\n",
       "      <td>13121</td>\n",
       "      <td>39001</td>\n",
       "      <td>2019</td>\n",
       "      <td>4</td>\n",
       "      <td>2</td>\n",
       "      <td>1</td>\n",
       "      <td>33.740</td>\n",
       "      <td>-84.449</td>\n",
       "      <td>38.906</td>\n",
       "      <td>-83.347</td>\n",
       "    </tr>\n",
       "    <tr>\n",
       "      <th>1</th>\n",
       "      <td>36085</td>\n",
       "      <td>34021</td>\n",
       "      <td>2019</td>\n",
       "      <td>4</td>\n",
       "      <td>1</td>\n",
       "      <td>1</td>\n",
       "      <td>40.542</td>\n",
       "      <td>-74.207</td>\n",
       "      <td>40.301</td>\n",
       "      <td>-74.782</td>\n",
       "    </tr>\n",
       "    <tr>\n",
       "      <th>2</th>\n",
       "      <td>24510</td>\n",
       "      <td>51600</td>\n",
       "      <td>2019</td>\n",
       "      <td>4</td>\n",
       "      <td>2</td>\n",
       "      <td>1</td>\n",
       "      <td>39.290</td>\n",
       "      <td>-76.612</td>\n",
       "      <td>38.846</td>\n",
       "      <td>-77.306</td>\n",
       "    </tr>\n",
       "    <tr>\n",
       "      <th>3</th>\n",
       "      <td>42011</td>\n",
       "      <td>42035</td>\n",
       "      <td>2019</td>\n",
       "      <td>4</td>\n",
       "      <td>1</td>\n",
       "      <td>23</td>\n",
       "      <td>40.357</td>\n",
       "      <td>-75.876</td>\n",
       "      <td>41.118</td>\n",
       "      <td>-77.605</td>\n",
       "    </tr>\n",
       "    <tr>\n",
       "      <th>4</th>\n",
       "      <td>17075</td>\n",
       "      <td>17075</td>\n",
       "      <td>2019</td>\n",
       "      <td>4</td>\n",
       "      <td>2</td>\n",
       "      <td>2</td>\n",
       "      <td>40.777</td>\n",
       "      <td>-87.731</td>\n",
       "      <td>40.777</td>\n",
       "      <td>-87.731</td>\n",
       "    </tr>\n",
       "    <tr>\n",
       "      <th>...</th>\n",
       "      <td>...</td>\n",
       "      <td>...</td>\n",
       "      <td>...</td>\n",
       "      <td>...</td>\n",
       "      <td>...</td>\n",
       "      <td>...</td>\n",
       "      <td>...</td>\n",
       "      <td>...</td>\n",
       "      <td>...</td>\n",
       "      <td>...</td>\n",
       "    </tr>\n",
       "    <tr>\n",
       "      <th>31003</th>\n",
       "      <td>39061</td>\n",
       "      <td>18029</td>\n",
       "      <td>2019</td>\n",
       "      <td>4</td>\n",
       "      <td>2</td>\n",
       "      <td>2</td>\n",
       "      <td>39.212</td>\n",
       "      <td>-84.510</td>\n",
       "      <td>39.158</td>\n",
       "      <td>-84.866</td>\n",
       "    </tr>\n",
       "    <tr>\n",
       "      <th>31004</th>\n",
       "      <td>6037</td>\n",
       "      <td>24031</td>\n",
       "      <td>2019</td>\n",
       "      <td>4</td>\n",
       "      <td>1</td>\n",
       "      <td>1</td>\n",
       "      <td>33.947</td>\n",
       "      <td>-118.253</td>\n",
       "      <td>39.147</td>\n",
       "      <td>-77.074</td>\n",
       "    </tr>\n",
       "    <tr>\n",
       "      <th>31005</th>\n",
       "      <td>37183</td>\n",
       "      <td>37101</td>\n",
       "      <td>2019</td>\n",
       "      <td>4</td>\n",
       "      <td>1</td>\n",
       "      <td>4</td>\n",
       "      <td>35.733</td>\n",
       "      <td>-78.625</td>\n",
       "      <td>35.520</td>\n",
       "      <td>-78.378</td>\n",
       "    </tr>\n",
       "    <tr>\n",
       "      <th>31006</th>\n",
       "      <td>21071</td>\n",
       "      <td>21071</td>\n",
       "      <td>2019</td>\n",
       "      <td>4</td>\n",
       "      <td>1</td>\n",
       "      <td>7</td>\n",
       "      <td>37.683</td>\n",
       "      <td>-82.770</td>\n",
       "      <td>37.668</td>\n",
       "      <td>-82.766</td>\n",
       "    </tr>\n",
       "    <tr>\n",
       "      <th>31007</th>\n",
       "      <td>5085</td>\n",
       "      <td>48113</td>\n",
       "      <td>2019</td>\n",
       "      <td>4</td>\n",
       "      <td>1</td>\n",
       "      <td>1</td>\n",
       "      <td>34.550</td>\n",
       "      <td>-91.786</td>\n",
       "      <td>32.908</td>\n",
       "      <td>-96.622</td>\n",
       "    </tr>\n",
       "  </tbody>\n",
       "</table>\n",
       "<p>31008 rows × 10 columns</p>\n",
       "</div>"
      ],
      "text/plain": [
       "       o_place  d_place  year  month  day  cnt   o_lat    o_lon   d_lat  \\\n",
       "0        13121    39001  2019      4    2    1  33.740  -84.449  38.906   \n",
       "1        36085    34021  2019      4    1    1  40.542  -74.207  40.301   \n",
       "2        24510    51600  2019      4    2    1  39.290  -76.612  38.846   \n",
       "3        42011    42035  2019      4    1   23  40.357  -75.876  41.118   \n",
       "4        17075    17075  2019      4    2    2  40.777  -87.731  40.777   \n",
       "...        ...      ...   ...    ...  ...  ...     ...      ...     ...   \n",
       "31003    39061    18029  2019      4    2    2  39.212  -84.510  39.158   \n",
       "31004     6037    24031  2019      4    1    1  33.947 -118.253  39.147   \n",
       "31005    37183    37101  2019      4    1    4  35.733  -78.625  35.520   \n",
       "31006    21071    21071  2019      4    1    7  37.683  -82.770  37.668   \n",
       "31007     5085    48113  2019      4    1    1  34.550  -91.786  32.908   \n",
       "\n",
       "        d_lon  \n",
       "0     -83.347  \n",
       "1     -74.782  \n",
       "2     -77.306  \n",
       "3     -77.605  \n",
       "4     -87.731  \n",
       "...       ...  \n",
       "31003 -84.866  \n",
       "31004 -77.074  \n",
       "31005 -78.378  \n",
       "31006 -82.766  \n",
       "31007 -96.622  \n",
       "\n",
       "[31008 rows x 10 columns]"
      ]
     },
     "execution_count": 726,
     "metadata": {},
     "output_type": "execute_result"
    }
   ],
   "source": [
    "params = {\"operation\": \"extract_odt_data\",\n",
    "       \"source\": \"twitter\",\n",
    "        \"scale\": \"us_county\",\n",
    "       \"begin\": \"04/01/2019\" ,\n",
    "       \"end\": \"04/02/2019\",\n",
    "       \"bbox\": \"-90,90,-180,180\",\n",
    "       \"type\": \"daily\"}\n",
    "\n",
    "q = r'http://gis.cas.sc.edu/GeoAnalytics/REST'\n",
    "r = requests.get(q, params=params)\n",
    "\n",
    "df = pd.read_csv(StringIO(r.text))\n",
    "df"
   ]
  },
  {
   "cell_type": "markdown",
   "metadata": {},
   "source": [
    "## extract_odt_data_url\n",
    "\n",
    "Same as od_extract_data, but returns a download URL and number of records instead of directly returning the csv data."
   ]
  },
  {
   "cell_type": "code",
   "execution_count": 734,
   "metadata": {
    "ExecuteTime": {
     "end_time": "2021-03-18T03:08:35.493979Z",
     "start_time": "2021-03-18T03:08:30.890287Z"
    }
   },
   "outputs": [],
   "source": [
    "params = {\"operation\": \"extract_odt_data_url\",\n",
    "       \"source\": \"safegraph\",\n",
    "        \"scale\": \"us_tract_sc\",\n",
    "       \"begin\": \"01/01/2019\" ,\n",
    "       \"end\": \"01/10/2019\",\n",
    "       \"bbox\": \"20.19346,49.33148,-125.19531,-64.10156\",\n",
    "       \"type\": \"aggregated\"}\n",
    "\n",
    "q = r'http://gis.cas.sc.edu/GeoAnalytics/REST'\n",
    "r = requests.get(q, params=params)"
   ]
  },
  {
   "cell_type": "code",
   "execution_count": 735,
   "metadata": {
    "ExecuteTime": {
     "end_time": "2021-03-18T03:08:39.378714Z",
     "start_time": "2021-03-18T03:08:38.240784Z"
    }
   },
   "outputs": [
    {
     "name": "stdout",
     "output_type": "stream",
     "text": [
      "download_url: http://gis.cas.sc.edu/GeoAnalytics/download/aggregated_sg_od_2019_tract_sc_01012019_01102019_1616036912990.csv\n",
      "count: 701405\n",
      "Downloading data...\n",
      "Saved data in: C:\\Users\\GPU\\aggregated_sg_od_2019_tract_sc_01012019_01102019_1616036912990.csv\n"
     ]
    },
    {
     "data": {
      "text/html": [
       "<div>\n",
       "<style scoped>\n",
       "    .dataframe tbody tr th:only-of-type {\n",
       "        vertical-align: middle;\n",
       "    }\n",
       "\n",
       "    .dataframe tbody tr th {\n",
       "        vertical-align: top;\n",
       "    }\n",
       "\n",
       "    .dataframe thead th {\n",
       "        text-align: right;\n",
       "    }\n",
       "</style>\n",
       "<table border=\"1\" class=\"dataframe\">\n",
       "  <thead>\n",
       "    <tr style=\"text-align: right;\">\n",
       "      <th></th>\n",
       "      <th>o_place</th>\n",
       "      <th>d_place</th>\n",
       "      <th>cnt</th>\n",
       "      <th>o_lat</th>\n",
       "      <th>o_lon</th>\n",
       "      <th>d_lat</th>\n",
       "      <th>d_lon</th>\n",
       "    </tr>\n",
       "  </thead>\n",
       "  <tbody>\n",
       "    <tr>\n",
       "      <th>0</th>\n",
       "      <td>45019004612</td>\n",
       "      <td>45063020506</td>\n",
       "      <td>1</td>\n",
       "      <td>32.839</td>\n",
       "      <td>-79.838</td>\n",
       "      <td>34.001</td>\n",
       "      <td>-81.121</td>\n",
       "    </tr>\n",
       "    <tr>\n",
       "      <th>1</th>\n",
       "      <td>45063020602</td>\n",
       "      <td>45079011404</td>\n",
       "      <td>21</td>\n",
       "      <td>33.960</td>\n",
       "      <td>-81.112</td>\n",
       "      <td>34.111</td>\n",
       "      <td>-80.959</td>\n",
       "    </tr>\n",
       "    <tr>\n",
       "      <th>2</th>\n",
       "      <td>13053020201</td>\n",
       "      <td>45083023202</td>\n",
       "      <td>1</td>\n",
       "      <td>32.349</td>\n",
       "      <td>-84.973</td>\n",
       "      <td>34.913</td>\n",
       "      <td>-82.147</td>\n",
       "    </tr>\n",
       "    <tr>\n",
       "      <th>3</th>\n",
       "      <td>45083022801</td>\n",
       "      <td>1013953400</td>\n",
       "      <td>1</td>\n",
       "      <td>35.068</td>\n",
       "      <td>-82.047</td>\n",
       "      <td>31.603</td>\n",
       "      <td>-86.815</td>\n",
       "    </tr>\n",
       "    <tr>\n",
       "      <th>4</th>\n",
       "      <td>45083023700</td>\n",
       "      <td>36119014607</td>\n",
       "      <td>2</td>\n",
       "      <td>34.655</td>\n",
       "      <td>-81.929</td>\n",
       "      <td>41.280</td>\n",
       "      <td>-73.878</td>\n",
       "    </tr>\n",
       "    <tr>\n",
       "      <th>...</th>\n",
       "      <td>...</td>\n",
       "      <td>...</td>\n",
       "      <td>...</td>\n",
       "      <td>...</td>\n",
       "      <td>...</td>\n",
       "      <td>...</td>\n",
       "      <td>...</td>\n",
       "    </tr>\n",
       "    <tr>\n",
       "      <th>701400</th>\n",
       "      <td>45045001900</td>\n",
       "      <td>12009071100</td>\n",
       "      <td>1</td>\n",
       "      <td>34.823</td>\n",
       "      <td>-82.336</td>\n",
       "      <td>28.666</td>\n",
       "      <td>-80.919</td>\n",
       "    </tr>\n",
       "    <tr>\n",
       "      <th>701401</th>\n",
       "      <td>51650011400</td>\n",
       "      <td>45083023301</td>\n",
       "      <td>1</td>\n",
       "      <td>37.024</td>\n",
       "      <td>-76.333</td>\n",
       "      <td>34.959</td>\n",
       "      <td>-82.214</td>\n",
       "    </tr>\n",
       "    <tr>\n",
       "      <th>701402</th>\n",
       "      <td>45055970200</td>\n",
       "      <td>37119005834</td>\n",
       "      <td>1</td>\n",
       "      <td>34.552</td>\n",
       "      <td>-80.448</td>\n",
       "      <td>35.111</td>\n",
       "      <td>-80.711</td>\n",
       "    </tr>\n",
       "    <tr>\n",
       "      <th>701403</th>\n",
       "      <td>45077010602</td>\n",
       "      <td>37109070201</td>\n",
       "      <td>3</td>\n",
       "      <td>34.876</td>\n",
       "      <td>-82.574</td>\n",
       "      <td>35.483</td>\n",
       "      <td>-81.230</td>\n",
       "    </tr>\n",
       "    <tr>\n",
       "      <th>701404</th>\n",
       "      <td>45007000200</td>\n",
       "      <td>45079011701</td>\n",
       "      <td>1</td>\n",
       "      <td>34.518</td>\n",
       "      <td>-82.648</td>\n",
       "      <td>33.938</td>\n",
       "      <td>-81.001</td>\n",
       "    </tr>\n",
       "  </tbody>\n",
       "</table>\n",
       "<p>701405 rows × 7 columns</p>\n",
       "</div>"
      ],
      "text/plain": [
       "            o_place      d_place  cnt   o_lat   o_lon   d_lat   d_lon\n",
       "0       45019004612  45063020506    1  32.839 -79.838  34.001 -81.121\n",
       "1       45063020602  45079011404   21  33.960 -81.112  34.111 -80.959\n",
       "2       13053020201  45083023202    1  32.349 -84.973  34.913 -82.147\n",
       "3       45083022801   1013953400    1  35.068 -82.047  31.603 -86.815\n",
       "4       45083023700  36119014607    2  34.655 -81.929  41.280 -73.878\n",
       "...             ...          ...  ...     ...     ...     ...     ...\n",
       "701400  45045001900  12009071100    1  34.823 -82.336  28.666 -80.919\n",
       "701401  51650011400  45083023301    1  37.024 -76.333  34.959 -82.214\n",
       "701402  45055970200  37119005834    1  34.552 -80.448  35.111 -80.711\n",
       "701403  45077010602  37109070201    3  34.876 -82.574  35.483 -81.230\n",
       "701404  45007000200  45079011701    1  34.518 -82.648  33.938 -81.001\n",
       "\n",
       "[701405 rows x 7 columns]"
      ]
     },
     "execution_count": 735,
     "metadata": {},
     "output_type": "execute_result"
    }
   ],
   "source": [
    "download_url, count = r.text.split(\",\")\n",
    "print(\"download_url:\", download_url)\n",
    "print(\"count:\", count)\n",
    "\n",
    "# download the response\n",
    "file_name = download_url.split('/')[-1]\n",
    "print(\"Downloading data...\")\n",
    "download_resp = requests.get(download_url, allow_redirects=True)\n",
    "f = open(file_name, 'w')\n",
    "f.write(download_resp.text)\n",
    "print(\"Saved data in:\", os.path.join(os.getcwd(), file_name))\n",
    "df = pd.read_csv(StringIO(download_resp.text))\n",
    "df"
   ]
  },
  {
   "cell_type": "markdown",
   "metadata": {
    "ExecuteTime": {
     "end_time": "2021-03-16T18:59:58.169070Z",
     "start_time": "2021-03-16T18:59:58.166072Z"
    }
   },
   "source": [
    "# Case study 1: Find the most impacted Italy provinces on mobility by COVID-19"
   ]
  },
  {
   "cell_type": "markdown",
   "metadata": {
    "ExecuteTime": {
     "end_time": "2021-03-16T19:53:37.594029Z",
     "start_time": "2021-03-16T19:53:37.591035Z"
    }
   },
   "source": [
    "## extract data, may take 30 seconds."
   ]
  },
  {
   "cell_type": "code",
   "execution_count": 525,
   "metadata": {
    "ExecuteTime": {
     "end_time": "2021-03-17T20:31:42.035850Z",
     "start_time": "2021-03-17T20:31:24.807973Z"
    },
    "scrolled": true
   },
   "outputs": [
    {
     "data": {
      "text/plain": [
       "<AxesSubplot:>"
      ]
     },
     "execution_count": 525,
     "metadata": {},
     "output_type": "execute_result"
    },
    {
     "data": {
      "image/png": "[encoded data removed]",
      "text/plain": [
       "<Figure size 432x288 with 1 Axes>"
      ]
     },
     "metadata": {
      "needs_background": "light"
     },
     "output_type": "display_data"
    }
   ],
   "source": [
    "county_file = r'gz_2010_us_050_00_20m.json'\n",
    "state_file = r'gz_2010_us_040_00_20m.json'\n",
    "subdivision_file = r'gadm01_simplified/gadm36_1.shp'\n",
    "\n",
    "\n",
    "gdf = gpd.read_file(subdivision_file)\n",
    "gdf.plot()"
   ]
  },
  {
   "cell_type": "code",
   "execution_count": 529,
   "metadata": {
    "ExecuteTime": {
     "end_time": "2021-03-17T20:32:00.749614Z",
     "start_time": "2021-03-17T20:32:00.549153Z"
    }
   },
   "outputs": [
    {
     "data": {
      "text/plain": [
       "<AxesSubplot:>"
      ]
     },
     "execution_count": 529,
     "metadata": {},
     "output_type": "execute_result"
    },
    {
     "data": {
      "image/png": "[encoded data removed]",
      "text/plain": [
       "<Figure size 1440x720 with 1 Axes>"
      ]
     },
     "metadata": {
      "needs_background": "light"
     },
     "output_type": "display_data"
    }
   ],
   "source": [
    "target_place = r'ITA'    \n",
    "\n",
    "gdf_county = gdf[gdf['GID_1'].str[:3] == target_place]\n",
    "gdf_county.plot(figsize=(20, 10))"
   ]
  },
  {
   "cell_type": "code",
   "execution_count": 531,
   "metadata": {
    "ExecuteTime": {
     "end_time": "2021-03-17T20:32:29.572888Z",
     "start_time": "2021-03-17T20:32:26.820117Z"
    }
   },
   "outputs": [
    {
     "data": {
      "text/html": [
       "<div>\n",
       "<style scoped>\n",
       "    .dataframe tbody tr th:only-of-type {\n",
       "        vertical-align: middle;\n",
       "    }\n",
       "\n",
       "    .dataframe tbody tr th {\n",
       "        vertical-align: top;\n",
       "    }\n",
       "\n",
       "    .dataframe thead th {\n",
       "        text-align: right;\n",
       "    }\n",
       "</style>\n",
       "<table border=\"1\" class=\"dataframe\">\n",
       "  <thead>\n",
       "    <tr style=\"text-align: right;\">\n",
       "      <th></th>\n",
       "      <th>place</th>\n",
       "      <th>intra_movement</th>\n",
       "    </tr>\n",
       "    <tr>\n",
       "      <th>date</th>\n",
       "      <th></th>\n",
       "      <th></th>\n",
       "    </tr>\n",
       "  </thead>\n",
       "  <tbody>\n",
       "    <tr>\n",
       "      <th>2020-01-01</th>\n",
       "      <td>ITA.10_1</td>\n",
       "      <td>1223</td>\n",
       "    </tr>\n",
       "    <tr>\n",
       "      <th>2020-01-02</th>\n",
       "      <td>ITA.10_1</td>\n",
       "      <td>1270</td>\n",
       "    </tr>\n",
       "    <tr>\n",
       "      <th>2020-01-03</th>\n",
       "      <td>ITA.10_1</td>\n",
       "      <td>1235</td>\n",
       "    </tr>\n",
       "    <tr>\n",
       "      <th>2020-01-04</th>\n",
       "      <td>ITA.10_1</td>\n",
       "      <td>1272</td>\n",
       "    </tr>\n",
       "    <tr>\n",
       "      <th>2020-01-05</th>\n",
       "      <td>ITA.10_1</td>\n",
       "      <td>1349</td>\n",
       "    </tr>\n",
       "    <tr>\n",
       "      <th>...</th>\n",
       "      <td>...</td>\n",
       "      <td>...</td>\n",
       "    </tr>\n",
       "    <tr>\n",
       "      <th>2020-12-26</th>\n",
       "      <td>ITA.9_1</td>\n",
       "      <td>206</td>\n",
       "    </tr>\n",
       "    <tr>\n",
       "      <th>2020-12-27</th>\n",
       "      <td>ITA.9_1</td>\n",
       "      <td>218</td>\n",
       "    </tr>\n",
       "    <tr>\n",
       "      <th>2020-12-28</th>\n",
       "      <td>ITA.9_1</td>\n",
       "      <td>235</td>\n",
       "    </tr>\n",
       "    <tr>\n",
       "      <th>2020-12-29</th>\n",
       "      <td>ITA.9_1</td>\n",
       "      <td>211</td>\n",
       "    </tr>\n",
       "    <tr>\n",
       "      <th>2020-12-30</th>\n",
       "      <td>ITA.9_1</td>\n",
       "      <td>237</td>\n",
       "    </tr>\n",
       "  </tbody>\n",
       "</table>\n",
       "<p>7220 rows × 2 columns</p>\n",
       "</div>"
      ],
      "text/plain": [
       "               place  intra_movement\n",
       "date                                \n",
       "2020-01-01  ITA.10_1            1223\n",
       "2020-01-02  ITA.10_1            1270\n",
       "2020-01-03  ITA.10_1            1235\n",
       "2020-01-04  ITA.10_1            1272\n",
       "2020-01-05  ITA.10_1            1349\n",
       "...              ...             ...\n",
       "2020-12-26   ITA.9_1             206\n",
       "2020-12-27   ITA.9_1             218\n",
       "2020-12-28   ITA.9_1             235\n",
       "2020-12-29   ITA.9_1             211\n",
       "2020-12-30   ITA.9_1             237\n",
       "\n",
       "[7220 rows x 2 columns]"
      ]
     },
     "execution_count": 531,
     "metadata": {},
     "output_type": "execute_result"
    }
   ],
   "source": [
    "params = {\"operation\": \"od_daily_movement\",\n",
    "           \"odt_cube\": \"twitter_world_first_admin\",\n",
    "           \"begin\": \"01/01/2020\",\n",
    "           \"end\": \"12/31/2020\"}\n",
    "\n",
    "q = r'http://gis.cas.sc.edu/GeoAnalytics/REST'\n",
    "r = requests.get(q, params=params)\n",
    "df = pd.read_csv(StringIO(r.text))\n",
    "df = df[df['place'].str[:3] == target_place]\n",
    "df['date'] = pd.to_datetime(df['date'])\n",
    "df = df.set_index('date')\n",
    "df"
   ]
  },
  {
   "cell_type": "code",
   "execution_count": 532,
   "metadata": {
    "ExecuteTime": {
     "end_time": "2021-03-17T20:32:37.351141Z",
     "start_time": "2021-03-17T20:32:37.318220Z"
    },
    "scrolled": false
   },
   "outputs": [
    {
     "data": {
      "text/html": [
       "<div>\n",
       "<style scoped>\n",
       "    .dataframe tbody tr th:only-of-type {\n",
       "        vertical-align: middle;\n",
       "    }\n",
       "\n",
       "    .dataframe tbody tr th {\n",
       "        vertical-align: top;\n",
       "    }\n",
       "\n",
       "    .dataframe thead th {\n",
       "        text-align: right;\n",
       "    }\n",
       "</style>\n",
       "<table border=\"1\" class=\"dataframe\">\n",
       "  <thead>\n",
       "    <tr style=\"text-align: right;\">\n",
       "      <th></th>\n",
       "      <th></th>\n",
       "      <th>intra_movement</th>\n",
       "    </tr>\n",
       "    <tr>\n",
       "      <th>date</th>\n",
       "      <th>place</th>\n",
       "      <th></th>\n",
       "    </tr>\n",
       "  </thead>\n",
       "  <tbody>\n",
       "    <tr>\n",
       "      <th rowspan=\"5\" valign=\"top\">2020-01-31</th>\n",
       "      <th>ITA.10_1</th>\n",
       "      <td>44896</td>\n",
       "    </tr>\n",
       "    <tr>\n",
       "      <th>ITA.11_1</th>\n",
       "      <td>4084</td>\n",
       "    </tr>\n",
       "    <tr>\n",
       "      <th>ITA.12_1</th>\n",
       "      <td>269</td>\n",
       "    </tr>\n",
       "    <tr>\n",
       "      <th>ITA.13_1</th>\n",
       "      <td>14733</td>\n",
       "    </tr>\n",
       "    <tr>\n",
       "      <th>ITA.14_1</th>\n",
       "      <td>4313</td>\n",
       "    </tr>\n",
       "    <tr>\n",
       "      <th>...</th>\n",
       "      <th>...</th>\n",
       "      <td>...</td>\n",
       "    </tr>\n",
       "    <tr>\n",
       "      <th rowspan=\"5\" valign=\"top\">2020-12-31</th>\n",
       "      <th>ITA.5_1</th>\n",
       "      <td>12841</td>\n",
       "    </tr>\n",
       "    <tr>\n",
       "      <th>ITA.6_1</th>\n",
       "      <td>16253</td>\n",
       "    </tr>\n",
       "    <tr>\n",
       "      <th>ITA.7_1</th>\n",
       "      <td>4193</td>\n",
       "    </tr>\n",
       "    <tr>\n",
       "      <th>ITA.8_1</th>\n",
       "      <td>31665</td>\n",
       "    </tr>\n",
       "    <tr>\n",
       "      <th>ITA.9_1</th>\n",
       "      <td>6834</td>\n",
       "    </tr>\n",
       "  </tbody>\n",
       "</table>\n",
       "<p>240 rows × 1 columns</p>\n",
       "</div>"
      ],
      "text/plain": [
       "                     intra_movement\n",
       "date       place                   \n",
       "2020-01-31 ITA.10_1           44896\n",
       "           ITA.11_1            4084\n",
       "           ITA.12_1             269\n",
       "           ITA.13_1           14733\n",
       "           ITA.14_1            4313\n",
       "...                             ...\n",
       "2020-12-31 ITA.5_1            12841\n",
       "           ITA.6_1            16253\n",
       "           ITA.7_1             4193\n",
       "           ITA.8_1            31665\n",
       "           ITA.9_1             6834\n",
       "\n",
       "[240 rows x 1 columns]"
      ]
     },
     "execution_count": 532,
     "metadata": {},
     "output_type": "execute_result"
    }
   ],
   "source": [
    "groupped = df.groupby([pd.Grouper(freq='M'), 'place'] )['intra_movement'].sum().to_frame()\n",
    "# groupped = groupped.reset_index('date')\n",
    "groupped"
   ]
  },
  {
   "cell_type": "markdown",
   "metadata": {
    "ExecuteTime": {
     "end_time": "2021-03-17T01:04:53.231693Z",
     "start_time": "2021-03-17T01:04:53.223715Z"
    }
   },
   "source": [
    "## index as month"
   ]
  },
  {
   "cell_type": "code",
   "execution_count": 533,
   "metadata": {
    "ExecuteTime": {
     "end_time": "2021-03-17T20:32:42.973691Z",
     "start_time": "2021-03-17T20:32:42.958758Z"
    }
   },
   "outputs": [
    {
     "data": {
      "text/html": [
       "<div>\n",
       "<style scoped>\n",
       "    .dataframe tbody tr th:only-of-type {\n",
       "        vertical-align: middle;\n",
       "    }\n",
       "\n",
       "    .dataframe tbody tr th {\n",
       "        vertical-align: top;\n",
       "    }\n",
       "\n",
       "    .dataframe thead th {\n",
       "        text-align: right;\n",
       "    }\n",
       "</style>\n",
       "<table border=\"1\" class=\"dataframe\">\n",
       "  <thead>\n",
       "    <tr style=\"text-align: right;\">\n",
       "      <th></th>\n",
       "      <th></th>\n",
       "      <th>intra_movement</th>\n",
       "    </tr>\n",
       "    <tr>\n",
       "      <th>date</th>\n",
       "      <th>place</th>\n",
       "      <th></th>\n",
       "    </tr>\n",
       "  </thead>\n",
       "  <tbody>\n",
       "    <tr>\n",
       "      <th rowspan=\"5\" valign=\"top\">2020-01-31</th>\n",
       "      <th>ITA.10_1</th>\n",
       "      <td>44896</td>\n",
       "    </tr>\n",
       "    <tr>\n",
       "      <th>ITA.11_1</th>\n",
       "      <td>4084</td>\n",
       "    </tr>\n",
       "    <tr>\n",
       "      <th>ITA.12_1</th>\n",
       "      <td>269</td>\n",
       "    </tr>\n",
       "    <tr>\n",
       "      <th>ITA.13_1</th>\n",
       "      <td>14733</td>\n",
       "    </tr>\n",
       "    <tr>\n",
       "      <th>ITA.14_1</th>\n",
       "      <td>4313</td>\n",
       "    </tr>\n",
       "    <tr>\n",
       "      <th>...</th>\n",
       "      <th>...</th>\n",
       "      <td>...</td>\n",
       "    </tr>\n",
       "    <tr>\n",
       "      <th rowspan=\"5\" valign=\"top\">2020-12-31</th>\n",
       "      <th>ITA.5_1</th>\n",
       "      <td>12841</td>\n",
       "    </tr>\n",
       "    <tr>\n",
       "      <th>ITA.6_1</th>\n",
       "      <td>16253</td>\n",
       "    </tr>\n",
       "    <tr>\n",
       "      <th>ITA.7_1</th>\n",
       "      <td>4193</td>\n",
       "    </tr>\n",
       "    <tr>\n",
       "      <th>ITA.8_1</th>\n",
       "      <td>31665</td>\n",
       "    </tr>\n",
       "    <tr>\n",
       "      <th>ITA.9_1</th>\n",
       "      <td>6834</td>\n",
       "    </tr>\n",
       "  </tbody>\n",
       "</table>\n",
       "<p>240 rows × 1 columns</p>\n",
       "</div>"
      ],
      "text/plain": [
       "                     intra_movement\n",
       "date       place                   \n",
       "2020-01-31 ITA.10_1           44896\n",
       "           ITA.11_1            4084\n",
       "           ITA.12_1             269\n",
       "           ITA.13_1           14733\n",
       "           ITA.14_1            4313\n",
       "...                             ...\n",
       "2020-12-31 ITA.5_1            12841\n",
       "           ITA.6_1            16253\n",
       "           ITA.7_1             4193\n",
       "           ITA.8_1            31665\n",
       "           ITA.9_1             6834\n",
       "\n",
       "[240 rows x 1 columns]"
      ]
     },
     "execution_count": 533,
     "metadata": {},
     "output_type": "execute_result"
    }
   ],
   "source": [
    "groupped = df.groupby([pd.Grouper(freq='M'), 'place'] )['intra_movement'].sum().to_frame()\n",
    "# groupped = groupped.reset_index('date')\n",
    "groupped\n",
    "# groupped.plot(figsize=(20, 10))"
   ]
  },
  {
   "cell_type": "code",
   "execution_count": 535,
   "metadata": {
    "ExecuteTime": {
     "end_time": "2021-03-17T20:32:57.935314Z",
     "start_time": "2021-03-17T20:32:57.929350Z"
    }
   },
   "outputs": [],
   "source": [
    "dates = groupped.index.get_level_values(\"date\").unique()"
   ]
  },
  {
   "cell_type": "code",
   "execution_count": 538,
   "metadata": {
    "ExecuteTime": {
     "end_time": "2021-03-17T20:33:20.998212Z",
     "start_time": "2021-03-17T20:33:20.979267Z"
    }
   },
   "outputs": [
    {
     "data": {
      "text/html": [
       "<div>\n",
       "<style scoped>\n",
       "    .dataframe tbody tr th:only-of-type {\n",
       "        vertical-align: middle;\n",
       "    }\n",
       "\n",
       "    .dataframe tbody tr th {\n",
       "        vertical-align: top;\n",
       "    }\n",
       "\n",
       "    .dataframe thead th {\n",
       "        text-align: right;\n",
       "    }\n",
       "</style>\n",
       "<table border=\"1\" class=\"dataframe\">\n",
       "  <thead>\n",
       "    <tr style=\"text-align: right;\">\n",
       "      <th></th>\n",
       "      <th>intra_movement</th>\n",
       "    </tr>\n",
       "    <tr>\n",
       "      <th>place</th>\n",
       "      <th></th>\n",
       "    </tr>\n",
       "  </thead>\n",
       "  <tbody>\n",
       "    <tr>\n",
       "      <th>ITA.10_1</th>\n",
       "      <td>44896</td>\n",
       "    </tr>\n",
       "    <tr>\n",
       "      <th>ITA.11_1</th>\n",
       "      <td>4084</td>\n",
       "    </tr>\n",
       "    <tr>\n",
       "      <th>ITA.12_1</th>\n",
       "      <td>269</td>\n",
       "    </tr>\n",
       "    <tr>\n",
       "      <th>ITA.13_1</th>\n",
       "      <td>14733</td>\n",
       "    </tr>\n",
       "    <tr>\n",
       "      <th>ITA.14_1</th>\n",
       "      <td>4313</td>\n",
       "    </tr>\n",
       "    <tr>\n",
       "      <th>ITA.15_1</th>\n",
       "      <td>9663</td>\n",
       "    </tr>\n",
       "    <tr>\n",
       "      <th>ITA.16_1</th>\n",
       "      <td>17053</td>\n",
       "    </tr>\n",
       "    <tr>\n",
       "      <th>ITA.17_1</th>\n",
       "      <td>2646</td>\n",
       "    </tr>\n",
       "    <tr>\n",
       "      <th>ITA.18_1</th>\n",
       "      <td>2804</td>\n",
       "    </tr>\n",
       "    <tr>\n",
       "      <th>ITA.19_1</th>\n",
       "      <td>651</td>\n",
       "    </tr>\n",
       "    <tr>\n",
       "      <th>ITA.1_1</th>\n",
       "      <td>3584</td>\n",
       "    </tr>\n",
       "    <tr>\n",
       "      <th>ITA.20_1</th>\n",
       "      <td>11783</td>\n",
       "    </tr>\n",
       "    <tr>\n",
       "      <th>ITA.2_1</th>\n",
       "      <td>7291</td>\n",
       "    </tr>\n",
       "    <tr>\n",
       "      <th>ITA.3_1</th>\n",
       "      <td>981</td>\n",
       "    </tr>\n",
       "    <tr>\n",
       "      <th>ITA.4_1</th>\n",
       "      <td>2993</td>\n",
       "    </tr>\n",
       "    <tr>\n",
       "      <th>ITA.5_1</th>\n",
       "      <td>13593</td>\n",
       "    </tr>\n",
       "    <tr>\n",
       "      <th>ITA.6_1</th>\n",
       "      <td>18660</td>\n",
       "    </tr>\n",
       "    <tr>\n",
       "      <th>ITA.7_1</th>\n",
       "      <td>4072</td>\n",
       "    </tr>\n",
       "    <tr>\n",
       "      <th>ITA.8_1</th>\n",
       "      <td>36917</td>\n",
       "    </tr>\n",
       "    <tr>\n",
       "      <th>ITA.9_1</th>\n",
       "      <td>7012</td>\n",
       "    </tr>\n",
       "  </tbody>\n",
       "</table>\n",
       "</div>"
      ],
      "text/plain": [
       "          intra_movement\n",
       "place                   \n",
       "ITA.10_1           44896\n",
       "ITA.11_1            4084\n",
       "ITA.12_1             269\n",
       "ITA.13_1           14733\n",
       "ITA.14_1            4313\n",
       "ITA.15_1            9663\n",
       "ITA.16_1           17053\n",
       "ITA.17_1            2646\n",
       "ITA.18_1            2804\n",
       "ITA.19_1             651\n",
       "ITA.1_1             3584\n",
       "ITA.20_1           11783\n",
       "ITA.2_1             7291\n",
       "ITA.3_1              981\n",
       "ITA.4_1             2993\n",
       "ITA.5_1            13593\n",
       "ITA.6_1            18660\n",
       "ITA.7_1             4072\n",
       "ITA.8_1            36917\n",
       "ITA.9_1             7012"
      ]
     },
     "execution_count": 538,
     "metadata": {},
     "output_type": "execute_result"
    }
   ],
   "source": [
    "jan_data = groupped.loc[dates[0]]   ## dates[0].strftime(\"%Y-%m-%d\")\n",
    "jan_data"
   ]
  },
  {
   "cell_type": "code",
   "execution_count": 539,
   "metadata": {
    "ExecuteTime": {
     "end_time": "2021-03-17T20:33:27.906385Z",
     "start_time": "2021-03-17T20:33:25.069950Z"
    },
    "scrolled": false
   },
   "outputs": [
    {
     "data": {
      "image/png": "[encoded data removed]",
      "text/plain": [
       "<Figure size 1440x1080 with 24 Axes>"
      ]
     },
     "metadata": {
      "needs_background": "light"
     },
     "output_type": "display_data"
    }
   ],
   "source": [
    "row_cnt = 3\n",
    "col_cnt = 4\n",
    "fig, axes = plt.subplots(3, 4, figsize=(20,15) )\n",
    "vmin= groupped['intra_movement'].min()\n",
    "vmax= groupped['intra_movement'].max()\n",
    "\n",
    "\n",
    "\n",
    "dates = groupped.index.get_level_values(\"date\").unique()\n",
    "\n",
    "for idx, date in enumerate(dates):\n",
    "    day_df = groupped.loc[date]\n",
    "    axes[divmod(idx, col_cnt)].axis('off')\n",
    "\n",
    "#     print(jan_data)\n",
    "#     print(day_df)\n",
    "    day_df['adjusted'] = (day_df['intra_movement'].to_list() - jan_data['intra_movement']) / jan_data['intra_movement']\n",
    "    vmin= day_df['adjusted'].min()\n",
    "    vmax= day_df['adjusted'].max()\n",
    "#     print(re)\n",
    "    re = gdf_county.set_index('GID_1').join(day_df, how='left')\n",
    "    re.plot(column=re['adjusted'], \n",
    "            cmap='rainbow',  \n",
    "            ax=axes[divmod(idx, col_cnt)], \n",
    "            legend=True, \n",
    "            vmin=-0.3,\n",
    "            vmax=0.9,\n",
    "                       \n",
    "           )\n",
    "    axes[divmod(idx, col_cnt)].set_title(date.strftime(\"%Y-%m\"))\n",
    "    \n",
    "#     cbar = axes[divmod(idx, col_cnt)].collections[0].colorbar()\n",
    "#     print(type(cbar))\n",
    "#     cbar.ax.yaxis.set_major_formatter(PercentFormatter(1, 0))\n",
    "\n",
    "    \n",
    "#     print(vmin, vmax)\n",
    "#     re.plot(ax=axes[divmod(idx, col_cnt)])\n",
    "#     print(day_df)\n",
    "#     re.plot(column=re['intra_movement'], cmap='PuBu',  ax=axes[divmod(idx, col_cnt)], legend=True, norm=mpl.colors.SymLogNorm(linthresh=0.3, linscale=0.3,\n",
    "#                                               vmin=vmin, vmax=vmax))\n",
    "    \n",
    "# fig.colorbar(re['intra_movement'], ax=axes.ravel().tolist())\n",
    "plt.show()"
   ]
  },
  {
   "cell_type": "markdown",
   "metadata": {
    "ExecuteTime": {
     "end_time": "2021-03-17T00:51:20.595277Z",
     "start_time": "2021-03-17T00:51:20.593273Z"
    }
   },
   "source": [
    "## index as places"
   ]
  },
  {
   "cell_type": "code",
   "execution_count": 540,
   "metadata": {
    "ExecuteTime": {
     "end_time": "2021-03-17T20:33:58.625894Z",
     "start_time": "2021-03-17T20:33:58.598941Z"
    },
    "scrolled": true
   },
   "outputs": [
    {
     "data": {
      "text/plain": [
       "Index(['ITA.10_1', 'ITA.11_1', 'ITA.12_1', 'ITA.13_1', 'ITA.14_1', 'ITA.15_1',\n",
       "       'ITA.16_1', 'ITA.17_1', 'ITA.18_1', 'ITA.19_1', 'ITA.1_1', 'ITA.20_1',\n",
       "       'ITA.2_1', 'ITA.3_1', 'ITA.4_1', 'ITA.5_1', 'ITA.6_1', 'ITA.7_1',\n",
       "       'ITA.8_1', 'ITA.9_1'],\n",
       "      dtype='object', name='place')"
      ]
     },
     "execution_count": 540,
     "metadata": {},
     "output_type": "execute_result"
    }
   ],
   "source": [
    "groupped = df.groupby([pd.Grouper(freq='M'), 'place'] )['intra_movement'].sum().to_frame()\n",
    "# groupped = groupped.reset_index('date')\n",
    "groupped\n",
    "places = groupped.index.get_level_values(\"place\").unique()\n",
    "places"
   ]
  },
  {
   "cell_type": "code",
   "execution_count": 541,
   "metadata": {
    "ExecuteTime": {
     "end_time": "2021-03-17T20:34:02.874583Z",
     "start_time": "2021-03-17T20:34:02.845665Z"
    }
   },
   "outputs": [
    {
     "data": {
      "text/html": [
       "<div>\n",
       "<style scoped>\n",
       "    .dataframe tbody tr th:only-of-type {\n",
       "        vertical-align: middle;\n",
       "    }\n",
       "\n",
       "    .dataframe tbody tr th {\n",
       "        vertical-align: top;\n",
       "    }\n",
       "\n",
       "    .dataframe thead th {\n",
       "        text-align: right;\n",
       "    }\n",
       "</style>\n",
       "<table border=\"1\" class=\"dataframe\">\n",
       "  <thead>\n",
       "    <tr style=\"text-align: right;\">\n",
       "      <th></th>\n",
       "      <th></th>\n",
       "      <th>intra_movement</th>\n",
       "    </tr>\n",
       "    <tr>\n",
       "      <th>place</th>\n",
       "      <th>date</th>\n",
       "      <th></th>\n",
       "    </tr>\n",
       "  </thead>\n",
       "  <tbody>\n",
       "    <tr>\n",
       "      <th>ITA.10_1</th>\n",
       "      <th>2020-01-31</th>\n",
       "      <td>44896</td>\n",
       "    </tr>\n",
       "    <tr>\n",
       "      <th>ITA.11_1</th>\n",
       "      <th>2020-01-31</th>\n",
       "      <td>4084</td>\n",
       "    </tr>\n",
       "    <tr>\n",
       "      <th>ITA.12_1</th>\n",
       "      <th>2020-01-31</th>\n",
       "      <td>269</td>\n",
       "    </tr>\n",
       "    <tr>\n",
       "      <th>ITA.13_1</th>\n",
       "      <th>2020-01-31</th>\n",
       "      <td>14733</td>\n",
       "    </tr>\n",
       "    <tr>\n",
       "      <th>ITA.14_1</th>\n",
       "      <th>2020-01-31</th>\n",
       "      <td>4313</td>\n",
       "    </tr>\n",
       "    <tr>\n",
       "      <th>...</th>\n",
       "      <th>...</th>\n",
       "      <td>...</td>\n",
       "    </tr>\n",
       "    <tr>\n",
       "      <th>ITA.5_1</th>\n",
       "      <th>2020-12-31</th>\n",
       "      <td>12841</td>\n",
       "    </tr>\n",
       "    <tr>\n",
       "      <th>ITA.6_1</th>\n",
       "      <th>2020-12-31</th>\n",
       "      <td>16253</td>\n",
       "    </tr>\n",
       "    <tr>\n",
       "      <th>ITA.7_1</th>\n",
       "      <th>2020-12-31</th>\n",
       "      <td>4193</td>\n",
       "    </tr>\n",
       "    <tr>\n",
       "      <th>ITA.8_1</th>\n",
       "      <th>2020-12-31</th>\n",
       "      <td>31665</td>\n",
       "    </tr>\n",
       "    <tr>\n",
       "      <th>ITA.9_1</th>\n",
       "      <th>2020-12-31</th>\n",
       "      <td>6834</td>\n",
       "    </tr>\n",
       "  </tbody>\n",
       "</table>\n",
       "<p>240 rows × 1 columns</p>\n",
       "</div>"
      ],
      "text/plain": [
       "                     intra_movement\n",
       "place    date                      \n",
       "ITA.10_1 2020-01-31           44896\n",
       "ITA.11_1 2020-01-31            4084\n",
       "ITA.12_1 2020-01-31             269\n",
       "ITA.13_1 2020-01-31           14733\n",
       "ITA.14_1 2020-01-31            4313\n",
       "...                             ...\n",
       "ITA.5_1  2020-12-31           12841\n",
       "ITA.6_1  2020-12-31           16253\n",
       "ITA.7_1  2020-12-31            4193\n",
       "ITA.8_1  2020-12-31           31665\n",
       "ITA.9_1  2020-12-31            6834\n",
       "\n",
       "[240 rows x 1 columns]"
      ]
     },
     "execution_count": 541,
     "metadata": {},
     "output_type": "execute_result"
    }
   ],
   "source": [
    "groupped = groupped.reorder_levels(['place', \"date\"])\n",
    "groupped"
   ]
  },
  {
   "cell_type": "code",
   "execution_count": 545,
   "metadata": {
    "ExecuteTime": {
     "end_time": "2021-03-17T20:36:05.354988Z",
     "start_time": "2021-03-17T20:36:03.162850Z"
    },
    "scrolled": false
   },
   "outputs": [
    {
     "data": {
      "image/png": "[encoded data removed]",
      "text/plain": [
       "<Figure size 1800x1728 with 20 Axes>"
      ]
     },
     "metadata": {
      "needs_background": "light"
     },
     "output_type": "display_data"
    }
   ],
   "source": [
    "import math\n",
    "\n",
    "row_cnt = math.ceil(math.sqrt(len(places)))\n",
    "col_cnt = math.ceil(len(places)/row_cnt)\n",
    "fig, axes = plt.subplots(row_cnt, col_cnt, figsize=(row_cnt * 5, col_cnt * 6) )\n",
    "vmin= groupped['intra_movement'].min()\n",
    "vmax= groupped['intra_movement'].max()\n",
    "\n",
    "# jan_data = \n",
    "\n",
    "for idx, place in enumerate(places):\n",
    "    day_df = groupped.loc[place]\n",
    "#     re = gdf_county.set_index('GID_1').join(day_df, how='left')\n",
    "    ax = day_df.plot(ax=axes[divmod(idx, col_cnt)], title = place)\n",
    "    ax.set_xlabel(\"\")\n",
    "#     print(date)\n",
    "#     re.plot(column=re['intra_movement'], cmap='PuBu',  ax=axes[divmod(idx, col_cnt)], legend=True, norm=mpl.colors.SymLogNorm(linthresh=0.3, linscale=0.3,\n",
    "#                                               vmin=vmin, vmax=vmax))\n",
    "    \n",
    "# fig.colorbar(re['intra_movement'], ax=axes.ravel().tolist())\n",
    "plt.show()"
   ]
  },
  {
   "cell_type": "markdown",
   "metadata": {
    "ExecuteTime": {
     "end_time": "2021-03-17T20:40:04.662650Z",
     "start_time": "2021-03-17T20:40:04.657690Z"
    }
   },
   "source": [
    "# Case study 2: Mobilities between G7 countries's and others \n",
    "\n",
    "This case investigate mobilities between G-7 countries and none-G-7. G7 countries are the largest 7 developed economies in the world: Canada, France, Germany, Italy, Japan, the United Kingdom and the United States. . "
   ]
  },
  {
   "cell_type": "code",
   "execution_count": 688,
   "metadata": {
    "ExecuteTime": {
     "end_time": "2021-03-18T02:44:53.871073Z",
     "start_time": "2021-03-18T02:44:52.050932Z"
    },
    "scrolled": true
   },
   "outputs": [
    {
     "name": "stderr",
     "output_type": "stream",
     "text": [
      "C:\\ProgramData\\Anaconda3\\envs\\gdal_env\\lib\\site-packages\\ipykernel_launcher.py:10: UserWarning: Geometry is in a geographic CRS. Results from 'centroid' are likely incorrect. Use 'GeoSeries.to_crs()' to re-project geometries to a projected CRS before this operation.\n",
      "\n",
      "  # Remove the CWD from sys.path while we load stuff.\n",
      "C:\\ProgramData\\Anaconda3\\envs\\gdal_env\\lib\\site-packages\\ipykernel_launcher.py:11: UserWarning: Geometry is in a geographic CRS. Results from 'centroid' are likely incorrect. Use 'GeoSeries.to_crs()' to re-project geometries to a projected CRS before this operation.\n",
      "\n",
      "  # This is added back by InteractiveShellApp.init_path()\n"
     ]
    },
    {
     "data": {
      "text/html": [
       "<div>\n",
       "<style scoped>\n",
       "    .dataframe tbody tr th:only-of-type {\n",
       "        vertical-align: middle;\n",
       "    }\n",
       "\n",
       "    .dataframe tbody tr th {\n",
       "        vertical-align: top;\n",
       "    }\n",
       "\n",
       "    .dataframe thead th {\n",
       "        text-align: right;\n",
       "    }\n",
       "</style>\n",
       "<table border=\"1\" class=\"dataframe\">\n",
       "  <thead>\n",
       "    <tr style=\"text-align: right;\">\n",
       "      <th></th>\n",
       "      <th>GID_0</th>\n",
       "      <th>NAME_0</th>\n",
       "      <th>geometry</th>\n",
       "      <th>y</th>\n",
       "      <th>x</th>\n",
       "    </tr>\n",
       "  </thead>\n",
       "  <tbody>\n",
       "    <tr>\n",
       "      <th>0</th>\n",
       "      <td>ABW</td>\n",
       "      <td>Aruba</td>\n",
       "      <td>POLYGON ((-69.97820 12.46986, -70.02847 12.503...</td>\n",
       "      <td>12.509652</td>\n",
       "      <td>-69.970508</td>\n",
       "    </tr>\n",
       "    <tr>\n",
       "      <th>1</th>\n",
       "      <td>AFG</td>\n",
       "      <td>Afghanistan</td>\n",
       "      <td>POLYGON ((68.52644 31.75435, 68.58202 31.75034...</td>\n",
       "      <td>33.828566</td>\n",
       "      <td>66.029628</td>\n",
       "    </tr>\n",
       "    <tr>\n",
       "      <th>2</th>\n",
       "      <td>AGO</td>\n",
       "      <td>Angola</td>\n",
       "      <td>MULTIPOLYGON (((11.73347 -16.67255, 11.74014 -...</td>\n",
       "      <td>-12.297561</td>\n",
       "      <td>17.548715</td>\n",
       "    </tr>\n",
       "    <tr>\n",
       "      <th>3</th>\n",
       "      <td>AIA</td>\n",
       "      <td>Anguilla</td>\n",
       "      <td>MULTIPOLYGON (((-63.42375 18.58903, -63.42403 ...</td>\n",
       "      <td>18.221736</td>\n",
       "      <td>-63.056916</td>\n",
       "    </tr>\n",
       "    <tr>\n",
       "      <th>4</th>\n",
       "      <td>ALA</td>\n",
       "      <td>Ã",
       "land</td>\n",
       "      <td>MULTIPOLYGON (((21.32195 59.74986, 21.32472 59...</td>\n",
       "      <td>60.204199</td>\n",
       "      <td>20.147058</td>\n",
       "    </tr>\n",
       "    <tr>\n",
       "      <th>...</th>\n",
       "      <td>...</td>\n",
       "      <td>...</td>\n",
       "      <td>...</td>\n",
       "      <td>...</td>\n",
       "      <td>...</td>\n",
       "    </tr>\n",
       "    <tr>\n",
       "      <th>251</th>\n",
       "      <td>XSP</td>\n",
       "      <td>Spratly Islands</td>\n",
       "      <td>MULTIPOLYGON (((114.35472 11.45139, 114.35167 ...</td>\n",
       "      <td>10.816933</td>\n",
       "      <td>114.508408</td>\n",
       "    </tr>\n",
       "    <tr>\n",
       "      <th>252</th>\n",
       "      <td>YEM</td>\n",
       "      <td>Yemen</td>\n",
       "      <td>MULTIPOLYGON (((53.26931 12.12875, 53.28680 12...</td>\n",
       "      <td>15.904209</td>\n",
       "      <td>47.582688</td>\n",
       "    </tr>\n",
       "    <tr>\n",
       "      <th>253</th>\n",
       "      <td>ZAF</td>\n",
       "      <td>South Africa</td>\n",
       "      <td>MULTIPOLYGON (((19.42097 -34.67903, 19.42208 -...</td>\n",
       "      <td>-28.996440</td>\n",
       "      <td>25.086365</td>\n",
       "    </tr>\n",
       "    <tr>\n",
       "      <th>254</th>\n",
       "      <td>ZMB</td>\n",
       "      <td>Zambia</td>\n",
       "      <td>POLYGON ((25.88753 -17.98407, 25.86519 -17.975...</td>\n",
       "      <td>-13.462328</td>\n",
       "      <td>27.792294</td>\n",
       "    </tr>\n",
       "    <tr>\n",
       "      <th>255</th>\n",
       "      <td>ZWE</td>\n",
       "      <td>Zimbabwe</td>\n",
       "      <td>POLYGON ((31.05947 -22.33982, 30.99968 -22.316...</td>\n",
       "      <td>-19.000676</td>\n",
       "      <td>29.868907</td>\n",
       "    </tr>\n",
       "  </tbody>\n",
       "</table>\n",
       "<p>256 rows × 5 columns</p>\n",
       "</div>"
      ],
      "text/plain": [
       "    GID_0           NAME_0                                           geometry  \\\n",
       "0     ABW            Aruba  POLYGON ((-69.97820 12.46986, -70.02847 12.503...   \n",
       "1     AFG      Afghanistan  POLYGON ((68.52644 31.75435, 68.58202 31.75034...   \n",
       "2     AGO           Angola  MULTIPOLYGON (((11.73347 -16.67255, 11.74014 -...   \n",
       "3     AIA         Anguilla  MULTIPOLYGON (((-63.42375 18.58903, -63.42403 ...   \n",
       "4     ALA           Ã\n",
       "land  MULTIPOLYGON (((21.32195 59.74986, 21.32472 59...   \n",
       "..    ...              ...                                                ...   \n",
       "251   XSP  Spratly Islands  MULTIPOLYGON (((114.35472 11.45139, 114.35167 ...   \n",
       "252   YEM            Yemen  MULTIPOLYGON (((53.26931 12.12875, 53.28680 12...   \n",
       "253   ZAF     South Africa  MULTIPOLYGON (((19.42097 -34.67903, 19.42208 -...   \n",
       "254   ZMB           Zambia  POLYGON ((25.88753 -17.98407, 25.86519 -17.975...   \n",
       "255   ZWE         Zimbabwe  POLYGON ((31.05947 -22.33982, 30.99968 -22.316...   \n",
       "\n",
       "             y           x  \n",
       "0    12.509652  -69.970508  \n",
       "1    33.828566   66.029628  \n",
       "2   -12.297561   17.548715  \n",
       "3    18.221736  -63.056916  \n",
       "4    60.204199   20.147058  \n",
       "..         ...         ...  \n",
       "251  10.816933  114.508408  \n",
       "252  15.904209   47.582688  \n",
       "253 -28.996440   25.086365  \n",
       "254 -13.462328   27.792294  \n",
       "255 -19.000676   29.868907  \n",
       "\n",
       "[256 rows x 5 columns]"
      ]
     },
     "execution_count": 688,
     "metadata": {},
     "output_type": "execute_result"
    }
   ],
   "source": [
    "G7 = ['USA', 'GBR', \"FRA\", \"ITA\", \"JPN\", \"CAN\", \"DEU\"]\n",
    "\n",
    "county_file = r'gz_2010_us_050_00_20m.json'\n",
    "state_file = r'gz_2010_us_040_00_20m.json'\n",
    "subdivision_file = r'gadm01_simplified/gadm36_1.shp'\n",
    "country_file = r'gdam00_simplified/gadm36_00.shp'\n",
    "\n",
    "\n",
    "gdf = gpd.read_file(country_file)\n",
    "gdf['y'] = gdf.centroid.y\n",
    "gdf['x'] = gdf.centroid.x\n",
    "gdf"
   ]
  },
  {
   "cell_type": "code",
   "execution_count": 646,
   "metadata": {
    "ExecuteTime": {
     "end_time": "2021-03-18T01:58:21.127606Z",
     "start_time": "2021-03-18T01:58:10.415159Z"
    }
   },
   "outputs": [],
   "source": [
    "df_countries = []\n",
    "dict_counties = {}\n",
    "\n",
    "for target_place in G7:\n",
    "    params = {\"operation\": \"get_flow_by_place\",\n",
    "              \"source\": \"twitter\",\n",
    "        \"scale\": \"world_country\",\n",
    "        \"place\": str(target_place),\n",
    "       \"begin\": \"01/01/2019\",\n",
    "       \"end\": \"12/31/2019\",\n",
    "       \"direction\": \"both\"}\n",
    "\n",
    "    q = r'http://gis.cas.sc.edu/GeoAnalytics/REST'\n",
    "    r = requests.get(q, params=params)\n",
    "    df = pd.read_csv(StringIO(r.text), header=None, names=['d_place', 'cnt'])\n",
    "    dict_counties[target_place] = df"
   ]
  },
  {
   "cell_type": "code",
   "execution_count": 689,
   "metadata": {
    "ExecuteTime": {
     "end_time": "2021-03-18T02:45:13.878903Z",
     "start_time": "2021-03-18T02:45:13.695392Z"
    },
    "scrolled": false
   },
   "outputs": [],
   "source": [
    "for target_place in G7:\n",
    "    df_c = dict_counties[target_place]\n",
    "    df_c[\"o_place\"] = target_place\n",
    "    df_c = df_c.set_index(\"o_place\").join(gdf.set_index(\"GID_0\"), how=\"left\")\n",
    "    df_c = df_c.drop(['NAME_0', \"geometry\"], axis=1)\n",
    "    df_c = df_c.rename(columns={\"y\": \"o_lat\", 'x': \"o_lon\"})\n",
    "    df_c['o_place'] = df_c.index\n",
    "    df_c = df_c.set_index(\"d_place\").join(gdf.set_index(\"GID_0\"), how=\"left\")\n",
    "    df_c = df_c.drop(['NAME_0', \"geometry\"], axis=1)\n",
    "    df_c = df_c.rename(columns={\"y\": \"d_lat\", 'x': \"d_lon\"})\n",
    "    df_c['d_place'] = df_c.index\n",
    "    df_c = df_c[df_c['d_place'] != df_c['o_place']]\n",
    "    df_c = df_c[~df_c['d_place'].isin(G7)]\n",
    "    dict_counties[target_place] = df_c\n",
    "#     print(df_c)\n",
    "#     print(df_c[\"o_place\"])"
   ]
  },
  {
   "cell_type": "code",
   "execution_count": 690,
   "metadata": {
    "ExecuteTime": {
     "end_time": "2021-03-18T02:45:15.675344Z",
     "start_time": "2021-03-18T02:45:15.431994Z"
    },
    "scrolled": false
   },
   "outputs": [
    {
     "name": "stdout",
     "output_type": "stream",
     "text": [
      "User Guide: https://docs.kepler.gl/docs/keplergl-jupyter\n"
     ]
    },
    {
     "name": "stderr",
     "output_type": "stream",
     "text": [
      "C:\\Users\\GPU\\AppData\\Roaming\\Python\\Python37\\site-packages\\keplergl\\keplergl.py:21: UserWarning: DataFrame columns are not unique, some columns will be omitted.\n",
      "  return df.to_dict('split')\n"
     ]
    },
    {
     "data": {
      "application/vnd.jupyter.widget-view+json": {
       "model_id": "1fe5c375b20d4f3a8174d6a540408775",
       "version_major": 2,
       "version_minor": 0
      },
      "text/plain": [
       "KeplerGl(config={'version': 'v1', 'config': {'visState': {'filters': [], 'layers': [{'id': '7bpj7x6', 'type': …"
      ]
     },
     "metadata": {},
     "output_type": "display_data"
    }
   ],
   "source": [
    "kepler_cfg_file = r'kepler_cfg_G7.json'\n",
    "kepler_cfg = json.load(open(kepler_cfg_file, 'r'))\n",
    "map_2 = KeplerGl(height = 600)\n",
    "map_2.config = kepler_cfg\n",
    "\n",
    "for target_place in G7:\n",
    "    map_2.add_data(data=dict_counties[target_place], name=target_place)\n",
    "\n",
    "\n",
    "map_2"
   ]
  },
  {
   "cell_type": "code",
   "execution_count": 691,
   "metadata": {
    "ExecuteTime": {
     "end_time": "2021-03-18T02:45:20.720486Z",
     "start_time": "2021-03-18T02:45:20.704546Z"
    }
   },
   "outputs": [],
   "source": [
    "cfg = map_2.config\n",
    "with open('kepler_cfg_G7.json', 'w') as fp:\n",
    "    json.dump(cfg, fp,  indent=2)"
   ]
  },
  {
   "cell_type": "code",
   "execution_count": 663,
   "metadata": {
    "ExecuteTime": {
     "end_time": "2021-03-18T02:11:58.799766Z",
     "start_time": "2021-03-18T02:11:58.778823Z"
    }
   },
   "outputs": [
    {
     "data": {
      "text/html": [
       "<div>\n",
       "<style scoped>\n",
       "    .dataframe tbody tr th:only-of-type {\n",
       "        vertical-align: middle;\n",
       "    }\n",
       "\n",
       "    .dataframe tbody tr th {\n",
       "        vertical-align: top;\n",
       "    }\n",
       "\n",
       "    .dataframe thead th {\n",
       "        text-align: right;\n",
       "    }\n",
       "</style>\n",
       "<table border=\"1\" class=\"dataframe\">\n",
       "  <thead>\n",
       "    <tr style=\"text-align: right;\">\n",
       "      <th></th>\n",
       "      <th>cnt</th>\n",
       "      <th>o_lat</th>\n",
       "      <th>o_lon</th>\n",
       "      <th>o_place</th>\n",
       "      <th>d_lat</th>\n",
       "      <th>d_lon</th>\n",
       "      <th>d_place</th>\n",
       "    </tr>\n",
       "    <tr>\n",
       "      <th>d_place</th>\n",
       "      <th></th>\n",
       "      <th></th>\n",
       "      <th></th>\n",
       "      <th></th>\n",
       "      <th></th>\n",
       "      <th></th>\n",
       "      <th></th>\n",
       "    </tr>\n",
       "  </thead>\n",
       "  <tbody>\n",
       "    <tr>\n",
       "      <th>BTN</th>\n",
       "      <td>1</td>\n",
       "      <td>51.109649</td>\n",
       "      <td>10.394341</td>\n",
       "      <td>DEU</td>\n",
       "      <td>27.395859</td>\n",
       "      <td>90.428457</td>\n",
       "      <td>BTN</td>\n",
       "    </tr>\n",
       "    <tr>\n",
       "      <th>ASM</th>\n",
       "      <td>1</td>\n",
       "      <td>51.109649</td>\n",
       "      <td>10.394341</td>\n",
       "      <td>DEU</td>\n",
       "      <td>-14.236506</td>\n",
       "      <td>-170.324122</td>\n",
       "      <td>ASM</td>\n",
       "    </tr>\n",
       "    <tr>\n",
       "      <th>DJI</th>\n",
       "      <td>1</td>\n",
       "      <td>51.109649</td>\n",
       "      <td>10.394341</td>\n",
       "      <td>DEU</td>\n",
       "      <td>11.742248</td>\n",
       "      <td>42.571680</td>\n",
       "      <td>DJI</td>\n",
       "    </tr>\n",
       "    <tr>\n",
       "      <th>BRN</th>\n",
       "      <td>1</td>\n",
       "      <td>51.109649</td>\n",
       "      <td>10.394341</td>\n",
       "      <td>DEU</td>\n",
       "      <td>4.528088</td>\n",
       "      <td>114.755359</td>\n",
       "      <td>BRN</td>\n",
       "    </tr>\n",
       "    <tr>\n",
       "      <th>HTI</th>\n",
       "      <td>1</td>\n",
       "      <td>51.109649</td>\n",
       "      <td>10.394341</td>\n",
       "      <td>DEU</td>\n",
       "      <td>18.937778</td>\n",
       "      <td>-72.683681</td>\n",
       "      <td>HTI</td>\n",
       "    </tr>\n",
       "    <tr>\n",
       "      <th>...</th>\n",
       "      <td>...</td>\n",
       "      <td>...</td>\n",
       "      <td>...</td>\n",
       "      <td>...</td>\n",
       "      <td>...</td>\n",
       "      <td>...</td>\n",
       "      <td>...</td>\n",
       "    </tr>\n",
       "    <tr>\n",
       "      <th>USA</th>\n",
       "      <td>13858</td>\n",
       "      <td>51.109649</td>\n",
       "      <td>10.394341</td>\n",
       "      <td>DEU</td>\n",
       "      <td>45.675866</td>\n",
       "      <td>-112.471154</td>\n",
       "      <td>USA</td>\n",
       "    </tr>\n",
       "    <tr>\n",
       "      <th>AUT</th>\n",
       "      <td>14686</td>\n",
       "      <td>51.109649</td>\n",
       "      <td>10.394341</td>\n",
       "      <td>DEU</td>\n",
       "      <td>47.587935</td>\n",
       "      <td>14.143190</td>\n",
       "      <td>AUT</td>\n",
       "    </tr>\n",
       "    <tr>\n",
       "      <th>FRA</th>\n",
       "      <td>19677</td>\n",
       "      <td>51.109649</td>\n",
       "      <td>10.394341</td>\n",
       "      <td>DEU</td>\n",
       "      <td>46.558835</td>\n",
       "      <td>2.553253</td>\n",
       "      <td>FRA</td>\n",
       "    </tr>\n",
       "    <tr>\n",
       "      <th>GBR</th>\n",
       "      <td>21417</td>\n",
       "      <td>51.109649</td>\n",
       "      <td>10.394341</td>\n",
       "      <td>DEU</td>\n",
       "      <td>54.163290</td>\n",
       "      <td>-2.894490</td>\n",
       "      <td>GBR</td>\n",
       "    </tr>\n",
       "    <tr>\n",
       "      <th>NLD</th>\n",
       "      <td>21851</td>\n",
       "      <td>51.109649</td>\n",
       "      <td>10.394341</td>\n",
       "      <td>DEU</td>\n",
       "      <td>52.263131</td>\n",
       "      <td>5.574299</td>\n",
       "      <td>NLD</td>\n",
       "    </tr>\n",
       "  </tbody>\n",
       "</table>\n",
       "<p>195 rows × 7 columns</p>\n",
       "</div>"
      ],
      "text/plain": [
       "           cnt      o_lat      o_lon o_place      d_lat       d_lon d_place\n",
       "d_place                                                                    \n",
       "BTN          1  51.109649  10.394341     DEU  27.395859   90.428457     BTN\n",
       "ASM          1  51.109649  10.394341     DEU -14.236506 -170.324122     ASM\n",
       "DJI          1  51.109649  10.394341     DEU  11.742248   42.571680     DJI\n",
       "BRN          1  51.109649  10.394341     DEU   4.528088  114.755359     BRN\n",
       "HTI          1  51.109649  10.394341     DEU  18.937778  -72.683681     HTI\n",
       "...        ...        ...        ...     ...        ...         ...     ...\n",
       "USA      13858  51.109649  10.394341     DEU  45.675866 -112.471154     USA\n",
       "AUT      14686  51.109649  10.394341     DEU  47.587935   14.143190     AUT\n",
       "FRA      19677  51.109649  10.394341     DEU  46.558835    2.553253     FRA\n",
       "GBR      21417  51.109649  10.394341     DEU  54.163290   -2.894490     GBR\n",
       "NLD      21851  51.109649  10.394341     DEU  52.263131    5.574299     NLD\n",
       "\n",
       "[195 rows x 7 columns]"
      ]
     },
     "execution_count": 663,
     "metadata": {},
     "output_type": "execute_result"
    }
   ],
   "source": [
    "df_c.sort_values(\"cnt\")"
   ]
  },
  {
   "cell_type": "code",
   "execution_count": 656,
   "metadata": {
    "ExecuteTime": {
     "end_time": "2021-03-18T02:06:33.025737Z",
     "start_time": "2021-03-18T02:06:32.993825Z"
    },
    "scrolled": true
   },
   "outputs": [
    {
     "data": {
      "text/html": [
       "<div>\n",
       "<style scoped>\n",
       "    .dataframe tbody tr th:only-of-type {\n",
       "        vertical-align: middle;\n",
       "    }\n",
       "\n",
       "    .dataframe tbody tr th {\n",
       "        vertical-align: top;\n",
       "    }\n",
       "\n",
       "    .dataframe thead th {\n",
       "        text-align: right;\n",
       "    }\n",
       "</style>\n",
       "<table border=\"1\" class=\"dataframe\">\n",
       "  <thead>\n",
       "    <tr style=\"text-align: right;\">\n",
       "      <th></th>\n",
       "      <th>cnt</th>\n",
       "      <th>o_lat</th>\n",
       "      <th>o_lon</th>\n",
       "      <th>o_place</th>\n",
       "      <th>d_lat</th>\n",
       "      <th>d_lon</th>\n",
       "      <th>d_place</th>\n",
       "    </tr>\n",
       "    <tr>\n",
       "      <th>d_place</th>\n",
       "      <th></th>\n",
       "      <th></th>\n",
       "      <th></th>\n",
       "      <th></th>\n",
       "      <th></th>\n",
       "      <th></th>\n",
       "      <th></th>\n",
       "    </tr>\n",
       "  </thead>\n",
       "  <tbody>\n",
       "    <tr>\n",
       "      <th>SLV</th>\n",
       "      <td>19</td>\n",
       "      <td>51.109649</td>\n",
       "      <td>10.394341</td>\n",
       "      <td>DEU</td>\n",
       "      <td>13.730563</td>\n",
       "      <td>-88.867003</td>\n",
       "      <td>SLV</td>\n",
       "    </tr>\n",
       "    <tr>\n",
       "      <th>PYF</th>\n",
       "      <td>5</td>\n",
       "      <td>51.109649</td>\n",
       "      <td>10.394341</td>\n",
       "      <td>DEU</td>\n",
       "      <td>-15.678132</td>\n",
       "      <td>-145.337231</td>\n",
       "      <td>PYF</td>\n",
       "    </tr>\n",
       "    <tr>\n",
       "      <th>ESH</th>\n",
       "      <td>10</td>\n",
       "      <td>51.109649</td>\n",
       "      <td>10.394341</td>\n",
       "      <td>DEU</td>\n",
       "      <td>24.677812</td>\n",
       "      <td>-13.135041</td>\n",
       "      <td>ESH</td>\n",
       "    </tr>\n",
       "    <tr>\n",
       "      <th>LBN</th>\n",
       "      <td>63</td>\n",
       "      <td>51.109649</td>\n",
       "      <td>10.394341</td>\n",
       "      <td>DEU</td>\n",
       "      <td>33.919718</td>\n",
       "      <td>35.891895</td>\n",
       "      <td>LBN</td>\n",
       "    </tr>\n",
       "    <tr>\n",
       "      <th>PRK</th>\n",
       "      <td>3</td>\n",
       "      <td>51.109649</td>\n",
       "      <td>10.394341</td>\n",
       "      <td>DEU</td>\n",
       "      <td>40.134094</td>\n",
       "      <td>127.163059</td>\n",
       "      <td>PRK</td>\n",
       "    </tr>\n",
       "    <tr>\n",
       "      <th>...</th>\n",
       "      <td>...</td>\n",
       "      <td>...</td>\n",
       "      <td>...</td>\n",
       "      <td>...</td>\n",
       "      <td>...</td>\n",
       "      <td>...</td>\n",
       "      <td>...</td>\n",
       "    </tr>\n",
       "    <tr>\n",
       "      <th>JEY</th>\n",
       "      <td>10</td>\n",
       "      <td>51.109649</td>\n",
       "      <td>10.394341</td>\n",
       "      <td>DEU</td>\n",
       "      <td>49.213496</td>\n",
       "      <td>-2.131762</td>\n",
       "      <td>JEY</td>\n",
       "    </tr>\n",
       "    <tr>\n",
       "      <th>KAZ</th>\n",
       "      <td>178</td>\n",
       "      <td>51.109649</td>\n",
       "      <td>10.394341</td>\n",
       "      <td>DEU</td>\n",
       "      <td>48.157385</td>\n",
       "      <td>67.255176</td>\n",
       "      <td>KAZ</td>\n",
       "    </tr>\n",
       "    <tr>\n",
       "      <th>TKM</th>\n",
       "      <td>18</td>\n",
       "      <td>51.109649</td>\n",
       "      <td>10.394341</td>\n",
       "      <td>DEU</td>\n",
       "      <td>39.192684</td>\n",
       "      <td>59.179260</td>\n",
       "      <td>TKM</td>\n",
       "    </tr>\n",
       "    <tr>\n",
       "      <th>MLT</th>\n",
       "      <td>243</td>\n",
       "      <td>51.109649</td>\n",
       "      <td>10.394341</td>\n",
       "      <td>DEU</td>\n",
       "      <td>35.922939</td>\n",
       "      <td>14.399083</td>\n",
       "      <td>MLT</td>\n",
       "    </tr>\n",
       "    <tr>\n",
       "      <th>HRV</th>\n",
       "      <td>458</td>\n",
       "      <td>51.109649</td>\n",
       "      <td>10.394341</td>\n",
       "      <td>DEU</td>\n",
       "      <td>45.028188</td>\n",
       "      <td>16.392342</td>\n",
       "      <td>HRV</td>\n",
       "    </tr>\n",
       "  </tbody>\n",
       "</table>\n",
       "<p>196 rows × 7 columns</p>\n",
       "</div>"
      ],
      "text/plain": [
       "         cnt      o_lat      o_lon o_place      d_lat       d_lon d_place\n",
       "d_place                                                                  \n",
       "SLV       19  51.109649  10.394341     DEU  13.730563  -88.867003     SLV\n",
       "PYF        5  51.109649  10.394341     DEU -15.678132 -145.337231     PYF\n",
       "ESH       10  51.109649  10.394341     DEU  24.677812  -13.135041     ESH\n",
       "LBN       63  51.109649  10.394341     DEU  33.919718   35.891895     LBN\n",
       "PRK        3  51.109649  10.394341     DEU  40.134094  127.163059     PRK\n",
       "...      ...        ...        ...     ...        ...         ...     ...\n",
       "JEY       10  51.109649  10.394341     DEU  49.213496   -2.131762     JEY\n",
       "KAZ      178  51.109649  10.394341     DEU  48.157385   67.255176     KAZ\n",
       "TKM       18  51.109649  10.394341     DEU  39.192684   59.179260     TKM\n",
       "MLT      243  51.109649  10.394341     DEU  35.922939   14.399083     MLT\n",
       "HRV      458  51.109649  10.394341     DEU  45.028188   16.392342     HRV\n",
       "\n",
       "[196 rows x 7 columns]"
      ]
     },
     "execution_count": 656,
     "metadata": {},
     "output_type": "execute_result"
    }
   ],
   "source": [
    "df_c"
   ]
  },
  {
   "cell_type": "code",
   "execution_count": null,
   "metadata": {},
   "outputs": [],
   "source": []
  },
  {
   "cell_type": "code",
   "execution_count": 625,
   "metadata": {
    "ExecuteTime": {
     "end_time": "2021-03-18T01:45:27.045534Z",
     "start_time": "2021-03-18T01:45:24.782499Z"
    }
   },
   "outputs": [
    {
     "ename": "KeyError",
     "evalue": "'o_place'",
     "output_type": "error",
     "traceback": [
      "\u001b[1;31m---------------------------------------------------------------------------\u001b[0m",
      "\u001b[1;31mKeyError\u001b[0m                                  Traceback (most recent call last)",
      "\u001b[1;32mC:\\ProgramData\\Anaconda3\\envs\\gdal_env\\lib\\site-packages\\pandas\\core\\indexes\\base.py\u001b[0m in \u001b[0;36mget_loc\u001b[1;34m(self, key, method, tolerance)\u001b[0m\n\u001b[0;32m   3079\u001b[0m             \u001b[1;32mtry\u001b[0m\u001b[1;33m:\u001b[0m\u001b[1;33m\u001b[0m\u001b[1;33m\u001b[0m\u001b[0m\n\u001b[1;32m-> 3080\u001b[1;33m                 \u001b[1;32mreturn\u001b[0m \u001b[0mself\u001b[0m\u001b[1;33m.\u001b[0m\u001b[0m_engine\u001b[0m\u001b[1;33m.\u001b[0m\u001b[0mget_loc\u001b[0m\u001b[1;33m(\u001b[0m\u001b[0mcasted_key\u001b[0m\u001b[1;33m)\u001b[0m\u001b[1;33m\u001b[0m\u001b[1;33m\u001b[0m\u001b[0m\n\u001b[0m\u001b[0;32m   3081\u001b[0m             \u001b[1;32mexcept\u001b[0m \u001b[0mKeyError\u001b[0m \u001b[1;32mas\u001b[0m \u001b[0merr\u001b[0m\u001b[1;33m:\u001b[0m\u001b[1;33m\u001b[0m\u001b[1;33m\u001b[0m\u001b[0m\n",
      "\u001b[1;32mpandas\\_libs\\index.pyx\u001b[0m in \u001b[0;36mpandas._libs.index.IndexEngine.get_loc\u001b[1;34m()\u001b[0m\n",
      "\u001b[1;32mpandas\\_libs\\index.pyx\u001b[0m in \u001b[0;36mpandas._libs.index.IndexEngine.get_loc\u001b[1;34m()\u001b[0m\n",
      "\u001b[1;32mpandas\\_libs\\hashtable_class_helper.pxi\u001b[0m in \u001b[0;36mpandas._libs.hashtable.PyObjectHashTable.get_item\u001b[1;34m()\u001b[0m\n",
      "\u001b[1;32mpandas\\_libs\\hashtable_class_helper.pxi\u001b[0m in \u001b[0;36mpandas._libs.hashtable.PyObjectHashTable.get_item\u001b[1;34m()\u001b[0m\n",
      "\u001b[1;31mKeyError\u001b[0m: 'o_place'",
      "\nThe above exception was the direct cause of the following exception:\n",
      "\u001b[1;31mKeyError\u001b[0m                                  Traceback (most recent call last)",
      "\u001b[1;32m<ipython-input-625-e7702eb2ad1d>\u001b[0m in \u001b[0;36m<module>\u001b[1;34m\u001b[0m\n\u001b[0;32m      9\u001b[0m \u001b[0mr\u001b[0m \u001b[1;33m=\u001b[0m \u001b[0mrequests\u001b[0m\u001b[1;33m.\u001b[0m\u001b[0mget\u001b[0m\u001b[1;33m(\u001b[0m\u001b[0mq\u001b[0m\u001b[1;33m,\u001b[0m \u001b[0mparams\u001b[0m\u001b[1;33m=\u001b[0m\u001b[0mparams\u001b[0m\u001b[1;33m)\u001b[0m\u001b[1;33m\u001b[0m\u001b[1;33m\u001b[0m\u001b[0m\n\u001b[0;32m     10\u001b[0m \u001b[0mdf\u001b[0m \u001b[1;33m=\u001b[0m \u001b[0mpd\u001b[0m\u001b[1;33m.\u001b[0m\u001b[0mread_csv\u001b[0m\u001b[1;33m(\u001b[0m\u001b[0mStringIO\u001b[0m\u001b[1;33m(\u001b[0m\u001b[0mr\u001b[0m\u001b[1;33m.\u001b[0m\u001b[0mtext\u001b[0m\u001b[1;33m)\u001b[0m\u001b[1;33m)\u001b[0m\u001b[1;33m\u001b[0m\u001b[1;33m\u001b[0m\u001b[0m\n\u001b[1;32m---> 11\u001b[1;33m \u001b[0mdf\u001b[0m \u001b[1;33m=\u001b[0m \u001b[0mdf\u001b[0m\u001b[1;33m[\u001b[0m\u001b[0mdf\u001b[0m\u001b[1;33m[\u001b[0m\u001b[1;34m'o_place'\u001b[0m\u001b[1;33m]\u001b[0m \u001b[1;33m!=\u001b[0m \u001b[0mdf\u001b[0m\u001b[1;33m[\u001b[0m\u001b[1;34m'd_place'\u001b[0m\u001b[1;33m]\u001b[0m\u001b[1;33m]\u001b[0m\u001b[1;33m\u001b[0m\u001b[1;33m\u001b[0m\u001b[0m\n\u001b[0m\u001b[0;32m     12\u001b[0m \u001b[0mdf\u001b[0m\u001b[1;33m\u001b[0m\u001b[1;33m\u001b[0m\u001b[0m\n\u001b[0;32m     13\u001b[0m \u001b[1;31m# df['date'] = pd.to_datetime(df['date'])\u001b[0m\u001b[1;33m\u001b[0m\u001b[1;33m\u001b[0m\u001b[1;33m\u001b[0m\u001b[0m\n",
      "\u001b[1;32mC:\\ProgramData\\Anaconda3\\envs\\gdal_env\\lib\\site-packages\\pandas\\core\\frame.py\u001b[0m in \u001b[0;36m__getitem__\u001b[1;34m(self, key)\u001b[0m\n\u001b[0;32m   3022\u001b[0m             \u001b[1;32mif\u001b[0m \u001b[0mself\u001b[0m\u001b[1;33m.\u001b[0m\u001b[0mcolumns\u001b[0m\u001b[1;33m.\u001b[0m\u001b[0mnlevels\u001b[0m \u001b[1;33m>\u001b[0m \u001b[1;36m1\u001b[0m\u001b[1;33m:\u001b[0m\u001b[1;33m\u001b[0m\u001b[1;33m\u001b[0m\u001b[0m\n\u001b[0;32m   3023\u001b[0m                 \u001b[1;32mreturn\u001b[0m \u001b[0mself\u001b[0m\u001b[1;33m.\u001b[0m\u001b[0m_getitem_multilevel\u001b[0m\u001b[1;33m(\u001b[0m\u001b[0mkey\u001b[0m\u001b[1;33m)\u001b[0m\u001b[1;33m\u001b[0m\u001b[1;33m\u001b[0m\u001b[0m\n\u001b[1;32m-> 3024\u001b[1;33m             \u001b[0mindexer\u001b[0m \u001b[1;33m=\u001b[0m \u001b[0mself\u001b[0m\u001b[1;33m.\u001b[0m\u001b[0mcolumns\u001b[0m\u001b[1;33m.\u001b[0m\u001b[0mget_loc\u001b[0m\u001b[1;33m(\u001b[0m\u001b[0mkey\u001b[0m\u001b[1;33m)\u001b[0m\u001b[1;33m\u001b[0m\u001b[1;33m\u001b[0m\u001b[0m\n\u001b[0m\u001b[0;32m   3025\u001b[0m             \u001b[1;32mif\u001b[0m \u001b[0mis_integer\u001b[0m\u001b[1;33m(\u001b[0m\u001b[0mindexer\u001b[0m\u001b[1;33m)\u001b[0m\u001b[1;33m:\u001b[0m\u001b[1;33m\u001b[0m\u001b[1;33m\u001b[0m\u001b[0m\n\u001b[0;32m   3026\u001b[0m                 \u001b[0mindexer\u001b[0m \u001b[1;33m=\u001b[0m \u001b[1;33m[\u001b[0m\u001b[0mindexer\u001b[0m\u001b[1;33m]\u001b[0m\u001b[1;33m\u001b[0m\u001b[1;33m\u001b[0m\u001b[0m\n",
      "\u001b[1;32mC:\\ProgramData\\Anaconda3\\envs\\gdal_env\\lib\\site-packages\\pandas\\core\\indexes\\base.py\u001b[0m in \u001b[0;36mget_loc\u001b[1;34m(self, key, method, tolerance)\u001b[0m\n\u001b[0;32m   3080\u001b[0m                 \u001b[1;32mreturn\u001b[0m \u001b[0mself\u001b[0m\u001b[1;33m.\u001b[0m\u001b[0m_engine\u001b[0m\u001b[1;33m.\u001b[0m\u001b[0mget_loc\u001b[0m\u001b[1;33m(\u001b[0m\u001b[0mcasted_key\u001b[0m\u001b[1;33m)\u001b[0m\u001b[1;33m\u001b[0m\u001b[1;33m\u001b[0m\u001b[0m\n\u001b[0;32m   3081\u001b[0m             \u001b[1;32mexcept\u001b[0m \u001b[0mKeyError\u001b[0m \u001b[1;32mas\u001b[0m \u001b[0merr\u001b[0m\u001b[1;33m:\u001b[0m\u001b[1;33m\u001b[0m\u001b[1;33m\u001b[0m\u001b[0m\n\u001b[1;32m-> 3082\u001b[1;33m                 \u001b[1;32mraise\u001b[0m \u001b[0mKeyError\u001b[0m\u001b[1;33m(\u001b[0m\u001b[0mkey\u001b[0m\u001b[1;33m)\u001b[0m \u001b[1;32mfrom\u001b[0m \u001b[0merr\u001b[0m\u001b[1;33m\u001b[0m\u001b[1;33m\u001b[0m\u001b[0m\n\u001b[0m\u001b[0;32m   3083\u001b[0m \u001b[1;33m\u001b[0m\u001b[0m\n\u001b[0;32m   3084\u001b[0m         \u001b[1;32mif\u001b[0m \u001b[0mtolerance\u001b[0m \u001b[1;32mis\u001b[0m \u001b[1;32mnot\u001b[0m \u001b[1;32mNone\u001b[0m\u001b[1;33m:\u001b[0m\u001b[1;33m\u001b[0m\u001b[1;33m\u001b[0m\u001b[0m\n",
      "\u001b[1;31mKeyError\u001b[0m: 'o_place'"
     ]
    }
   ],
   "source": [
    "params = {\"operation\": \"od_by_place\",\n",
    "       \"odt_cube\": \"sg_od_2020_county\",\n",
    "        \"place\": str(target_FIPS),\n",
    "       \"begin\": \"01/01/2020\",\n",
    "       \"end\": \"12/31/2020\",\n",
    "       \"direction\": \"both\"}\n",
    "\n",
    "q = r'http://gis.cas.sc.edu/GeoAnalytics/REST'\n",
    "r = requests.get(q, params=params)\n",
    "df = pd.read_csv(StringIO(r.text))\n",
    "df = df[df['o_place'] != df['d_place']]\n",
    "\n",
    "# df['date'] = pd.to_datetime(df['date'])\n",
    "# df = df.set_index('date')\n",
    "\n",
    "# dfs = []\n",
    "# gdf_counties = []\n",
    "\n",
    "# for target_place in G7:\n",
    "#     df_t = df[df['place'].str[:3] == target_place]\n",
    "#     dfs.append(df_t)\n",
    "    \n",
    "#     geo = gdf[gdf['GID_1'].str[:3] == target_place]\n",
    "#     gdf_counties.append(geo)\n",
    "    \n",
    "# df_G7 = pd.concat(dfs)\n",
    "# print(df_G7)\n",
    "# gdf_counties = gpd.concat(gdf_counties, axis=0)\n",
    "# gdf_counties.plot(figsize=(20, 10))"
   ]
  },
  {
   "cell_type": "code",
   "execution_count": 606,
   "metadata": {
    "ExecuteTime": {
     "end_time": "2021-03-18T01:23:39.474740Z",
     "start_time": "2021-03-18T01:23:28.636972Z"
    }
   },
   "outputs": [],
   "source": [
    "df_countries = []\n",
    "dict_counties = {}\n",
    "\n",
    "for target_place in G7:\n",
    "    params = {\"operation\": \"get_flow_by_place\",\n",
    "              \"source\": \"twitter\",\n",
    "        \"scale\": \"world_country\",\n",
    "        \"place\": str(target_place),\n",
    "       \"begin\": \"01/01/2019\",\n",
    "       \"end\": \"12/31/2019\",\n",
    "       \"direction\": \"both\"}\n",
    "\n",
    "    q = r'http://gis.cas.sc.edu/GeoAnalytics/REST'\n",
    "    r = requests.get(q, params=params)\n",
    "    df = pd.read_csv(StringIO(r.text))\n",
    "    dict_counties[target_place] = df\n"
   ]
  },
  {
   "cell_type": "code",
   "execution_count": 589,
   "metadata": {
    "ExecuteTime": {
     "end_time": "2021-03-18T01:12:09.809776Z",
     "start_time": "2021-03-18T01:12:09.789832Z"
    }
   },
   "outputs": [
    {
     "name": "stdout",
     "output_type": "stream",
     "text": [
      "User Guide: https://docs.kepler.gl/docs/keplergl-jupyter\n"
     ]
    },
    {
     "data": {
      "application/vnd.jupyter.widget-view+json": {
       "model_id": "d28fcac6e3844a5eacf4c4480649f171",
       "version_major": 2,
       "version_minor": 0
      },
      "text/plain": [
       "KeplerGl(data={'G7': {'index': [13688, 7467, 16670, 5426, 7095, 5423, 7327, 4114, 15082, 18706, 17293, 5672, 2…"
      ]
     },
     "metadata": {},
     "output_type": "display_data"
    }
   ],
   "source": [
    "kepler_cfg_file = r'kepler_cfg.json'\n",
    "kepler_cfg = json.load(open(kepler_cfg_file, 'r'))\n",
    "map_2 = KeplerGl(height = 600)\n",
    "# map_2.config = kepler_cfg\n",
    "\n",
    "map_2.add_data(data=dict_counties[\"FRA\"], name='G7')\n",
    "\n",
    " \n",
    "map_2"
   ]
  },
  {
   "cell_type": "code",
   "execution_count": 582,
   "metadata": {
    "ExecuteTime": {
     "end_time": "2021-03-18T01:04:47.570075Z",
     "start_time": "2021-03-18T01:04:47.533224Z"
    }
   },
   "outputs": [
    {
     "data": {
      "text/html": [
       "<div>\n",
       "<style scoped>\n",
       "    .dataframe tbody tr th:only-of-type {\n",
       "        vertical-align: middle;\n",
       "    }\n",
       "\n",
       "    .dataframe tbody tr th {\n",
       "        vertical-align: top;\n",
       "    }\n",
       "\n",
       "    .dataframe thead th {\n",
       "        text-align: right;\n",
       "    }\n",
       "</style>\n",
       "<table border=\"1\" class=\"dataframe\">\n",
       "  <thead>\n",
       "    <tr style=\"text-align: right;\">\n",
       "      <th></th>\n",
       "      <th>o_place</th>\n",
       "      <th>d_place</th>\n",
       "      <th>cnt</th>\n",
       "      <th>o_lat</th>\n",
       "      <th>o_lon</th>\n",
       "      <th>d_lat</th>\n",
       "      <th>d_lon</th>\n",
       "    </tr>\n",
       "  </thead>\n",
       "  <tbody>\n",
       "    <tr>\n",
       "      <th>87</th>\n",
       "      <td>FRA</td>\n",
       "      <td>KOR</td>\n",
       "      <td>283</td>\n",
       "      <td>47.842</td>\n",
       "      <td>2.772</td>\n",
       "      <td>36.936</td>\n",
       "      <td>127.298</td>\n",
       "    </tr>\n",
       "    <tr>\n",
       "      <th>105</th>\n",
       "      <td>FRA</td>\n",
       "      <td>ISR</td>\n",
       "      <td>275</td>\n",
       "      <td>47.930</td>\n",
       "      <td>2.791</td>\n",
       "      <td>31.595</td>\n",
       "      <td>34.953</td>\n",
       "    </tr>\n",
       "    <tr>\n",
       "      <th>109</th>\n",
       "      <td>FRA</td>\n",
       "      <td>ALB</td>\n",
       "      <td>40</td>\n",
       "      <td>47.694</td>\n",
       "      <td>3.255</td>\n",
       "      <td>41.148</td>\n",
       "      <td>20.002</td>\n",
       "    </tr>\n",
       "    <tr>\n",
       "      <th>231</th>\n",
       "      <td>FRA</td>\n",
       "      <td>GRC</td>\n",
       "      <td>667</td>\n",
       "      <td>47.864</td>\n",
       "      <td>3.059</td>\n",
       "      <td>37.633</td>\n",
       "      <td>23.971</td>\n",
       "    </tr>\n",
       "    <tr>\n",
       "      <th>269</th>\n",
       "      <td>FRA</td>\n",
       "      <td>AGO</td>\n",
       "      <td>12</td>\n",
       "      <td>48.174</td>\n",
       "      <td>2.202</td>\n",
       "      <td>-10.716</td>\n",
       "      <td>17.258</td>\n",
       "    </tr>\n",
       "    <tr>\n",
       "      <th>...</th>\n",
       "      <td>...</td>\n",
       "      <td>...</td>\n",
       "      <td>...</td>\n",
       "      <td>...</td>\n",
       "      <td>...</td>\n",
       "      <td>...</td>\n",
       "      <td>...</td>\n",
       "    </tr>\n",
       "    <tr>\n",
       "      <th>19758</th>\n",
       "      <td>CHN</td>\n",
       "      <td>FRA</td>\n",
       "      <td>231</td>\n",
       "      <td>33.486</td>\n",
       "      <td>111.788</td>\n",
       "      <td>48.141</td>\n",
       "      <td>2.834</td>\n",
       "    </tr>\n",
       "    <tr>\n",
       "      <th>19904</th>\n",
       "      <td>UZB</td>\n",
       "      <td>FRA</td>\n",
       "      <td>40</td>\n",
       "      <td>42.073</td>\n",
       "      <td>65.520</td>\n",
       "      <td>47.574</td>\n",
       "      <td>3.038</td>\n",
       "    </tr>\n",
       "    <tr>\n",
       "      <th>19985</th>\n",
       "      <td>BRA</td>\n",
       "      <td>FRA</td>\n",
       "      <td>2870</td>\n",
       "      <td>-20.712</td>\n",
       "      <td>-45.222</td>\n",
       "      <td>48.016</td>\n",
       "      <td>2.627</td>\n",
       "    </tr>\n",
       "    <tr>\n",
       "      <th>20268</th>\n",
       "      <td>LBY</td>\n",
       "      <td>FRA</td>\n",
       "      <td>49</td>\n",
       "      <td>27.640</td>\n",
       "      <td>17.522</td>\n",
       "      <td>47.502</td>\n",
       "      <td>2.941</td>\n",
       "    </tr>\n",
       "    <tr>\n",
       "      <th>20274</th>\n",
       "      <td>LAO</td>\n",
       "      <td>FRA</td>\n",
       "      <td>3</td>\n",
       "      <td>17.272</td>\n",
       "      <td>103.590</td>\n",
       "      <td>49.209</td>\n",
       "      <td>4.226</td>\n",
       "    </tr>\n",
       "  </tbody>\n",
       "</table>\n",
       "<p>411 rows × 7 columns</p>\n",
       "</div>"
      ],
      "text/plain": [
       "      o_place d_place   cnt   o_lat    o_lon   d_lat    d_lon\n",
       "87        FRA     KOR   283  47.842    2.772  36.936  127.298\n",
       "105       FRA     ISR   275  47.930    2.791  31.595   34.953\n",
       "109       FRA     ALB    40  47.694    3.255  41.148   20.002\n",
       "231       FRA     GRC   667  47.864    3.059  37.633   23.971\n",
       "269       FRA     AGO    12  48.174    2.202 -10.716   17.258\n",
       "...       ...     ...   ...     ...      ...     ...      ...\n",
       "19758     CHN     FRA   231  33.486  111.788  48.141    2.834\n",
       "19904     UZB     FRA    40  42.073   65.520  47.574    3.038\n",
       "19985     BRA     FRA  2870 -20.712  -45.222  48.016    2.627\n",
       "20268     LBY     FRA    49  27.640   17.522  47.502    2.941\n",
       "20274     LAO     FRA     3  17.272  103.590  49.209    4.226\n",
       "\n",
       "[411 rows x 7 columns]"
      ]
     },
     "execution_count": 582,
     "metadata": {},
     "output_type": "execute_result"
    }
   ],
   "source": [
    "dict_counties[\"FRA\"]"
   ]
  },
  {
   "cell_type": "markdown",
   "metadata": {
    "ExecuteTime": {
     "end_time": "2021-03-17T21:30:02.415350Z",
     "start_time": "2021-03-17T21:30:02.407420Z"
    }
   },
   "source": [
    "# Case study: Find the most binded countries (not finished)"
   ]
  },
  {
   "cell_type": "code",
   "execution_count": 569,
   "metadata": {
    "ExecuteTime": {
     "end_time": "2021-03-17T21:47:33.740401Z",
     "start_time": "2021-03-17T21:47:32.354097Z"
    }
   },
   "outputs": [
    {
     "data": {
      "text/html": [
       "<div>\n",
       "<style scoped>\n",
       "    .dataframe tbody tr th:only-of-type {\n",
       "        vertical-align: middle;\n",
       "    }\n",
       "\n",
       "    .dataframe tbody tr th {\n",
       "        vertical-align: top;\n",
       "    }\n",
       "\n",
       "    .dataframe thead th {\n",
       "        text-align: right;\n",
       "    }\n",
       "</style>\n",
       "<table border=\"1\" class=\"dataframe\">\n",
       "  <thead>\n",
       "    <tr style=\"text-align: right;\">\n",
       "      <th></th>\n",
       "      <th>o_place</th>\n",
       "      <th>d_place</th>\n",
       "      <th>cnt</th>\n",
       "      <th>o_lat</th>\n",
       "      <th>o_lon</th>\n",
       "      <th>d_lat</th>\n",
       "      <th>d_lon</th>\n",
       "    </tr>\n",
       "  </thead>\n",
       "  <tbody>\n",
       "    <tr>\n",
       "      <th>10226</th>\n",
       "      <td>LAO</td>\n",
       "      <td>MAC</td>\n",
       "      <td>1</td>\n",
       "      <td>16.607</td>\n",
       "      <td>104.905</td>\n",
       "      <td>22.118</td>\n",
       "      <td>113.551</td>\n",
       "    </tr>\n",
       "    <tr>\n",
       "      <th>9762</th>\n",
       "      <td>FJI</td>\n",
       "      <td>EGY</td>\n",
       "      <td>1</td>\n",
       "      <td>-18.142</td>\n",
       "      <td>178.442</td>\n",
       "      <td>30.049</td>\n",
       "      <td>31.244</td>\n",
       "    </tr>\n",
       "    <tr>\n",
       "      <th>9758</th>\n",
       "      <td>AFG</td>\n",
       "      <td>SYR</td>\n",
       "      <td>1</td>\n",
       "      <td>32.064</td>\n",
       "      <td>62.408</td>\n",
       "      <td>34.805</td>\n",
       "      <td>40.868</td>\n",
       "    </tr>\n",
       "    <tr>\n",
       "      <th>9757</th>\n",
       "      <td>COL</td>\n",
       "      <td>CPV</td>\n",
       "      <td>1</td>\n",
       "      <td>10.463</td>\n",
       "      <td>-75.505</td>\n",
       "      <td>16.737</td>\n",
       "      <td>-22.936</td>\n",
       "    </tr>\n",
       "    <tr>\n",
       "      <th>9752</th>\n",
       "      <td>HRV</td>\n",
       "      <td>SLV</td>\n",
       "      <td>1</td>\n",
       "      <td>43.043</td>\n",
       "      <td>16.093</td>\n",
       "      <td>13.669</td>\n",
       "      <td>-88.866</td>\n",
       "    </tr>\n",
       "    <tr>\n",
       "      <th>...</th>\n",
       "      <td>...</td>\n",
       "      <td>...</td>\n",
       "      <td>...</td>\n",
       "      <td>...</td>\n",
       "      <td>...</td>\n",
       "      <td>...</td>\n",
       "      <td>...</td>\n",
       "    </tr>\n",
       "    <tr>\n",
       "      <th>18787</th>\n",
       "      <td>USA</td>\n",
       "      <td>ESP</td>\n",
       "      <td>49583</td>\n",
       "      <td>36.871</td>\n",
       "      <td>-91.426</td>\n",
       "      <td>41.983</td>\n",
       "      <td>-0.010</td>\n",
       "    </tr>\n",
       "    <tr>\n",
       "      <th>6001</th>\n",
       "      <td>USA</td>\n",
       "      <td>MEX</td>\n",
       "      <td>51754</td>\n",
       "      <td>33.436</td>\n",
       "      <td>-103.775</td>\n",
       "      <td>25.400</td>\n",
       "      <td>-103.918</td>\n",
       "    </tr>\n",
       "    <tr>\n",
       "      <th>14210</th>\n",
       "      <td>USA</td>\n",
       "      <td>CAN</td>\n",
       "      <td>55383</td>\n",
       "      <td>40.196</td>\n",
       "      <td>-93.279</td>\n",
       "      <td>46.545</td>\n",
       "      <td>-91.064</td>\n",
       "    </tr>\n",
       "    <tr>\n",
       "      <th>2291</th>\n",
       "      <td>CAN</td>\n",
       "      <td>USA</td>\n",
       "      <td>58227</td>\n",
       "      <td>46.076</td>\n",
       "      <td>-90.924</td>\n",
       "      <td>40.406</td>\n",
       "      <td>-93.342</td>\n",
       "    </tr>\n",
       "    <tr>\n",
       "      <th>16710</th>\n",
       "      <td>MEX</td>\n",
       "      <td>USA</td>\n",
       "      <td>58900</td>\n",
       "      <td>25.458</td>\n",
       "      <td>-103.908</td>\n",
       "      <td>33.521</td>\n",
       "      <td>-104.145</td>\n",
       "    </tr>\n",
       "  </tbody>\n",
       "</table>\n",
       "<p>20204 rows × 7 columns</p>\n",
       "</div>"
      ],
      "text/plain": [
       "      o_place d_place    cnt   o_lat    o_lon   d_lat    d_lon\n",
       "10226     LAO     MAC      1  16.607  104.905  22.118  113.551\n",
       "9762      FJI     EGY      1 -18.142  178.442  30.049   31.244\n",
       "9758      AFG     SYR      1  32.064   62.408  34.805   40.868\n",
       "9757      COL     CPV      1  10.463  -75.505  16.737  -22.936\n",
       "9752      HRV     SLV      1  43.043   16.093  13.669  -88.866\n",
       "...       ...     ...    ...     ...      ...     ...      ...\n",
       "18787     USA     ESP  49583  36.871  -91.426  41.983   -0.010\n",
       "6001      USA     MEX  51754  33.436 -103.775  25.400 -103.918\n",
       "14210     USA     CAN  55383  40.196  -93.279  46.545  -91.064\n",
       "2291      CAN     USA  58227  46.076  -90.924  40.406  -93.342\n",
       "16710     MEX     USA  58900  25.458 -103.908  33.521 -104.145\n",
       "\n",
       "[20204 rows x 7 columns]"
      ]
     },
     "execution_count": 569,
     "metadata": {},
     "output_type": "execute_result"
    }
   ],
   "source": [
    "params = {\"operation\": \"od_extract_data\",\n",
    "       \"odt_cube\": \"twitter_od_2019_country\",\n",
    "       \"begin\": \"01/01/2019\" ,\n",
    "       \"end\": \"12/31/2019\",\n",
    "       \"bbox\": \"-90,90,-180,180\",\n",
    "       \"type\": \"aggregated\"}\n",
    "\n",
    "q = r'http://gis.cas.sc.edu/GeoAnalytics/REST'\n",
    "r = requests.get(q, params=params)\n",
    "df = pd.read_csv(StringIO(r.text))\n",
    "df = df[df['o_place'] != df['d_place']]\n",
    "df = df.sort_values(\"cnt\")\n",
    "\n",
    "df"
   ]
  },
  {
   "cell_type": "code",
   "execution_count": 570,
   "metadata": {
    "ExecuteTime": {
     "end_time": "2021-03-17T21:48:47.512007Z",
     "start_time": "2021-03-17T21:48:47.007369Z"
    }
   },
   "outputs": [
    {
     "name": "stdout",
     "output_type": "stream",
     "text": [
      "User Guide: https://docs.kepler.gl/docs/keplergl-jupyter\n"
     ]
    },
    {
     "data": {
      "application/vnd.jupyter.widget-view+json": {
       "model_id": "9a4a3b11f7d449259d2929e91cf32eff",
       "version_major": 2,
       "version_minor": 0
      },
      "text/plain": [
       "KeplerGl(data={'counties_flows': {'index': [10226, 9762, 9758, 9757, 9752, 9742, 9741, 9738, 9736, 9732, 9729,…"
      ]
     },
     "metadata": {},
     "output_type": "display_data"
    }
   ],
   "source": [
    "kepler_cfg_file = r'kepler_cfg.json'\n",
    "kepler_cfg = json.load(open(kepler_cfg_file, 'r'))\n",
    "map_2 = KeplerGl(height = 600)\n",
    "# map_2.config = kepler_cfg\n",
    "\n",
    "map_2.add_data(data=df, name='counties_flows')\n",
    "\n",
    "map_2"
   ]
  },
  {
   "cell_type": "markdown",
   "metadata": {},
   "source": [
    "# Case study 3: Impact of Covid-19 on international travels to the Great Britain  in 2020\n",
    "\n",
    "In this case, we are going to show the impact of Covid-19 on international travels to the Great Britain (GBR) in 2020. \n",
    "\n",
    "First, international flows involving GBR are extracted from ODT `twitter_od_2019_country` and ODT `twitter_od_2020_country`. Both `inflow` and `outflow` are extracted. These flows are aggregated into daily summations about 700 days. The results are smoothed using a 7-day period so the fluctuation between weekends and weekdays will be removed.\n",
    "\n",
    "Second, we plot the daily flow numbers into two annual lines. Thus the trends of two years can be easily compared. "
   ]
  },
  {
   "cell_type": "markdown",
   "metadata": {},
   "source": [
    "## extract data"
   ]
  },
  {
   "cell_type": "code",
   "execution_count": 6,
   "metadata": {
    "code_folding": [],
    "scrolled": false
   },
   "outputs": [
    {
     "data": {
      "text/html": [
       "<div>\n",
       "<style scoped>\n",
       "    .dataframe tbody tr th:only-of-type {\n",
       "        vertical-align: middle;\n",
       "    }\n",
       "\n",
       "    .dataframe tbody tr th {\n",
       "        vertical-align: top;\n",
       "    }\n",
       "\n",
       "    .dataframe thead th {\n",
       "        text-align: right;\n",
       "    }\n",
       "</style>\n",
       "<table border=\"1\" class=\"dataframe\">\n",
       "  <thead>\n",
       "    <tr style=\"text-align: right;\">\n",
       "      <th></th>\n",
       "      <th>count</th>\n",
       "      <th>month_day</th>\n",
       "      <th>date</th>\n",
       "      <th>year</th>\n",
       "    </tr>\n",
       "    <tr>\n",
       "      <th>date</th>\n",
       "      <th></th>\n",
       "      <th></th>\n",
       "      <th></th>\n",
       "      <th></th>\n",
       "    </tr>\n",
       "  </thead>\n",
       "  <tbody>\n",
       "    <tr>\n",
       "      <th>2019-01-01</th>\n",
       "      <td>1256</td>\n",
       "      <td>01-01</td>\n",
       "      <td>2019-01-01</td>\n",
       "      <td>2019</td>\n",
       "    </tr>\n",
       "    <tr>\n",
       "      <th>2019-01-02</th>\n",
       "      <td>1166</td>\n",
       "      <td>01-02</td>\n",
       "      <td>2019-01-02</td>\n",
       "      <td>2019</td>\n",
       "    </tr>\n",
       "    <tr>\n",
       "      <th>2019-01-03</th>\n",
       "      <td>1160</td>\n",
       "      <td>01-03</td>\n",
       "      <td>2019-01-03</td>\n",
       "      <td>2019</td>\n",
       "    </tr>\n",
       "    <tr>\n",
       "      <th>2019-01-04</th>\n",
       "      <td>1129</td>\n",
       "      <td>01-04</td>\n",
       "      <td>2019-01-04</td>\n",
       "      <td>2019</td>\n",
       "    </tr>\n",
       "    <tr>\n",
       "      <th>2019-01-05</th>\n",
       "      <td>1113</td>\n",
       "      <td>01-05</td>\n",
       "      <td>2019-01-05</td>\n",
       "      <td>2019</td>\n",
       "    </tr>\n",
       "    <tr>\n",
       "      <th>...</th>\n",
       "      <td>...</td>\n",
       "      <td>...</td>\n",
       "      <td>...</td>\n",
       "      <td>...</td>\n",
       "    </tr>\n",
       "    <tr>\n",
       "      <th>2020-12-26</th>\n",
       "      <td>286</td>\n",
       "      <td>12-26</td>\n",
       "      <td>2020-12-26</td>\n",
       "      <td>2020</td>\n",
       "    </tr>\n",
       "    <tr>\n",
       "      <th>2020-12-27</th>\n",
       "      <td>270</td>\n",
       "      <td>12-27</td>\n",
       "      <td>2020-12-27</td>\n",
       "      <td>2020</td>\n",
       "    </tr>\n",
       "    <tr>\n",
       "      <th>2020-12-28</th>\n",
       "      <td>263</td>\n",
       "      <td>12-28</td>\n",
       "      <td>2020-12-28</td>\n",
       "      <td>2020</td>\n",
       "    </tr>\n",
       "    <tr>\n",
       "      <th>2020-12-29</th>\n",
       "      <td>264</td>\n",
       "      <td>12-29</td>\n",
       "      <td>2020-12-29</td>\n",
       "      <td>2020</td>\n",
       "    </tr>\n",
       "    <tr>\n",
       "      <th>2020-12-30</th>\n",
       "      <td>263</td>\n",
       "      <td>12-30</td>\n",
       "      <td>2020-12-30</td>\n",
       "      <td>2020</td>\n",
       "    </tr>\n",
       "  </tbody>\n",
       "</table>\n",
       "<p>703 rows × 4 columns</p>\n",
       "</div>"
      ],
      "text/plain": [
       "            count month_day       date  year\n",
       "date                                        \n",
       "2019-01-01   1256     01-01 2019-01-01  2019\n",
       "2019-01-02   1166     01-02 2019-01-02  2019\n",
       "2019-01-03   1160     01-03 2019-01-03  2019\n",
       "2019-01-04   1129     01-04 2019-01-04  2019\n",
       "2019-01-05   1113     01-05 2019-01-05  2019\n",
       "...           ...       ...        ...   ...\n",
       "2020-12-26    286     12-26 2020-12-26  2020\n",
       "2020-12-27    270     12-27 2020-12-27  2020\n",
       "2020-12-28    263     12-28 2020-12-28  2020\n",
       "2020-12-29    264     12-29 2020-12-29  2020\n",
       "2020-12-30    263     12-30 2020-12-30  2020\n",
       "\n",
       "[703 rows x 4 columns]"
      ]
     },
     "execution_count": 6,
     "metadata": {},
     "output_type": "execute_result"
    }
   ],
   "source": [
    "query_place = \"GBR\"  # Great Britain\n",
    "rolling_width = 7  # width of smoothing window\n",
    "years = [2019, 2020]\n",
    "years = [str(y) for y in years]\n",
    "dfs = [] # store the results into a list\n",
    "\n",
    "for year in years:\n",
    "    odt_cube = f'twitter_od_{year}_country'\n",
    "    params = {\"operation\": \"od_daily_movement_by_place\",\n",
    "           \"odt_cube\": odt_cube,\n",
    "            \"place\": query_place,\n",
    "           \"direction\": \"both\"}\n",
    "    q = r'http://gis.cas.sc.edu/GeoAnalytics/REST'\n",
    "    r = requests.get(q, params=params)\n",
    "    df = pd.read_csv(StringIO(r.text), header=None, names=[\"date\", \"count\"])\n",
    "    df['date'] = pd.to_datetime(df['date'])\n",
    "    df = df.set_index('date')  \n",
    "    df['month_day'] = df.index.strftime(\"%m-%d\")    \n",
    "    df['date'] = df.index\n",
    "    df['year'] = df.index.year    \n",
    "    dfs.append(df)\n",
    "    \n",
    "df = pd.concat(dfs, axis=0)\n",
    "df['count'] = df['count'].rolling(rolling_width, min_periods=1).mean().astype(int) # smoothing\n",
    "df"
   ]
  },
  {
   "cell_type": "markdown",
   "metadata": {},
   "source": [
    "## plot data"
   ]
  },
  {
   "cell_type": "markdown",
   "metadata": {},
   "source": [
    "Prepare data."
   ]
  },
  {
   "cell_type": "code",
   "execution_count": 8,
   "metadata": {
    "scrolled": false
   },
   "outputs": [
    {
     "data": {
      "text/html": [
       "<div>\n",
       "<style scoped>\n",
       "    .dataframe tbody tr th:only-of-type {\n",
       "        vertical-align: middle;\n",
       "    }\n",
       "\n",
       "    .dataframe tbody tr th {\n",
       "        vertical-align: top;\n",
       "    }\n",
       "\n",
       "    .dataframe thead th {\n",
       "        text-align: right;\n",
       "    }\n",
       "</style>\n",
       "<table border=\"1\" class=\"dataframe\">\n",
       "  <thead>\n",
       "    <tr style=\"text-align: right;\">\n",
       "      <th></th>\n",
       "      <th>2019</th>\n",
       "      <th>2020</th>\n",
       "    </tr>\n",
       "    <tr>\n",
       "      <th>month_day</th>\n",
       "      <th></th>\n",
       "      <th></th>\n",
       "    </tr>\n",
       "  </thead>\n",
       "  <tbody>\n",
       "    <tr>\n",
       "      <th>01-01</th>\n",
       "      <td>1256.0</td>\n",
       "      <td>835.0</td>\n",
       "    </tr>\n",
       "    <tr>\n",
       "      <th>01-02</th>\n",
       "      <td>1166.0</td>\n",
       "      <td>886.0</td>\n",
       "    </tr>\n",
       "    <tr>\n",
       "      <th>01-03</th>\n",
       "      <td>1160.0</td>\n",
       "      <td>909.0</td>\n",
       "    </tr>\n",
       "    <tr>\n",
       "      <th>01-04</th>\n",
       "      <td>1129.0</td>\n",
       "      <td>921.0</td>\n",
       "    </tr>\n",
       "    <tr>\n",
       "      <th>01-05</th>\n",
       "      <td>1113.0</td>\n",
       "      <td>933.0</td>\n",
       "    </tr>\n",
       "    <tr>\n",
       "      <th>...</th>\n",
       "      <td>...</td>\n",
       "      <td>...</td>\n",
       "    </tr>\n",
       "    <tr>\n",
       "      <th>12-26</th>\n",
       "      <td>815.0</td>\n",
       "      <td>286.0</td>\n",
       "    </tr>\n",
       "    <tr>\n",
       "      <th>12-27</th>\n",
       "      <td>802.0</td>\n",
       "      <td>270.0</td>\n",
       "    </tr>\n",
       "    <tr>\n",
       "      <th>12-28</th>\n",
       "      <td>791.0</td>\n",
       "      <td>263.0</td>\n",
       "    </tr>\n",
       "    <tr>\n",
       "      <th>12-29</th>\n",
       "      <td>781.0</td>\n",
       "      <td>264.0</td>\n",
       "    </tr>\n",
       "    <tr>\n",
       "      <th>12-30</th>\n",
       "      <td>780.0</td>\n",
       "      <td>263.0</td>\n",
       "    </tr>\n",
       "  </tbody>\n",
       "</table>\n",
       "<p>365 rows × 2 columns</p>\n",
       "</div>"
      ],
      "text/plain": [
       "             2019   2020\n",
       "month_day               \n",
       "01-01      1256.0  835.0\n",
       "01-02      1166.0  886.0\n",
       "01-03      1160.0  909.0\n",
       "01-04      1129.0  921.0\n",
       "01-05      1113.0  933.0\n",
       "...           ...    ...\n",
       "12-26       815.0  286.0\n",
       "12-27       802.0  270.0\n",
       "12-28       791.0  263.0\n",
       "12-29       781.0  264.0\n",
       "12-30       780.0  263.0\n",
       "\n",
       "[365 rows x 2 columns]"
      ]
     },
     "execution_count": 8,
     "metadata": {},
     "output_type": "execute_result"
    }
   ],
   "source": [
    "df_plot = []\n",
    "for year in years:\n",
    "    d = df.loc[str(year)].set_index(\"month_day\")\n",
    "    d[year] = d['count']\n",
    "    d = d.drop(['count', \"date\", 'year'], axis=1)\n",
    "    df_plot.append(d)\n",
    "    \n",
    "df_plot2 = pd.concat(df_plot, axis = 1)\n",
    "df_plot2 = df_plot2.sort_index()\n",
    "df_plot2"
   ]
  },
  {
   "cell_type": "markdown",
   "metadata": {},
   "source": [
    "Plot data. We can see a dramtical drop of international travel since the beginning of March in 2020. There are some gaps due to the lack of data."
   ]
  },
  {
   "cell_type": "code",
   "execution_count": 12,
   "metadata": {},
   "outputs": [
    {
     "data": {
      "text/plain": [
       "<matplotlib.axes._subplots.AxesSubplot at 0x1d30e3b77b8>"
      ]
     },
     "execution_count": 12,
     "metadata": {},
     "output_type": "execute_result"
    },
    {
     "data": {
      "image/png": "[encoded data removed]",
      "text/plain": [
       "<Figure size 1440x720 with 1 Axes>"
      ]
     },
     "metadata": {
      "needs_background": "light"
     },
     "output_type": "display_data"
    }
   ],
   "source": [
    "df_plot2.plot(y=years,figsize=(20,10), title=\"Great Britain International Travel Dropped in 2020\")"
   ]
  },
  {
   "cell_type": "markdown",
   "metadata": {},
   "source": [
    "# Case Study 4: Chicago's top-20 connected out-state counties in 2019.\n",
    "\n",
    "In this case, we investigate the top-20 counties has the most connection with Chicago. Connection refers to the number of flows between to places. Flows involved in Chicago (both inflow and outflow) are derived from SafeGraph data, then are aggreated into county-level. Finally, the top-20 counties having flows with Chicago are extracted.\n",
    "\n",
    "We also show how to map results from ODT Explorer using Keplergl."
   ]
  },
  {
   "cell_type": "markdown",
   "metadata": {},
   "source": [
    "## extract data\n",
    "\n",
    "Grab data from SafeGraph country OD cude of 2019. It may take 2 minutes."
   ]
  },
  {
   "cell_type": "code",
   "execution_count": 2,
   "metadata": {
    "ExecuteTime": {
     "end_time": "2021-03-16T16:39:14.738499Z",
     "start_time": "2021-03-16T16:38:17.290433Z"
    },
    "scrolled": true
   },
   "outputs": [
    {
     "name": "stdout",
     "output_type": "stream",
     "text": [
      "Fetching data...\n",
      "Number of records: 3209\n"
     ]
    },
    {
     "data": {
      "text/html": [
       "<div>\n",
       "<style scoped>\n",
       "    .dataframe tbody tr th:only-of-type {\n",
       "        vertical-align: middle;\n",
       "    }\n",
       "\n",
       "    .dataframe tbody tr th {\n",
       "        vertical-align: top;\n",
       "    }\n",
       "\n",
       "    .dataframe thead th {\n",
       "        text-align: right;\n",
       "    }\n",
       "</style>\n",
       "<table border=\"1\" class=\"dataframe\">\n",
       "  <thead>\n",
       "    <tr style=\"text-align: right;\">\n",
       "      <th></th>\n",
       "      <th>o_place</th>\n",
       "      <th>d_place</th>\n",
       "      <th>cnt</th>\n",
       "      <th>o_lat</th>\n",
       "      <th>o_lon</th>\n",
       "      <th>d_lat</th>\n",
       "      <th>d_lon</th>\n",
       "    </tr>\n",
       "  </thead>\n",
       "  <tbody>\n",
       "    <tr>\n",
       "      <th>966</th>\n",
       "      <td>20057</td>\n",
       "      <td>17031</td>\n",
       "      <td>1550</td>\n",
       "      <td>37.757</td>\n",
       "      <td>-100.013</td>\n",
       "      <td>41.877</td>\n",
       "      <td>-87.727</td>\n",
       "    </tr>\n",
       "    <tr>\n",
       "      <th>2200</th>\n",
       "      <td>29023</td>\n",
       "      <td>17031</td>\n",
       "      <td>6760</td>\n",
       "      <td>36.749</td>\n",
       "      <td>-90.422</td>\n",
       "      <td>41.862</td>\n",
       "      <td>-87.718</td>\n",
       "    </tr>\n",
       "    <tr>\n",
       "      <th>10010</th>\n",
       "      <td>17011</td>\n",
       "      <td>17031</td>\n",
       "      <td>16447</td>\n",
       "      <td>41.380</td>\n",
       "      <td>-89.410</td>\n",
       "      <td>41.871</td>\n",
       "      <td>-87.766</td>\n",
       "    </tr>\n",
       "    <tr>\n",
       "      <th>12122</th>\n",
       "      <td>12045</td>\n",
       "      <td>17031</td>\n",
       "      <td>150</td>\n",
       "      <td>29.825</td>\n",
       "      <td>-85.290</td>\n",
       "      <td>41.894</td>\n",
       "      <td>-87.765</td>\n",
       "    </tr>\n",
       "    <tr>\n",
       "      <th>12822</th>\n",
       "      <td>42025</td>\n",
       "      <td>17031</td>\n",
       "      <td>728</td>\n",
       "      <td>40.877</td>\n",
       "      <td>-75.700</td>\n",
       "      <td>41.893</td>\n",
       "      <td>-87.791</td>\n",
       "    </tr>\n",
       "  </tbody>\n",
       "</table>\n",
       "</div>"
      ],
      "text/plain": [
       "      o_place d_place    cnt   o_lat    o_lon   d_lat   d_lon\n",
       "966     20057   17031   1550  37.757 -100.013  41.877 -87.727\n",
       "2200    29023   17031   6760  36.749  -90.422  41.862 -87.718\n",
       "10010   17011   17031  16447  41.380  -89.410  41.871 -87.766\n",
       "12122   12045   17031    150  29.825  -85.290  41.894 -87.765\n",
       "12822   42025   17031    728  40.877  -75.700  41.893 -87.791"
      ]
     },
     "execution_count": 2,
     "metadata": {},
     "output_type": "execute_result"
    }
   ],
   "source": [
    "target_FIPS = \"17031\"  # Cook County in Chicago\n",
    "\n",
    "params = {\"operation\": \"od_extract_data\",\n",
    "       \"odt_cube\": \"sg_od_2019_county\",\n",
    "       \"begin\": \"01/01/2019\" ,\n",
    "       \"end\": \"12/31/2019\",\n",
    "       \"bbox\": \"-90,90,-180,180\",\n",
    "       \"type\": \"aggregated\"}\n",
    "\n",
    "print(\"Fetching data...\")\n",
    "q = r'http://gis.cas.sc.edu/GeoAnalytics/REST'\n",
    "r = requests.get(q, params=params)\n",
    "\n",
    "df = pd.read_csv(StringIO(r.text))\n",
    "df = df[df['d_place'] != df['o_place']]\n",
    "\n",
    "\n",
    "df['o_place'] = df['o_place'].astype(str).str.zfill(5)\n",
    "df['d_place'] = df['d_place'].astype(str).str.zfill(5)\n",
    "\n",
    "df = df[df['d_place'] == target_FIPS]\n",
    "print(\"Number of records:\", len(df))\n",
    "df.head()"
   ]
  },
  {
   "cell_type": "code",
   "execution_count": 4,
   "metadata": {
    "ExecuteTime": {
     "end_time": "2021-03-16T16:40:18.959808Z",
     "start_time": "2021-03-16T16:40:18.937888Z"
    }
   },
   "outputs": [
    {
     "data": {
      "text/html": [
       "<div>\n",
       "<style scoped>\n",
       "    .dataframe tbody tr th:only-of-type {\n",
       "        vertical-align: middle;\n",
       "    }\n",
       "\n",
       "    .dataframe tbody tr th {\n",
       "        vertical-align: top;\n",
       "    }\n",
       "\n",
       "    .dataframe thead th {\n",
       "        text-align: right;\n",
       "    }\n",
       "</style>\n",
       "<table border=\"1\" class=\"dataframe\">\n",
       "  <thead>\n",
       "    <tr style=\"text-align: right;\">\n",
       "      <th></th>\n",
       "      <th>o_place</th>\n",
       "      <th>d_place</th>\n",
       "      <th>cnt</th>\n",
       "      <th>o_lat</th>\n",
       "      <th>o_lon</th>\n",
       "      <th>d_lat</th>\n",
       "      <th>d_lon</th>\n",
       "    </tr>\n",
       "  </thead>\n",
       "  <tbody>\n",
       "    <tr>\n",
       "      <th>555626</th>\n",
       "      <td>18089</td>\n",
       "      <td>17031</td>\n",
       "      <td>2436789</td>\n",
       "      <td>41.537</td>\n",
       "      <td>-87.428</td>\n",
       "      <td>41.733</td>\n",
       "      <td>-87.667</td>\n",
       "    </tr>\n",
       "    <tr>\n",
       "      <th>2170961</th>\n",
       "      <td>55079</td>\n",
       "      <td>17031</td>\n",
       "      <td>398701</td>\n",
       "      <td>43.036</td>\n",
       "      <td>-87.955</td>\n",
       "      <td>41.901</td>\n",
       "      <td>-87.762</td>\n",
       "    </tr>\n",
       "    <tr>\n",
       "      <th>4642228</th>\n",
       "      <td>29189</td>\n",
       "      <td>17031</td>\n",
       "      <td>395589</td>\n",
       "      <td>38.650</td>\n",
       "      <td>-90.404</td>\n",
       "      <td>41.882</td>\n",
       "      <td>-87.726</td>\n",
       "    </tr>\n",
       "    <tr>\n",
       "      <th>2719280</th>\n",
       "      <td>18097</td>\n",
       "      <td>17031</td>\n",
       "      <td>377216</td>\n",
       "      <td>39.797</td>\n",
       "      <td>-86.141</td>\n",
       "      <td>41.853</td>\n",
       "      <td>-87.715</td>\n",
       "    </tr>\n",
       "    <tr>\n",
       "      <th>895345</th>\n",
       "      <td>18127</td>\n",
       "      <td>17031</td>\n",
       "      <td>326769</td>\n",
       "      <td>41.521</td>\n",
       "      <td>-87.111</td>\n",
       "      <td>41.798</td>\n",
       "      <td>-87.697</td>\n",
       "    </tr>\n",
       "    <tr>\n",
       "      <th>2749644</th>\n",
       "      <td>06037</td>\n",
       "      <td>17031</td>\n",
       "      <td>296647</td>\n",
       "      <td>34.064</td>\n",
       "      <td>-118.304</td>\n",
       "      <td>41.904</td>\n",
       "      <td>-87.738</td>\n",
       "    </tr>\n",
       "    <tr>\n",
       "      <th>2456935</th>\n",
       "      <td>26163</td>\n",
       "      <td>17031</td>\n",
       "      <td>219050</td>\n",
       "      <td>42.338</td>\n",
       "      <td>-83.228</td>\n",
       "      <td>41.866</td>\n",
       "      <td>-87.718</td>\n",
       "    </tr>\n",
       "    <tr>\n",
       "      <th>3643245</th>\n",
       "      <td>27053</td>\n",
       "      <td>17031</td>\n",
       "      <td>215603</td>\n",
       "      <td>44.974</td>\n",
       "      <td>-93.351</td>\n",
       "      <td>41.887</td>\n",
       "      <td>-87.734</td>\n",
       "    </tr>\n",
       "    <tr>\n",
       "      <th>5069417</th>\n",
       "      <td>26125</td>\n",
       "      <td>17031</td>\n",
       "      <td>202811</td>\n",
       "      <td>42.575</td>\n",
       "      <td>-83.309</td>\n",
       "      <td>41.896</td>\n",
       "      <td>-87.719</td>\n",
       "    </tr>\n",
       "    <tr>\n",
       "      <th>5815186</th>\n",
       "      <td>04013</td>\n",
       "      <td>17031</td>\n",
       "      <td>191672</td>\n",
       "      <td>33.503</td>\n",
       "      <td>-111.996</td>\n",
       "      <td>41.904</td>\n",
       "      <td>-87.771</td>\n",
       "    </tr>\n",
       "    <tr>\n",
       "      <th>3647800</th>\n",
       "      <td>55059</td>\n",
       "      <td>17031</td>\n",
       "      <td>190833</td>\n",
       "      <td>42.564</td>\n",
       "      <td>-87.950</td>\n",
       "      <td>41.958</td>\n",
       "      <td>-87.799</td>\n",
       "    </tr>\n",
       "    <tr>\n",
       "      <th>1537978</th>\n",
       "      <td>55025</td>\n",
       "      <td>17031</td>\n",
       "      <td>181412</td>\n",
       "      <td>43.077</td>\n",
       "      <td>-89.395</td>\n",
       "      <td>41.921</td>\n",
       "      <td>-87.780</td>\n",
       "    </tr>\n",
       "    <tr>\n",
       "      <th>5903873</th>\n",
       "      <td>29095</td>\n",
       "      <td>17031</td>\n",
       "      <td>177470</td>\n",
       "      <td>39.019</td>\n",
       "      <td>-94.464</td>\n",
       "      <td>41.872</td>\n",
       "      <td>-87.718</td>\n",
       "    </tr>\n",
       "    <tr>\n",
       "      <th>2377655</th>\n",
       "      <td>48201</td>\n",
       "      <td>17031</td>\n",
       "      <td>171144</td>\n",
       "      <td>29.833</td>\n",
       "      <td>-95.451</td>\n",
       "      <td>41.887</td>\n",
       "      <td>-87.742</td>\n",
       "    </tr>\n",
       "    <tr>\n",
       "      <th>2628473</th>\n",
       "      <td>55133</td>\n",
       "      <td>17031</td>\n",
       "      <td>168124</td>\n",
       "      <td>43.033</td>\n",
       "      <td>-88.234</td>\n",
       "      <td>41.927</td>\n",
       "      <td>-87.793</td>\n",
       "    </tr>\n",
       "    <tr>\n",
       "      <th>2039729</th>\n",
       "      <td>18157</td>\n",
       "      <td>17031</td>\n",
       "      <td>165172</td>\n",
       "      <td>40.416</td>\n",
       "      <td>-86.893</td>\n",
       "      <td>41.854</td>\n",
       "      <td>-87.723</td>\n",
       "    </tr>\n",
       "    <tr>\n",
       "      <th>2687696</th>\n",
       "      <td>21111</td>\n",
       "      <td>17031</td>\n",
       "      <td>159054</td>\n",
       "      <td>38.214</td>\n",
       "      <td>-85.689</td>\n",
       "      <td>41.868</td>\n",
       "      <td>-87.719</td>\n",
       "    </tr>\n",
       "    <tr>\n",
       "      <th>3302613</th>\n",
       "      <td>20091</td>\n",
       "      <td>17031</td>\n",
       "      <td>154310</td>\n",
       "      <td>38.920</td>\n",
       "      <td>-94.734</td>\n",
       "      <td>41.885</td>\n",
       "      <td>-87.728</td>\n",
       "    </tr>\n",
       "    <tr>\n",
       "      <th>1468503</th>\n",
       "      <td>18141</td>\n",
       "      <td>17031</td>\n",
       "      <td>147614</td>\n",
       "      <td>41.682</td>\n",
       "      <td>-86.226</td>\n",
       "      <td>41.854</td>\n",
       "      <td>-87.723</td>\n",
       "    </tr>\n",
       "    <tr>\n",
       "      <th>1498614</th>\n",
       "      <td>48113</td>\n",
       "      <td>17031</td>\n",
       "      <td>142717</td>\n",
       "      <td>32.832</td>\n",
       "      <td>-96.812</td>\n",
       "      <td>41.884</td>\n",
       "      <td>-87.737</td>\n",
       "    </tr>\n",
       "  </tbody>\n",
       "</table>\n",
       "</div>"
      ],
      "text/plain": [
       "        o_place d_place      cnt   o_lat    o_lon   d_lat   d_lon\n",
       "555626    18089   17031  2436789  41.537  -87.428  41.733 -87.667\n",
       "2170961   55079   17031   398701  43.036  -87.955  41.901 -87.762\n",
       "4642228   29189   17031   395589  38.650  -90.404  41.882 -87.726\n",
       "2719280   18097   17031   377216  39.797  -86.141  41.853 -87.715\n",
       "895345    18127   17031   326769  41.521  -87.111  41.798 -87.697\n",
       "2749644   06037   17031   296647  34.064 -118.304  41.904 -87.738\n",
       "2456935   26163   17031   219050  42.338  -83.228  41.866 -87.718\n",
       "3643245   27053   17031   215603  44.974  -93.351  41.887 -87.734\n",
       "5069417   26125   17031   202811  42.575  -83.309  41.896 -87.719\n",
       "5815186   04013   17031   191672  33.503 -111.996  41.904 -87.771\n",
       "3647800   55059   17031   190833  42.564  -87.950  41.958 -87.799\n",
       "1537978   55025   17031   181412  43.077  -89.395  41.921 -87.780\n",
       "5903873   29095   17031   177470  39.019  -94.464  41.872 -87.718\n",
       "2377655   48201   17031   171144  29.833  -95.451  41.887 -87.742\n",
       "2628473   55133   17031   168124  43.033  -88.234  41.927 -87.793\n",
       "2039729   18157   17031   165172  40.416  -86.893  41.854 -87.723\n",
       "2687696   21111   17031   159054  38.214  -85.689  41.868 -87.719\n",
       "3302613   20091   17031   154310  38.920  -94.734  41.885 -87.728\n",
       "1468503   18141   17031   147614  41.682  -86.226  41.854 -87.723\n",
       "1498614   48113   17031   142717  32.832  -96.812  41.884 -87.737"
      ]
     },
     "execution_count": 4,
     "metadata": {},
     "output_type": "execute_result"
    }
   ],
   "source": [
    "top_count = 20\n",
    "df_tops = df[df['o_place'].str[:2] != str(target_FIPS)[:2]]\n",
    "df_tops = df_tops.sort_values('cnt',ascending = False).head(top_count)\n",
    "\n",
    "df_tops"
   ]
  },
  {
   "cell_type": "markdown",
   "metadata": {},
   "source": [
    "## show map"
   ]
  },
  {
   "cell_type": "code",
   "execution_count": 5,
   "metadata": {
    "ExecuteTime": {
     "end_time": "2021-03-16T16:40:23.747721Z",
     "start_time": "2021-03-16T16:40:22.721758Z"
    },
    "scrolled": false
   },
   "outputs": [
    {
     "name": "stdout",
     "output_type": "stream",
     "text": [
      "                     County      cnt  Rank\n",
      "18            Lake, Indiana  2436789     1\n",
      "55     Milwaukee, Wisconsin   398701     2\n",
      "29      St. Louis, Missouri   395589     3\n",
      "18          Marion, Indiana   377216     4\n",
      "18          Porter, Indiana   326769     5\n",
      "06  Los Angeles, California   296647     6\n",
      "26          Wayne, Michigan   219050     7\n",
      "27      Hennepin, Minnesota   215603     8\n",
      "26        Oakland, Michigan   202811     9\n",
      "04        Maricopa, Arizona   191672    10\n",
      "55       Kenosha, Wisconsin   190833    11\n",
      "55          Dane, Wisconsin   181412    12\n",
      "29        Jackson, Missouri   177470    13\n",
      "48            Harris, Texas   171144    14\n",
      "55      Waukesha, Wisconsin   168124    15\n",
      "18      Tippecanoe, Indiana   165172    16\n",
      "21      Jefferson, Kentucky   159054    17\n",
      "20          Johnson, Kansas   154310    18\n",
      "18      St. Joseph, Indiana   147614    19\n",
      "48            Dallas, Texas   142717    20\n",
      "User Guide: https://docs.kepler.gl/docs/keplergl-jupyter\n"
     ]
    },
    {
     "data": {
      "application/vnd.jupyter.widget-view+json": {
       "model_id": "6ed323dee40b4fb1a4af64928b1cbf21",
       "version_major": 2,
       "version_minor": 0
      },
      "text/plain": [
       "KeplerGl(config={'version': 'v1', 'config': {'visState': {'filters': [], 'layers': [{'id': 'ou6ayf5', 'type': …"
      ]
     },
     "metadata": {},
     "output_type": "display_data"
    }
   ],
   "source": [
    "from keplergl import KeplerGl\n",
    "import json\n",
    "\n",
    "county_file = r'gz_2010_us_050_00_20m.json'\n",
    "state_file = r'gz_2010_us_040_00_20m.json'\n",
    "\n",
    "o_places = df_tops['o_place'].to_list()\n",
    "\n",
    "county_gdf = geopandas.read_file(county_file)\n",
    "state_gdf = geopandas.read_file(state_file)\n",
    "state_gdf = state_gdf.set_index(\"STATE\")\n",
    "state_gdf = state_gdf.drop(['GEO_ID', 'LSAD', 'CENSUSAREA', 'geometry'], axis=1)\n",
    "\n",
    "county_gdf['place'] = county_gdf['GEO_ID'].str[-5:]\n",
    "county_tops = county_gdf[county_gdf['place'].isin(o_places)]\n",
    "origin_place = county_gdf[county_gdf['place'] == str(target_FIPS)]\n",
    "\n",
    "\n",
    "results = df_tops.set_index(\"o_place\").join(county_gdf.set_index('place'))\n",
    "series = [results['NAME'], results['cnt']]\n",
    "results = pd.concat(series, axis=1)\n",
    "\n",
    "results['STATE_CODE'] = results.index\n",
    "results['STATE_CODE'] = results['STATE_CODE'].str[:2]\n",
    "results = results.set_index('STATE_CODE').join(state_gdf, how=\"left\", rsuffix=\"_STATE\")\n",
    "results = results.sort_values(\"cnt\", ascending=False)  \n",
    "results['Rank'] = results.reset_index().index + 1\n",
    "results[\"County\"] = results[\"NAME\"] + \", \" + results[\"NAME_STATE\"]\n",
    "# results = results.reset_index().drop(['index', 'NAME', 'NAME_STATE'], axis=1)\n",
    "results = results[['County', 'cnt', 'Rank']]\n",
    "print(results)\n",
    "\n",
    "kepler_cfg_file = r'kepler_cfg.json'\n",
    "kepler_cfg = json.load(open(kepler_cfg_file, 'r'))\n",
    "map_2 = KeplerGl(height = 600)\n",
    "map_2.config = kepler_cfg\n",
    "\n",
    "map_2.add_data(data=county_tops, name='counties_geometry')\n",
    "map_2.add_data(data=df_tops, name='df_tops')\n",
    "map_2.add_data(data=origin_place, name='origin place')\n",
    " \n",
    "map_2"
   ]
  },
  {
   "cell_type": "markdown",
   "metadata": {},
   "source": [
    "If needed, saved the config file of keplergl widget."
   ]
  },
  {
   "cell_type": "code",
   "execution_count": 22,
   "metadata": {},
   "outputs": [],
   "source": [
    "cfg = map_2.config\n",
    "with open('kepler_cfg.json', 'w') as fp:\n",
    "    json.dump(cfg, fp,  indent=2)"
   ]
  },
  {
   "cell_type": "code",
   "execution_count": 15,
   "metadata": {
    "ExecuteTime": {
     "end_time": "2021-03-16T15:55:48.972877Z",
     "start_time": "2021-03-16T15:55:48.963900Z"
    },
    "scrolled": true
   },
   "outputs": [
    {
     "name": "stdout",
     "output_type": "stream",
     "text": [
      "User Guide: https://docs.kepler.gl/docs/keplergl-jupyter\n"
     ]
    },
    {
     "data": {
      "application/vnd.jupyter.widget-view+json": {
       "model_id": "3652fbdef1b74963820e9e30fdcfea36",
       "version_major": 2,
       "version_minor": 0
      },
      "text/plain": [
       "KeplerGl()"
      ]
     },
     "metadata": {},
     "output_type": "display_data"
    }
   ],
   "source": [
    "from keplergl import KeplerGl\n",
    "map_1 = KeplerGl()\n",
    "map_1"
   ]
  },
  {
   "cell_type": "code",
   "execution_count": null,
   "metadata": {},
   "outputs": [],
   "source": [
    "def get_Subdivition_flows_by_country(country_code, params):\n",
    "    country_code = str(country_code)\n",
    "    max_subs = 85\n",
    "    subs = [f\"{country_code}.{i + 1}_1\" for i in range(max_subs)]\n",
    "    dfs = []\n",
    "    attemp_max = 3\n",
    "    attemp_cnt = 0\n",
    "\n",
    "    for sub in subs:\n",
    "        params['place'] = sub\n",
    "        \n",
    "        df = request_flows(params)\n",
    "#         print(df)\n",
    "\n",
    "        print(f\"obtaining {len(df)} record from {sub}.\")\n",
    "        dfs.append(df)\n",
    "        if len(df) < 1:\n",
    "            attemp_cnt += 1\n",
    "        if attemp_cnt > attemp_max:\n",
    "            break\n",
    "        \n",
    "        \n",
    "    df = pd.concat(dfs, axis = 0)\n",
    "    return df\n",
    "\n",
    "\n",
    "def request_flows(params):\n",
    "\n",
    "#     print(r.text)\n",
    "    return df"
   ]
  }
 ],
 "metadata": {
  "kernelspec": {
   "display_name": "gdal_env",
   "language": "python",
   "name": "gdal_env"
  },
  "language_info": {
   "codemirror_mode": {
    "name": "ipython",
    "version": 3
   },
   "file_extension": ".py",
   "mimetype": "text/x-python",
   "name": "python",
   "nbconvert_exporter": "python",
   "pygments_lexer": "ipython3",
   "version": "3.7.10"
  },
  "toc": {
   "base_numbering": 1,
   "nav_menu": {},
   "number_sections": true,
   "sideBar": false,
   "skip_h1_title": false,
   "title_cell": "Table of Contents",
   "title_sidebar": "Contents",
   "toc_cell": false,
   "toc_position": {
    "height": "778px",
    "left": "23px",
    "top": "110px",
    "width": "254px"
   },
   "toc_section_display": true,
   "toc_window_display": true
  },
  "varInspector": {
   "cols": {
    "lenName": 16,
    "lenType": 16,
    "lenVar": 40
   },
   "kernels_config": {
    "python": {
     "delete_cmd_postfix": "",
     "delete_cmd_prefix": "del ",
     "library": "var_list.py",
     "varRefreshCmd": "print(var_dic_list())"
    },
    "r": {
     "delete_cmd_postfix": ") ",
     "delete_cmd_prefix": "rm(",
     "library": "var_list.r",
     "varRefreshCmd": "cat(var_dic_list()) "
    }
   },
   "types_to_exclude": [
    "module",
    "function",
    "builtin_function_or_method",
    "instance",
    "_Feature"
   ],
   "window_display": false
  },
  "widgets": {
   "application/vnd.jupyter.widget-state+json": {
    "state": {
     "0b1a2bf24e41431bb127e2bfef814ca8": {
      "model_module": "keplergl-jupyter",
      "model_module_version": "^0.2.2",
      "model_name": "KeplerGlModal",
      "state": {
       "_model_module_version": "^0.2.2",
       "_view_module_version": "^0.2.2",
       "config": {
        "config": {
         "mapState": {
          "bearing": 0,
          "dragRotate": false,
          "isSplit": false,
          "latitude": 37.63579573120376,
          "longitude": -101.22325659971959,
          "pitch": 0,
          "zoom": 3.557201841736332
         },
         "mapStyle": {
          "mapStyles": {},
          "styleType": "dark",
          "threeDBuildingColor": [
           9.665468314072013,
           17.18305478057247,
           31.1442867897876
          ],
          "topLayerGroups": {},
          "visibleLayerGroups": {
           "3d building": true,
           "border": true,
           "building": true,
           "label": true,
           "land": true,
           "road": true,
           "water": true
          }
         },
         "visState": {
          "animationConfig": {
           "currentTime": null,
           "speed": 1
          },
          "filters": [],
          "interactionConfig": {
           "brush": {
            "enabled": false,
            "size": 0.5
           },
           "coordinate": {
            "enabled": false
           },
           "geocoder": {
            "enabled": false
           },
           "tooltip": {
            "compareMode": false,
            "compareType": "absolute",
            "enabled": true,
            "fieldsToShow": {
             "counties_geometry": [
              {
               "format": null,
               "name": "GEO_ID"
              },
              {
               "format": null,
               "name": "STATE"
              },
              {
               "format": null,
               "name": "COUNTY"
              },
              {
               "format": null,
               "name": "NAME"
              },
              {
               "format": null,
               "name": "LSAD"
              }
             ],
             "df_tops": [
              {
               "format": null,
               "name": "o_place"
              },
              {
               "format": null,
               "name": "d_place"
              },
              {
               "format": null,
               "name": "cnt"
              }
             ],
             "origin place": [
              {
               "format": null,
               "name": "GEO_ID"
              },
              {
               "format": null,
               "name": "STATE"
              },
              {
               "format": null,
               "name": "COUNTY"
              },
              {
               "format": null,
               "name": "NAME"
              },
              {
               "format": null,
               "name": "LSAD"
              }
             ]
            }
           }
          },
          "layerBlending": "normal",
          "layers": [
           {
            "config": {
             "color": [
              233,
              72,
              126
             ],
             "columns": {
              "lat0": "o_lat",
              "lat1": "d_lat",
              "lng0": "o_lon",
              "lng1": "d_lon"
             },
             "dataId": "df_tops",
             "hidden": false,
             "isVisible": true,
             "label": "o -> d arc",
             "textLabel": [
              {
               "alignment": "center",
               "anchor": "start",
               "color": [
                255,
                255,
                255
               ],
               "field": null,
               "offset": [
                0,
                0
               ],
               "size": 18
              }
             ],
             "visConfig": {
              "colorRange": {
               "category": "Uber",
               "colors": [
                "#5A1846",
                "#900C3F",
                "#C70039",
                "#E3611C",
                "#F1920E",
                "#FFC300"
               ],
               "name": "Global Warming",
               "type": "sequential"
              },
              "opacity": 0.8,
              "sizeRange": [
               1,
               10
              ],
              "targetColor": [
               251,
               218,
               228
              ],
              "thickness": 2
             }
            },
            "id": "ou6ayf5",
            "type": "line",
            "visualChannels": {
             "colorField": null,
             "colorScale": "quantile",
             "sizeField": {
              "name": "cnt",
              "type": "integer"
             },
             "sizeScale": "sqrt"
            }
           },
           {
            "config": {
             "color": [
              130,
              154,
              227
             ],
             "columns": {
              "geojson": "geometry"
             },
             "dataId": "counties_geometry",
             "hidden": false,
             "isVisible": true,
             "label": "counties_geometry",
             "textLabel": [
              {
               "alignment": "center",
               "anchor": "start",
               "color": [
                255,
                255,
                255
               ],
               "field": null,
               "offset": [
                0,
                0
               ],
               "size": 18
              }
             ],
             "visConfig": {
              "colorRange": {
               "category": "Uber",
               "colors": [
                "#5A1846",
                "#900C3F",
                "#C70039",
                "#E3611C",
                "#F1920E",
                "#FFC300"
               ],
               "name": "Global Warming",
               "type": "sequential"
              },
              "elevationScale": 5,
              "enable3d": false,
              "filled": true,
              "heightRange": [
               0,
               500
              ],
              "opacity": 0.43,
              "radius": 10,
              "radiusRange": [
               0,
               50
              ],
              "sizeRange": [
               0,
               10
              ],
              "strokeColor": [
               231,
               159,
               213
              ],
              "strokeColorRange": {
               "category": "Uber",
               "colors": [
                "#5A1846",
                "#900C3F",
                "#C70039",
                "#E3611C",
                "#F1920E",
                "#FFC300"
               ],
               "name": "Global Warming",
               "type": "sequential"
              },
              "strokeOpacity": 0.8,
              "stroked": true,
              "thickness": 0.5,
              "wireframe": false
             }
            },
            "id": "xl5eh7",
            "type": "geojson",
            "visualChannels": {
             "colorField": null,
             "colorScale": "quantile",
             "heightField": null,
             "heightScale": "linear",
             "radiusField": null,
             "radiusScale": "linear",
             "sizeField": null,
             "sizeScale": "linear",
             "strokeColorField": null,
             "strokeColorScale": "quantile"
            }
           },
           {
            "config": {
             "color": [
              158,
              215,
              159
             ],
             "columns": {
              "geojson": "geometry"
             },
             "dataId": "origin place",
             "hidden": false,
             "isVisible": true,
             "label": "origin place",
             "textLabel": [
              {
               "alignment": "center",
               "anchor": "start",
               "color": [
                255,
                255,
                255
               ],
               "field": null,
               "offset": [
                0,
                0
               ],
               "size": 18
              }
             ],
             "visConfig": {
              "colorRange": {
               "category": "Uber",
               "colors": [
                "#5A1846",
                "#900C3F",
                "#C70039",
                "#E3611C",
                "#F1920E",
                "#FFC300"
               ],
               "name": "Global Warming",
               "type": "sequential"
              },
              "elevationScale": 5,
              "enable3d": false,
              "filled": true,
              "heightRange": [
               0,
               500
              ],
              "opacity": 0.25,
              "radius": 10,
              "radiusRange": [
               0,
               50
              ],
              "sizeRange": [
               0,
               10
              ],
              "strokeColor": [
               53,
               166,
               204
              ],
              "strokeColorRange": {
               "category": "Uber",
               "colors": [
                "#5A1846",
                "#900C3F",
                "#C70039",
                "#E3611C",
                "#F1920E",
                "#FFC300"
               ],
               "name": "Global Warming",
               "type": "sequential"
              },
              "strokeOpacity": 0.8,
              "stroked": true,
              "thickness": 0.5,
              "wireframe": false
             }
            },
            "id": "8vuatzl",
            "type": "geojson",
            "visualChannels": {
             "colorField": null,
             "colorScale": "quantile",
             "heightField": null,
             "heightScale": "linear",
             "radiusField": null,
             "radiusScale": "linear",
             "sizeField": null,
             "sizeScale": "linear",
             "strokeColorField": null,
             "strokeColorScale": "quantile"
            }
           }
          ],
          "splitMaps": []
         }
        },
        "version": "v1"
       },
       "data": {
        "counties_geometry": {
         "columns": [
          "GEO_ID",
          "STATE",
          "COUNTY",
          "NAME",
          "LSAD",
          "CENSUSAREA",
          "geometry",
          "place"
         ],
         "data": [
          [
           "0500000US04013",
           "04",
           "013",
           "Maricopa",
           "County",
           9200.143,
           "POLYGON ((-111.5806259999999952 33.4659019999999998, -111.5830469999999934 33.2054499999999990, -111.6860350000000039 33.2046369999999982, -111.8930849999999992 33.2048109999999994, -112.0834880000000027 33.2045600000000007, -112.1917839999999984 33.2650390000000016, -112.2032880000000006 33.3105329999999995, -112.2037190000000066 32.5067599999999999, -113.3338969999999932 32.5049380000000028, -113.3332120000000032 33.2272099999999995, -113.3339200000000062 33.3774250000000023, -113.3333130000000040 33.5657100000000028, -113.3338229999999953 33.9116610000000023, -113.3337530000000015 33.9992269999999976, -112.7439509999999956 33.9998980000000017, -112.3418759999999992 33.8989580000000004, -112.2760399999999947 33.8823119999999989, -112.2644250000000028 33.8990939999999981, -112.2604699999999980 33.9035920000000033, -112.2566680000000048 33.9055260000000018, -112.1647580000000062 34.0481699999999989, -111.8619970000000023 34.0151079999999979, -111.7253099999999932 33.9998489999999975, -111.4947779999999966 33.9998170000000002, -111.4332710000000048 33.9833209999999966, -111.4509039999999942 33.9198769999999996, -111.3723169999999953 33.8239239999999981, -111.3894439999999975 33.7766629999999992, -111.2628299999999939 33.6231569999999991, -111.2220549999999974 33.6024460000000005, -111.1533539999999931 33.6776059999999973, -111.0399050000000045 33.4661040000000014, -111.2506810000000002 33.4649020000000021, -111.2697600000000051 33.4655380000000022, -111.5806259999999952 33.4659019999999998))",
           "04013"
          ],
          [
           "0500000US55025",
           "55",
           "025",
           "Dane",
           "County",
           1197.239,
           "POLYGON ((-89.3691270000000060 42.8450460000000035, -89.3690689999999961 42.8564709999999991, -89.8381669999999986 42.8573969999999989, -89.8381349999999941 43.2060570000000013, -89.7202949999999930 43.2929280000000034, -89.0091390000000047 43.2848299999999995, -89.0089200000000034 43.1977210000000014, -89.0134890000000070 42.8473469999999992, -89.3691270000000060 42.8450460000000035))",
           "55025"
          ],
          [
           "0500000US18127",
           "18",
           "127",
           "Porter",
           "County",
           418.153,
           "POLYGON ((-86.9327470000000062 41.7110399999999970, -86.9293640000000067 41.4632089999999991, -86.9300559999999933 41.4496919999999989, -86.9300790000000063 41.2367980000000003, -86.9681250000000006 41.2196580000000026, -87.1316530000000000 41.2861550000000008, -87.2188620000000014 41.2420270000000002, -87.2226440000000025 41.6241610000000009, -87.2206599999999952 41.6243559999999988, -87.1876510000000025 41.6296529999999976, -87.1606249999999960 41.6372659999999968, -87.1607840000000067 41.6453849999999974, -87.1258349999999950 41.6503020000000035, -87.1203220000000016 41.6457010000000025, -87.0660330000000044 41.6618449999999996, -87.0278880000000044 41.6746610000000004, -87.0096400000000045 41.6815199999999990, -86.9348300000000052 41.7096379999999982, -86.9327470000000062 41.7110399999999970))",
           "18127"
          ],
          [
           "0500000US18141",
           "18",
           "141",
           "St. Joseph",
           "County",
           457.85,
           "POLYGON ((-86.5242230000000063 41.7594560000000001, -86.5193179999999984 41.7594470000000015, -86.5017730000000000 41.7595529999999968, -86.2654959999999988 41.7602070000000012, -86.2260969999999958 41.7600160000000002, -86.2260700000000071 41.7600160000000002, -86.2175900000000013 41.7600160000000002, -86.1278439999999961 41.7605920000000026, -86.1254600000000039 41.7605599999999981, -86.1250600000000048 41.7605760000000004, -86.0625720000000030 41.7602830000000012, -86.0605160000000069 41.6089589999999987, -86.0606520000000046 41.6084000000000032, -86.0594509999999957 41.4791540000000012, -86.4671079999999961 41.4764589999999984, -86.4666030000000063 41.4329680000000025, -86.4888949999999994 41.4330199999999991, -86.4907529999999980 41.4329099999999997, -86.5190070000000020 41.4328720000000033, -86.5197509999999994 41.4327919999999992, -86.5247109999999964 41.4328860000000034, -86.4864330000000052 41.5705450000000027, -86.5266819999999939 41.6504400000000032, -86.5242230000000063 41.7594560000000001))",
           "18141"
          ],
          [
           "0500000US18097",
           "18",
           "097",
           "Marion",
           "County",
           396.298,
           "POLYGON ((-85.9375869999999935 39.9271370000000019, -85.9380840000000035 39.9231959999999972, -85.9380770000000069 39.8871830000000003, -85.9516990000000050 39.7264189999999999, -85.9517210000000063 39.6971360000000004, -85.9520799999999952 39.6383450000000011, -86.0447049999999933 39.6372190000000018, -86.2429240000000021 39.6337440000000001, -86.2498850000000061 39.6336450000000013, -86.2685010000000005 39.6330469999999977, -86.2692389999999989 39.6332669999999965, -86.3263409999999993 39.6321769999999987, -86.3265760000000029 39.6828959999999995, -86.3262930000000068 39.9240289999999973, -86.2633050000000026 39.9248890000000003, -86.2410899999999998 39.9260919999999970, -86.2397390000000001 39.9260549999999981, -86.1722369999999955 39.9268950000000018, -85.9375869999999935 39.9271370000000019))",
           "18097"
          ],
          [
           "0500000US20091",
           "20",
           "091",
           "Johnson",
           "County",
           473.375,
           "POLYGON ((-94.6080330000000060 38.8472069999999974, -94.6080410000000001 38.8110640000000018, -94.6090389999999957 38.7606109999999973, -94.6093989999999962 38.7424400000000020, -94.6094559999999944 38.7406999999999968, -94.6095090000000027 38.7381019999999978, -95.0564119999999946 38.7385870000000025, -95.0562070000000006 38.8114320000000035, -95.0562579999999997 38.9821200000000019, -94.9087650000000025 38.9914010000000033, -94.8724420000000066 39.0590880000000027, -94.6073910000000069 39.0440860000000001, -94.6081340000000068 38.9420059999999992, -94.6081340000000068 38.9400059999999968, -94.6078660000000013 38.9373980000000017, -94.6079780000000028 38.9368699999999990, -94.6080330000000060 38.8838069999999973, -94.6080330000000060 38.8692070000000029, -94.6080330000000060 38.8681070000000020, -94.6079929999999933 38.8672710000000023, -94.6080330000000060 38.8612070000000003, -94.6080330000000060 38.8550070000000005, -94.6080330000000060 38.8472069999999974))",
           "20091"
          ],
          [
           "0500000US21111",
           "21",
           "111",
           "Jefferson",
           "County",
           380.416,
           "POLYGON ((-85.6237349999999964 38.0796479999999988, -85.7031630000000035 38.0864990000000034, -85.7125779999999935 38.0873109999999997, -85.8422589999999985 38.0514849999999996, -85.9383210000000020 37.9987560000000002, -85.9450439999999958 38.0024259999999998, -85.9479520000000008 38.0070830000000015, -85.9414029999999940 38.0098309999999984, -85.9302349999999961 38.0183109999999971, -85.9223949999999945 38.0286789999999968, -85.9116070000000036 38.0668900000000008, -85.9061630000000065 38.0861700000000027, -85.9045639999999935 38.1002700000000019, -85.9051639999999992 38.1110699999999980, -85.9094639999999998 38.1400700000000015, -85.9087640000000050 38.1611690000000010, -85.8995500000000050 38.1803430000000006, -85.8976640000000060 38.1842690000000005, -85.8293639999999982 38.2767690000000016, -85.8237639999999971 38.2805689999999998, -85.8161640000000006 38.2829690000000014, -85.7915749999999946 38.2885660000000030, -85.7915629999999965 38.2885690000000025, -85.7809629999999999 38.2884689999999992, -85.7733630000000034 38.2861690000000010, -85.7659629999999993 38.2804689999999965, -85.7665630000000050 38.2776700000000005, -85.7610619999999955 38.2725700000000018, -85.7509620000000012 38.2678700000000021, -85.7448619999999977 38.2671700000000001, -85.6835609999999974 38.2954689999999971, -85.6750169999999969 38.3013169999999974, -85.6536409999999933 38.3271080000000026, -85.6387770000000046 38.3614430000000013, -85.6380439999999936 38.3802700000000030, -85.4682059999999950 38.2853089999999980, -85.4048990000000003 38.2637300000000025, -85.4240539999999982 38.1474380000000011, -85.4288300000000049 38.1183830000000015, -85.5572700000000026 38.0738410000000016, -85.6237349999999964 38.0796479999999988))",
           "21111"
          ],
          [
           "0500000US26125",
           "26",
           "125",
           "Oakland",
           "County",
           867.663,
           "POLYGON ((-83.3168249999999944 42.4420330000000021, -83.4336720000000014 42.4389419999999973, -83.5519069999999999 42.4351660000000024, -83.6648079999999936 42.4311790000000002, -83.6827269999999999 42.6955820000000017, -83.6864929999999987 42.7832629999999980, -83.6893840000000040 42.8712629999999990, -83.4533639999999934 42.8804319999999990, -83.1028909999999996 42.8886469999999989, -83.0994319999999931 42.8005500000000012, -83.0887759999999957 42.5638429999999985, -83.0881569999999954 42.5493790000000018, -83.0868820000000028 42.5347920000000030, -83.0833930000000009 42.4471530000000001, -83.2879590000000007 42.4426800000000028, -83.3168249999999944 42.4420330000000021))",
           "26125"
          ],
          [
           "0500000US26163",
           "26",
           "163",
           "Wayne",
           "County",
           612.08,
           "POLYGON ((-83.5519069999999999 42.4351660000000024, -83.4336720000000014 42.4389419999999973, -83.3168249999999944 42.4420330000000021, -83.2879590000000007 42.4426800000000028, -83.0833930000000009 42.4471530000000001, -82.8705719999999957 42.4512349999999969, -82.8703469999999953 42.4508879999999991, -82.8861129999999946 42.4081370000000035, -82.8884129999999999 42.3982370000000017, -82.8940130000000011 42.3894370000000009, -82.8984130000000050 42.3854370000000031, -82.9151140000000026 42.3781370000000024, -82.9191139999999933 42.3744370000000004, -82.9288150000000002 42.3594369999999998, -82.9239699999999971 42.3520680000000027, -82.9594160000000045 42.3396380000000008, -82.9886189999999999 42.3324390000000008, -83.0183200000000028 42.3297389999999965, -83.0641210000000001 42.3177379999999985, -83.0797210000000064 42.3086380000000020, -83.0965209999999956 42.2901379999999989, -83.1280220000000014 42.2388389999999987, -83.1313430000000011 42.2027599999999978, -83.1339229999999958 42.1747399999999999, -83.1245219999999989 42.1376410000000021, -83.1335109999999986 42.0881430000000023, -83.1576239999999984 42.0855419999999967, -83.1687589999999943 42.0736009999999965, -83.1705890000000068 42.0729400000000027, -83.1885979999999989 42.0664310000000015, -83.1891150000000010 42.0618529999999993, -83.1868769999999955 42.0612059999999985, -83.1855259999999959 42.0522429999999972, -83.1882399999999933 42.0313289999999995, -83.1858579999999961 42.0294510000000017, -83.1858220000000017 42.0293670000000006, -83.2952750000000037 42.0942340000000002, -83.5393959999999964 42.0855979999999974, -83.5421019999999999 42.1743439999999978, -83.5475480000000061 42.3492170000000030, -83.5519069999999999 42.4351660000000024))",
           "26163"
          ],
          [
           "0500000US27053",
           "27",
           "053",
           "Hennepin",
           "County",
           553.591,
           "POLYGON ((-93.2080919999999935 45.0357440000000011, -93.1785390000000007 44.8883379999999974, -93.1831480000000028 44.8867389999999986, -93.1823810000000066 44.8847280000000026, -93.1796130000000034 44.8827479999999994, -93.1786180000000002 44.8803369999999973, -93.1817719999999952 44.8778289999999984, -93.1862119999999976 44.8763640000000024, -93.1886269999999968 44.8740960000000015, -93.1898860000000013 44.8715369999999965, -93.2007440000000003 44.8648840000000035, -93.1979180000000014 44.8619770000000031, -93.3296150000000040 44.7910860000000000, -93.5204310000000021 44.8042629999999988, -93.5206320000000062 44.8584729999999965, -93.5207249999999988 44.8619989999999973, -93.5206320000000062 44.8641080000000017, -93.5207060000000041 44.8915020000000027, -93.7670410000000061 44.8908619999999985, -93.7673669999999930 44.9779640000000001, -93.7618740000000059 45.0812439999999981, -93.6759140000000059 45.1511339999999990, -93.6672030000000007 45.1544430000000006, -93.6615450000000038 45.1532740000000032, -93.6477469999999954 45.1586089999999984, -93.6451679999999982 45.1615609999999990, -93.6386219999999980 45.1656199999999970, -93.6387450000000001 45.1743629999999996, -93.5216530000000006 45.2466179999999980, -93.5153420000000040 45.2463199999999972, -93.5121900000000039 45.2456829999999997, -93.3731360000000024 45.1781330000000025, -93.3115439999999978 45.1437779999999975, -93.2960949999999940 45.1218969999999970, -93.2783270000000044 45.1033649999999966, -93.2822259999999943 45.0511649999999975, -93.2834260000000057 45.0353649999999988, -93.2269289999999984 45.0356710000000007, -93.2080919999999935 45.0357440000000011))",
           "27053"
          ],
          [
           "0500000US55133",
           "55",
           "133",
           "Waukesha",
           "County",
           549.574,
           "POLYGON ((-88.5420260000000070 42.9309399999999997, -88.5396190000000018 43.1076049999999995, -88.5358429999999998 43.1960479999999976, -88.4179869999999966 43.1946969999999979, -88.0633530000000064 43.1921170000000032, -88.0686199999999957 42.9809600000000032, -88.0685880000000054 42.9798139999999975, -88.0688870000000037 42.9736660000000015, -88.0688169999999957 42.9728319999999968, -88.0689780000000013 42.9673689999999979, -88.0690979999999968 42.9663970000000006, -88.0692489999999992 42.9591040000000035, -88.0699240000000003 42.8433229999999980, -88.2454989999999952 42.8413559999999976, -88.3063839999999942 42.8420950000000005, -88.5312279999999987 42.8427190000000024, -88.5415349999999961 42.8429959999999994, -88.5420260000000070 42.9309399999999997))",
           "55133"
          ],
          [
           "0500000US06037",
           "06",
           "037",
           "Los Angeles",
           "County",
           4057.884,
           "MULTIPOLYGON (((-118.5245309999999961 32.8954880000000003, -118.5358229999999935 32.9062800000000024, -118.5511340000000047 32.9451549999999997, -118.5608869999999939 32.9578909999999965, -118.5735219999999970 32.9691830000000010, -118.5869280000000003 33.0082809999999967, -118.5960369999999955 33.0153570000000016, -118.6065590000000043 33.0146900000000016, -118.6055340000000058 33.0309990000000013, -118.5940329999999960 33.0359509999999972, -118.5751599999999968 33.0339609999999979, -118.5690129999999982 33.0291509999999988, -118.5644450000000063 33.0249140000000025, -118.5645269999999982 33.0186369999999982, -118.5591710000000063 33.0062909999999974, -118.5400690000000026 32.9809330000000003, -118.5292280000000034 32.9709209999999970, -118.4968109999999939 32.9338470000000001, -118.4852879999999971 32.9235449999999972, -118.4790390000000002 32.9203630000000018, -118.4606229999999982 32.9095099999999974, -118.4467709999999983 32.8954239999999984, -118.3699840000000023 32.8392729999999986, -118.3535040000000009 32.8219619999999992, -118.3565410000000071 32.8173109999999966, -118.3605299999999971 32.8199210000000008, -118.3799680000000052 32.8245450000000005, -118.3873750000000058 32.8253270000000015, -118.3945650000000001 32.8239779999999968, -118.4012680000000017 32.8203379999999996, -118.4256340000000023 32.8005950000000013, -118.4294299999999964 32.8054289999999966, -118.4283719999999960 32.8068719999999985, -118.4449199999999962 32.8205930000000023, -118.4760739999999970 32.8417540000000017, -118.4879080000000044 32.8445899999999966, -118.4962979999999959 32.8515719999999973, -118.5069019999999966 32.8685029999999969, -118.5080949999999973 32.8713210000000018, -118.5071930000000009 32.8762639999999990, -118.5246410000000026 32.8931749999999994, -118.5245309999999961 32.8954880000000003)), ((-118.5002120000000048 33.4495920000000027, -118.4996689999999973 33.4478790000000004, -118.4855699999999956 33.4462130000000002, -118.4776459999999929 33.4483919999999983, -118.4458120000000036 33.4289070000000024, -118.4235759999999971 33.4272580000000019, -118.3820369999999969 33.4098830000000007, -118.3703229999999991 33.4092849999999970, -118.3683010000000024 33.4071100000000030, -118.3650939999999991 33.3883739999999989, -118.3244600000000020 33.3487819999999999, -118.3160830000000061 33.3429280000000006, -118.3102130000000045 33.3357949999999974, -118.3031739999999985 33.3202640000000017, -118.3050839999999937 33.3103229999999968, -118.3167870000000050 33.3011369999999971, -118.3252439999999979 33.2990750000000020, -118.3432490000000001 33.3052339999999987, -118.3603319999999997 33.3153300000000030, -118.3747680000000031 33.3200649999999996, -118.4029409999999984 33.3209009999999992, -118.4400470000000070 33.3186380000000000, -118.4563090000000045 33.3218200000000024, -118.4653679999999980 33.3260560000000012, -118.4818860000000029 33.3441230000000033, -118.4887700000000024 33.3566489999999973, -118.4826089999999965 33.3699140000000014, -118.4784649999999999 33.3863199999999978, -118.4849490000000003 33.4121310000000022, -118.4887499999999960 33.4198260000000005, -118.5039519999999982 33.4242339999999984, -118.5159139999999951 33.4224170000000029, -118.5162669999999991 33.4250749999999996, -118.5232299999999981 33.4307329999999965, -118.5373799999999989 33.4346079999999972, -118.5587150000000065 33.4334190000000007, -118.5634419999999949 33.4343810000000019, -118.5709269999999975 33.4393510000000020, -118.5759010000000018 33.4482610000000022, -118.5939690000000013 33.4671980000000033, -118.6011850000000010 33.4698530000000005, -118.6040299999999945 33.4765400000000000, -118.6033749999999998 33.4780980000000028, -118.5987829999999974 33.4779389999999992, -118.5859360000000038 33.4738189999999989, -118.5445299999999946 33.4741190000000017, -118.5307020000000051 33.4680710000000019, -118.5002120000000048 33.4495920000000027)), ((-118.7966919999999931 34.6165590000000023, -118.8813640000000049 34.7906290000000027, -118.8542529999999999 34.8177719999999979, -118.1400739999999985 34.8207799999999992, -117.6672920000000033 34.8225260000000034, -117.6587980000000044 34.4405799999999971, -117.6504589999999979 34.3390249999999995, -117.7110669999999999 34.0795359999999974, -117.7194810000000018 34.0597309999999993, -117.7260100000000023 34.0411280000000005, -117.7358459999999951 34.0185540000000017, -117.7677520000000015 34.0194290000000024, -117.7832870000000014 33.9464109999999977, -117.9765299999999968 33.9280339999999967, -117.9764980000000065 33.9191709999999986, -117.9765710000000070 33.9112050000000025, -117.9766919999999999 33.9106140000000025, -117.9765880000000067 33.9097569999999990, -117.9765859999999975 33.9062249999999992, -118.0632679999999937 33.8242199999999968, -118.0631620000000055 33.8196099999999973, -118.0725970000000018 33.8151149999999987, -118.0845970000000023 33.8032159999999990, -118.0930079999999975 33.7862889999999965, -118.0991070000000036 33.7765180000000029, -118.0919700000000034 33.7584719999999976, -118.1167030000000011 33.7435490000000016, -118.1326980000000049 33.7532169999999994, -118.1568999999999932 33.7603170000000006, -118.1754999999999995 33.7636170000000035, -118.1808309999999977 33.7630720000000011, -118.1877010000000041 33.7492179999999991, -118.1837000000000018 33.7361179999999976, -118.1813669999999945 33.7173670000000030, -118.2074759999999998 33.7169049999999970, -118.2586869999999948 33.7037410000000008, -118.2772080000000017 33.7070909999999984, -118.2971040000000045 33.7083190000000030, -118.3172050000000013 33.7128179999999986, -118.3547049999999956 33.7323170000000019, -118.3605050000000034 33.7368170000000021, -118.3850060000000042 33.7414169999999984, -118.3966060000000056 33.7359170000000006, -118.4112109999999944 33.7419849999999997, -118.4284070000000071 33.7747150000000005, -118.4234069999999974 33.7820150000000012, -118.4050069999999977 33.8002150000000015, -118.3943759999999941 33.8042889999999971, -118.3943069999999977 33.8043150000000026, -118.3915070000000043 33.8154150000000016, -118.3921069999999958 33.8409150000000025, -118.4127079999999950 33.8839129999999997, -118.4424099999999953 33.9403119999999987, -118.4606110000000001 33.9691109999999981, -118.4827290000000062 33.9959119999999970, -118.4842119999999994 33.9977099999999979, -118.5028130000000033 34.0155090000000015, -118.5195140000000009 34.0275090000000020, -118.5431150000000002 34.0385080000000002, -118.5692350000000062 34.0416400000000010, -118.6035719999999998 34.0390480000000011, -118.6096519999999970 34.0364239999999967, -118.6683579999999978 34.0388870000000026, -118.6754300000000057 34.0374789999999976, -118.6793660000000017 34.0332549999999969, -118.7062150000000003 34.0293830000000028, -118.7323910000000069 34.0327430000000035, -118.7449519999999978 34.0321029999999993, -118.7834330000000023 34.0215430000000012, -118.7870939999999962 34.0195450000000008, -118.8051140000000032 34.0012389999999982, -118.8215789999999998 34.0139589999999998, -118.8403799999999961 34.0275269999999992, -118.8546529999999990 34.0342150000000032, -118.8961589999999973 34.0392069999999975, -118.9280480000000040 34.0458470000000020, -118.9380809999999968 34.0433829999999986, -118.9448869999999943 34.0453400000000030, -118.9409650000000056 34.0748299999999986, -118.7888889999999975 34.1682139999999990, -118.6681520000000063 34.1681949999999972, -118.6334729999999951 34.2696260000000024, -118.6367889999999932 34.2918039999999991, -118.6508589999999970 34.3204840000000004, -118.7966919999999931 34.6165590000000023)))",
           "06037"
          ],
          [
           "0500000US29095",
           "29",
           "095",
           "Jackson",
           "County",
           604.462,
           "POLYGON ((-94.6073540000000008 39.1134440000000012, -94.5234630000000067 39.1487710000000035, -94.4615900000000011 39.1203720000000033, -94.3897280000000052 39.1935029999999998, -94.3352129999999960 39.1833370000000016, -94.2898730000000000 39.2371070000000017, -94.2125149999999962 39.2070859999999968, -94.1048229999999961 39.1435069999999996, -94.1095839999999981 39.0187450000000027, -94.1099530000000044 39.0158150000000035, -94.1108629999999948 38.9863110000000006, -94.1114780000000053 38.9828619999999972, -94.1129279999999966 38.9609039999999993, -94.1142700000000048 38.9285700000000006, -94.1141750000000030 38.9173040000000015, -94.1137120000000067 38.9153659999999988, -94.1190959999999990 38.8331670000000031, -94.1207780000000014 38.8330059999999975, -94.3994469999999950 38.8388089999999977, -94.6080330000000060 38.8472069999999974, -94.6080330000000060 38.8550070000000005, -94.6080330000000060 38.8612070000000003, -94.6079929999999933 38.8672710000000023, -94.6080330000000060 38.8681070000000020, -94.6080330000000060 38.8692070000000029, -94.6080330000000060 38.8838069999999973, -94.6079780000000028 38.9368699999999990, -94.6078660000000013 38.9373980000000017, -94.6081340000000068 38.9400059999999968, -94.6081340000000068 38.9420059999999992, -94.6073910000000069 39.0440860000000001, -94.6072340000000054 39.0657039999999967, -94.6073339999999945 39.0817040000000020, -94.6072340000000054 39.0896040000000013, -94.6073540000000008 39.1134440000000012))",
           "29095"
          ],
          [
           "0500000US18157",
           "18",
           "157",
           "Tippecanoe",
           "County",
           499.806,
           "POLYGON ((-87.0936760000000021 40.4757450000000034, -87.0953570000000070 40.5628949999999975, -86.7712930000000000 40.5620819999999966, -86.6953529999999972 40.5618740000000031, -86.6946650000000005 40.4321559999999991, -86.6956370000000049 40.2143670000000029, -87.0925629999999984 40.2148060000000029, -87.0921479999999946 40.3666120000000035, -87.0927800000000047 40.4750749999999968, -87.0936760000000021 40.4757450000000034))",
           "18157"
          ],
          [
           "0500000US48113",
           "48",
           "113",
           "Dallas",
           "County",
           871.279,
           "POLYGON ((-96.8389630000000068 32.9875210000000010, -96.6879540000000048 32.9852589999999992, -96.6824670000000026 32.9853250000000031, -96.6601849999999985 32.9851269999999985, -96.6133769999999998 32.9840209999999985, -96.5168659999999932 32.9823080000000033, -96.5182729999999935 32.8915340000000000, -96.5183140000000037 32.8771529999999998, -96.5185859999999991 32.8733890000000031, -96.5189699999999959 32.8136160000000032, -96.5231179999999966 32.5452140000000014, -96.5299870000000055 32.5452820000000003, -96.9081350000000015 32.5478379999999987, -97.0383850000000052 32.5486620000000002, -97.0326869999999957 32.9206140000000005, -97.0322869999999966 32.9893240000000034, -97.0166020000000060 32.9893199999999993, -97.0163320000000056 32.9893240000000034, -96.8439790000000045 32.9875540000000029, -96.8395519999999976 32.9875079999999983, -96.8389630000000068 32.9875210000000010))",
           "48113"
          ],
          [
           "0500000US55059",
           "55",
           "059",
           "Kenosha",
           "County",
           271.99,
           "POLYGON ((-87.8126319999999936 42.5475619999999992, -87.8122730000000047 42.5298200000000008, -87.8096720000000062 42.5148200000000003, -87.8004770000000008 42.4919200000000004, -87.8005610000000019 42.4919200000000004, -87.8158719999999988 42.4919200000000004, -87.8435939999999960 42.4923069999999967, -87.9002420000000058 42.4930200000000013, -87.9712789999999956 42.4940190000000015, -87.9901799999999952 42.4945189999999968, -88.0497819999999933 42.4953190000000021, -88.1995210000000043 42.4960129999999978, -88.2001719999999949 42.4960159999999973, -88.2168999999999954 42.4959229999999977, -88.2716910000000041 42.4948180000000022, -88.3046920000000028 42.4947730000000021, -88.3058910000000026 42.6108169999999973, -88.1881730000000061 42.6114559999999969, -88.1883059999999972 42.6697089999999974, -87.8057680000000005 42.6681280000000029, -87.8070819999999941 42.6645710000000022, -87.8098800000000068 42.6569969999999969, -87.8098849999999942 42.6569819999999993, -87.8113709999999941 42.6529590000000027, -87.8134450000000015 42.6473450000000014, -87.8146739999999966 42.6440199999999976, -87.8194069999999982 42.6173270000000031, -87.8196740000000062 42.6158199999999994, -87.8193739999999963 42.6066199999999995, -87.8157360000000011 42.5960449999999966, -87.8150739999999956 42.5941199999999967, -87.8108730000000008 42.5873199999999983, -87.8116169999999983 42.5848089999999999, -87.8128710000000012 42.5805760000000006, -87.8132729999999952 42.5792199999999994, -87.8132229999999936 42.5767590000000027, -87.8131419999999991 42.5727680000000035, -87.8131350000000026 42.5724239999999980, -87.8128509999999949 42.5583519999999993, -87.8127240000000029 42.5521039999999999, -87.8126319999999936 42.5475619999999992))",
           "55059"
          ],
          [
           "0500000US48201",
           "48",
           "201",
           "Harris",
           "County",
           1703.478,
           "POLYGON ((-95.6883490000000023 29.7108619999999988, -95.8262200000000064 29.7882800000000003, -95.9607330000000047 30.1634150000000005, -95.8033300000000025 30.0900959999999991, -95.6554299999999955 30.1089939999999991, -95.5514210000000048 30.1706059999999994, -95.5051250000000067 30.1451530000000005, -95.2640130000000056 30.0322169999999993, -95.0967080000000067 30.1672140000000013, -95.0311789999999945 29.9933240000000012, -94.9853640000000041 29.9722790000000003, -94.9814599999999984 29.8842759999999998, -94.9086539999999985 29.8251810000000006, -94.9311540000000065 29.6738740000000014, -94.9341670000000022 29.6786819999999985, -94.9360889999999955 29.6927039999999991, -94.9426809999999932 29.6977779999999996, -94.9659630000000021 29.7003300000000010, -94.9726660000000038 29.6848700000000001, -94.9889239999999972 29.6722019999999986, -95.0053979999999996 29.6593659999999986, -95.0056479999999937 29.6589850000000013, -95.0063810000000046 29.6578710000000001, -95.0076229999999953 29.6559799999999996, -95.0110250000000036 29.6508029999999998, -95.0116830000000050 29.6498020000000011, -95.0127200000000016 29.6470880000000001, -95.0137770000000046 29.6443219999999990, -95.0156360000000006 29.6394570000000002, -95.0156000000000063 29.6392850000000010, -95.0136229999999955 29.6297899999999998, -95.0134989999999959 29.6291939999999983, -95.0116600000000062 29.6277679999999997, -95.0007810000000035 29.6193309999999990, -95.0004600000000039 29.6190819999999988, -94.9994810000000030 29.6183230000000002, -94.9990820000000014 29.6180139999999987, -94.9888710000000032 29.6100950000000012, -94.9848309999999998 29.6043610000000008, -94.9829359999999951 29.6016699999999986, -94.9827059999999932 29.6013440000000010, -94.9828550000000007 29.6011029999999984, -94.9829229999999995 29.6009920000000015, -94.9889929999999936 29.5911550000000005, -95.0076700000000045 29.5742569999999994, -95.0161449999999945 29.5593359999999983, -95.0163529999999952 29.5589699999999986, -95.0166269999999997 29.5584869999999995, -95.0166719999999998 29.5583880000000008, -95.0182530000000014 29.5548849999999987, -95.0181979999999982 29.5546180000000014, -95.0181910000000016 29.5545839999999984, -95.1639270000000010 29.4980510000000002, -95.2164219999999943 29.5560800000000015, -95.2974090000000018 29.5965139999999991, -95.4241180000000071 29.5802329999999998, -95.4356180000000052 29.5856330000000014, -95.4404150000000016 29.5880650000000003, -95.4469699999999932 29.5909779999999998, -95.5379480000000001 29.6332820000000012, -95.6100249999999932 29.6669899999999984, -95.6870820000000037 29.7100779999999993, -95.6879940000000033 29.7106670000000008, -95.6883490000000023 29.7108619999999988))",
           "48201"
          ],
          [
           "0500000US18089",
           "18",
           "089",
           "Lake",
           "County",
           498.961,
           "POLYGON ((-87.5267680000000041 41.2981770000000026, -87.5256229999999960 41.4536190000000033, -87.5256710000000027 41.4701149999999998, -87.5256689999999935 41.4702830000000020, -87.5246410000000026 41.5633350000000021, -87.5246420000000001 41.6225349999999992, -87.5247420000000034 41.6324350000000010, -87.5246420000000001 41.6349349999999987, -87.5248440000000016 41.6916349999999980, -87.5249440000000050 41.7026350000000008, -87.5240440000000035 41.7083349999999982, -87.5205440000000010 41.7099350000000015, -87.5152429999999981 41.7042349999999971, -87.5110430000000008 41.6965349999999972, -87.5053429999999963 41.6915350000000018, -87.4707420000000013 41.6728349999999992, -87.4631420000000048 41.6755350000000035, -87.4530409999999989 41.6730349999999987, -87.4461129999999969 41.6693399999999983, -87.4419869999999975 41.6719050000000024, -87.4385300000000001 41.6706789999999998, -87.4371909999999986 41.6690060000000031, -87.4348489999999998 41.6668870000000027, -87.4329529999999977 41.6651019999999974, -87.4323959999999971 41.6605300000000014, -87.4389409999999998 41.6543350000000032, -87.4298399999999987 41.6460349999999977, -87.4234399999999994 41.6428349999999980, -87.3945389999999946 41.6372349999999969, -87.3654389999999950 41.6295360000000016, -87.3243379999999974 41.6230359999999990, -87.2876370000000037 41.6222360000000009, -87.2784369999999967 41.6197360000000032, -87.2615360000000067 41.6203360000000018, -87.2226440000000025 41.6241610000000009, -87.2188620000000014 41.2420270000000002, -87.2263719999999978 41.2355069999999984, -87.2758819999999957 41.2185950000000005, -87.4144210000000044 41.1622479999999982, -87.5265700000000066 41.1660970000000006, -87.5267680000000041 41.2980519999999984, -87.5267680000000041 41.2981770000000026))",
           "18089"
          ],
          [
           "0500000US29189",
           "29",
           "189",
           "St. Louis",
           "County",
           507.8,
           "POLYGON ((-90.3402970000000067 38.3869979999999984, -90.3768409999999989 38.4528609999999986, -90.4052619999999933 38.5011530000000022, -90.5911229999999961 38.5016520000000000, -90.7363189999999946 38.4666449999999998, -90.7323279999999954 38.6393020000000007, -90.6605090000000047 38.6885509999999968, -90.5718219999999974 38.6810520000000011, -90.5547219999999982 38.6815520000000035, -90.5416120000000006 38.6852670000000032, -90.5337849999999946 38.6919150000000016, -90.5303629999999941 38.6986300000000014, -90.5303779999999989 38.7081950000000035, -90.5336379999999963 38.7268710000000027, -90.5313400000000001 38.7311779999999999, -90.5280240000000020 38.7337020000000010, -90.4957899999999995 38.7482559999999978, -90.4822989999999976 38.7643479999999983, -90.2987430000000018 38.8877590000000026, -90.1177069999999958 38.8057480000000012, -90.1231070000000045 38.7980480000000014, -90.1650819999999982 38.7706179999999989, -90.2517090000000053 38.7189479999999975, -90.3019110000000040 38.6556520000000035, -90.3036000000000030 38.6450030000000027, -90.3048119999999983 38.6424439999999976, -90.3064329999999984 38.6335899999999981, -90.2577730000000003 38.5320079999999976, -90.2603139999999939 38.5283519999999982, -90.2630640000000000 38.5202200000000019, -90.2792149999999936 38.4724530000000016, -90.2852149999999938 38.4434529999999981, -90.2953159999999997 38.4267529999999979, -90.3402970000000067 38.3869979999999984))",
           "29189"
          ],
          [
           "0500000US55079",
           "55",
           "079",
           "Milwaukee",
           "County",
           241.402,
           "POLYGON ((-87.8920899999999961 43.1920440000000028, -87.8885700000000014 43.1877950000000013, -87.8875859999999989 43.1866079999999997, -87.8862660000000062 43.1833590000000029, -87.8848780000000005 43.1799439999999990, -87.8848720000000014 43.1799290000000013, -87.8847690000000057 43.1796739999999986, -87.8810849999999988 43.1706089999999989, -87.8863800000000026 43.1602549999999994, -87.8888489999999933 43.1554289999999980, -87.8893269999999944 43.1544930000000022, -87.8893750000000011 43.1544000000000025, -87.8896340000000009 43.1538940000000011, -87.8910589999999985 43.1511080000000007, -87.8922850000000011 43.1487100000000012, -87.8960079999999948 43.1434050000000013, -87.8981050000000010 43.1404169999999993, -87.8990199999999930 43.1391119999999972, -87.9002849999999967 43.1373099999999994, -87.9013450000000063 43.1333569999999966, -87.9013850000000048 43.1332099999999983, -87.9013589999999994 43.1330019999999976, -87.9004960000000040 43.1259999999999977, -87.9004850000000033 43.1259099999999975, -87.9004630000000020 43.1258740000000032, -87.8931850000000026 43.1140109999999979, -87.8791690000000045 43.1017170000000007, -87.8779150000000016 43.1006169999999997, -87.8760840000000059 43.0990109999999973, -87.8724930000000057 43.0898099999999999, -87.8723619999999954 43.0894740000000027, -87.8723520000000065 43.0894490000000019, -87.8722549999999956 43.0891990000000007, -87.8719279999999969 43.0883630000000011, -87.8704589999999968 43.0845979999999997, -87.8664870000000064 43.0744189999999989, -87.8664839999999998 43.0744120000000024, -87.8701839999999947 43.0644119999999972, -87.8702169999999967 43.0643760000000029, -87.8754600000000039 43.0585159999999973, -87.8763430000000056 43.0575290000000024, -87.8819299999999970 43.0512850000000000, -87.8820690000000013 43.0511300000000006, -87.8820840000000061 43.0511130000000009, -87.8898829999999975 43.0458339999999993, -87.8948129999999992 43.0424969999999973, -87.8950279999999964 43.0423509999999965, -87.8950839999999971 43.0423130000000000, -87.8951270000000022 43.0421520000000015, -87.8962269999999961 43.0380279999999971, -87.8965979999999973 43.0366369999999989, -87.8981840000000005 43.0306890000000024, -87.8986840000000029 43.0288129999999995, -87.8968359999999933 43.0205300000000008, -87.8966470000000015 43.0196800000000010, -87.8963980000000049 43.0185650000000024, -87.8961570000000023 43.0174859999999981, -87.8957840000000061 43.0158139999999989, -87.8935110000000037 43.0115210000000019, -87.8893419999999992 43.0036470000000008, -87.8890949999999975 43.0031809999999979, -87.8888039999999933 43.0026310000000009, -87.8877889999999979 43.0007149999999996, -87.8877030000000019 43.0005519999999990, -87.8876829999999956 43.0005140000000026, -87.8786829999999952 42.9924150000000012, -87.8571819999999946 42.9780149999999992, -87.8451809999999966 42.9620150000000010, -87.8447390000000041 42.9588480000000033, -87.8438349999999986 42.9523750000000035, -87.8435750000000013 42.9505189999999999, -87.8427860000000038 42.9448650000000001, -87.8427599999999984 42.9446790000000007, -87.8426809999999989 42.9441160000000011, -87.8445779999999985 42.9236879999999985, -87.8467080000000067 42.9007560000000012, -87.8477450000000033 42.8895949999999999, -87.8477800000000002 42.8892159999999976, -87.8458109999999976 42.8842560000000006, -87.8348790000000008 42.8567170000000033, -87.8311759999999992 42.8498859999999979, -87.8270210000000020 42.8422219999999996, -88.0699240000000003 42.8433229999999980, -88.0692489999999992 42.9591040000000035, -88.0690979999999968 42.9663970000000006, -88.0689780000000013 42.9673689999999979, -88.0688169999999957 42.9728319999999968, -88.0688870000000037 42.9736660000000015, -88.0685880000000054 42.9798139999999975, -88.0686199999999957 42.9809600000000032, -88.0633530000000064 43.1921170000000032, -87.9942879999999974 43.1925499999999971, -87.9176429999999982 43.1921049999999980, -87.9144859999999966 43.1922080000000008, -87.9047860000000014 43.1921079999999975, -87.8993849999999952 43.1922059999999988, -87.8928860000000043 43.1920080000000013, -87.8920899999999961 43.1920440000000028))",
           "55079"
          ]
         ],
         "index": [
          76,
          643,
          885,
          888,
          911,
          943,
          967,
          1391,
          1437,
          1448,
          1755,
          2049,
          2078,
          2216,
          2450,
          2484,
          2498,
          2565,
          2800,
          3104
         ]
        },
        "df_tops": {
         "columns": [
          "o_place",
          "d_place",
          "cnt",
          "o_lat",
          "o_lon",
          "d_lat",
          "d_lon"
         ],
         "data": [
          [
           "18089",
           "17031",
           2436789,
           41.537,
           -87.428,
           41.733,
           -87.667
          ],
          [
           "55079",
           "17031",
           398701,
           43.036,
           -87.955,
           41.901,
           -87.762
          ],
          [
           "29189",
           "17031",
           395589,
           38.65,
           -90.404,
           41.882,
           -87.726
          ],
          [
           "18097",
           "17031",
           377216,
           39.797,
           -86.141,
           41.853,
           -87.715
          ],
          [
           "18127",
           "17031",
           326769,
           41.521,
           -87.111,
           41.798,
           -87.697
          ],
          [
           "06037",
           "17031",
           296647,
           34.064,
           -118.304,
           41.904,
           -87.738
          ],
          [
           "26163",
           "17031",
           219050,
           42.338,
           -83.228,
           41.866,
           -87.718
          ],
          [
           "27053",
           "17031",
           215603,
           44.974,
           -93.351,
           41.887,
           -87.734
          ],
          [
           "26125",
           "17031",
           202811,
           42.575,
           -83.309,
           41.896,
           -87.719
          ],
          [
           "04013",
           "17031",
           191672,
           33.503,
           -111.996,
           41.904,
           -87.771
          ],
          [
           "55059",
           "17031",
           190833,
           42.564,
           -87.95,
           41.958,
           -87.799
          ],
          [
           "55025",
           "17031",
           181412,
           43.077,
           -89.395,
           41.921,
           -87.78
          ],
          [
           "29095",
           "17031",
           177470,
           39.019,
           -94.464,
           41.872,
           -87.718
          ],
          [
           "48201",
           "17031",
           171144,
           29.833,
           -95.451,
           41.887,
           -87.742
          ],
          [
           "55133",
           "17031",
           168124,
           43.033,
           -88.234,
           41.927,
           -87.793
          ],
          [
           "18157",
           "17031",
           165172,
           40.416,
           -86.893,
           41.854,
           -87.723
          ],
          [
           "21111",
           "17031",
           159054,
           38.214,
           -85.689,
           41.868,
           -87.719
          ],
          [
           "20091",
           "17031",
           154310,
           38.92,
           -94.734,
           41.885,
           -87.728
          ],
          [
           "18141",
           "17031",
           147614,
           41.682,
           -86.226,
           41.854,
           -87.723
          ],
          [
           "48113",
           "17031",
           142717,
           32.832,
           -96.812,
           41.884,
           -87.737
          ]
         ],
         "index": [
          599508,
          1962356,
          3663654,
          2546549,
          1317296,
          2334827,
          3376052,
          2779441,
          4855822,
          5702392,
          3411214,
          1368218,
          5309204,
          3295869,
          3547719,
          2644889,
          2759453,
          3639894,
          2142127,
          1327274
         ]
        },
        "origin place": {
         "columns": [
          "GEO_ID",
          "STATE",
          "COUNTY",
          "NAME",
          "LSAD",
          "CENSUSAREA",
          "geometry",
          "place"
         ],
         "data": [
          [
           "0500000US17031",
           "17",
           "031",
           "Cook",
           "County",
           945.326,
           "POLYGON ((-87.5240440000000035 41.7083349999999982, -87.5249440000000050 41.7026350000000008, -87.5248440000000016 41.6916349999999980, -87.5246420000000001 41.6349349999999987, -87.5247420000000034 41.6324350000000010, -87.5246420000000001 41.6225349999999992, -87.5246410000000026 41.5633350000000021, -87.5256689999999935 41.4702830000000020, -87.6532360000000068 41.4697540000000018, -87.7127519999999947 41.4696199999999990, -87.7175540000000069 41.4697329999999980, -87.7903029999999944 41.4698459999999969, -87.7904079999999993 41.5281340000000014, -87.7905599999999993 41.5399159999999981, -87.7922920000000033 41.5386620000000022, -87.7927930000000032 41.5585400000000007, -87.9094529999999992 41.5567319999999967, -87.9119299999999981 41.6439329999999970, -88.0276879999999977 41.6415059999999997, -88.0291600000000045 41.6855300000000000, -87.9142650000000003 41.7167460000000005, -87.9193329999999946 41.8476789999999994, -87.9195320000000038 41.8518540000000030, -87.9196400000000011 41.8526209999999992, -87.9198719999999980 41.8597809999999981, -87.9200819999999936 41.8621989999999968, -87.9204409999999967 41.9068690000000004, -87.9200000000000017 41.9581510000000009, -87.9206700000000012 41.9940309999999997, -88.0802230000000037 41.9907520000000005, -88.2073560000000043 41.9871270000000010, -88.2107639999999975 41.9870230000000006, -88.2165750000000060 41.9871270000000010, -88.2178750000000065 41.9870269999999977, -88.2322750000000013 41.9866269999999986, -88.2334749999999985 41.9867270000000019, -88.2628760000000057 41.9862269999999995, -88.2383690000000058 42.1542529999999971, -88.2374020000000030 42.1542809999999974, -88.1995840000000015 42.1542600000000007, -88.1215449999999976 42.1541929999999994, -88.0044659999999936 42.1536449999999974, -87.7593269999999990 42.1523619999999966, -87.7563899999999961 42.1483500000000006, -87.7558259999999990 42.1475790000000003, -87.7547670000000011 42.1461320000000015, -87.7544440000000066 42.1456909999999993, -87.7543579999999963 42.1455729999999988, -87.7503959999999950 42.1401600000000016, -87.7484859999999998 42.1375499999999974, -87.7464209999999980 42.1347290000000001, -87.7416620000000052 42.1282270000000025, -87.7413180000000068 42.1278119999999987, -87.7407869999999974 42.1271720000000016, -87.7407180000000011 42.1270889999999980, -87.7397349999999960 42.1259030000000010, -87.7395290000000045 42.1256550000000018, -87.7339290000000034 42.1189030000000031, -87.7304630000000003 42.1147229999999979, -87.7293870000000027 42.1134259999999969, -87.7293779999999970 42.1134139999999988, -87.7283350000000013 42.1121570000000034, -87.7281909999999954 42.1119839999999996, -87.7272480000000030 42.1108469999999997, -87.7270050000000055 42.1105540000000005, -87.7251959999999968 42.1083730000000003, -87.7246609999999976 42.1077269999999970, -87.7246030000000019 42.1076740000000029, -87.7237230000000068 42.1068789999999993, -87.7223060000000032 42.1055959999999985, -87.7222199999999930 42.1055179999999964, -87.7215000000000060 42.1048660000000012, -87.7204069999999945 42.1038780000000017, -87.7203030000000012 42.1037830000000000, -87.7180649999999957 42.1017579999999967, -87.7175040000000052 42.1012500000000003, -87.7172759999999982 42.1010440000000017, -87.7171689999999984 42.1009469999999979, -87.7122059999999948 42.0964549999999988, -87.7109600000000000 42.0953280000000021, -87.7064150000000069 42.0922130000000010, -87.7045940000000002 42.0909660000000017, -87.7038819999999930 42.0904779999999974, -87.7023700000000019 42.0894419999999982, -87.6823590000000053 42.0757290000000026, -87.6821790000000050 42.0754409999999979, -87.6807500000000033 42.0731600000000014, -87.6798430000000053 42.0717130000000026, -87.6714620000000053 42.0583340000000021, -87.6705120000000022 42.0529799999999980, -87.6706989999999990 42.0523049999999969, -87.6711190000000045 42.0507810000000006, -87.6711839999999967 42.0505479999999991, -87.6718939999999947 42.0479720000000015, -87.6710939999999965 42.0428020000000018, -87.6689819999999997 42.0291420000000002, -87.6309530000000052 41.9331320000000005, -87.6308700000000016 41.9327839999999981, -87.6270379999999989 41.9167380000000023, -87.6247630000000015 41.9072090000000017, -87.6241339999999980 41.9045739999999967, -87.6240520000000060 41.9042320000000004, -87.6229440000000039 41.9020200000000003, -87.6198519999999945 41.9013920000000013, -87.6174330000000054 41.8980320000000006, -87.6141630000000049 41.8934179999999969, -87.6122909999999990 41.8933350000000004, -87.6116590000000031 41.8922159999999977, -87.6116590000000031 41.8907079999999965, -87.6126799999999974 41.8892480000000020, -87.6141879999999986 41.8884210000000010, -87.6135560000000027 41.8844800000000035, -87.6136539999999968 41.8844119999999975, -87.6157340000000033 41.8829580000000021, -87.6165369999999939 41.8823960000000000, -87.6162510000000054 41.8689329999999984, -87.6094499999999954 41.8452330000000003, -87.6005490000000009 41.8268330000000006, -87.5871230000000054 41.8114220000000003, -87.5870539999999949 41.8113420000000033, -87.5809480000000065 41.8043339999999972, -87.5809200000000061 41.8042250000000024, -87.5805500000000023 41.8027500000000032, -87.5763469999999984 41.7860340000000008, -87.5606460000000055 41.7660339999999977, -87.5428449999999998 41.7521350000000027, -87.5307449999999960 41.7482350000000011, -87.5241410000000002 41.7239900000000006, -87.5240440000000035 41.7083349999999982))",
           "17031"
          ]
         ],
         "index": [
          2991
         ]
        }
       },
       "height": 600,
       "layout": "IPY_MODEL_95077efbacc3479abb32929f06d7fdb4",
       "value": "Hello World!"
      }
     },
     "95077efbacc3479abb32929f06d7fdb4": {
      "model_module": "@jupyter-widgets/base",
      "model_module_version": "1.2.0",
      "model_name": "LayoutModel",
      "state": {}
     }
    },
    "version_major": 2,
    "version_minor": 0
   }
  }
 },
 "nbformat": 4,
 "nbformat_minor": 1
}
