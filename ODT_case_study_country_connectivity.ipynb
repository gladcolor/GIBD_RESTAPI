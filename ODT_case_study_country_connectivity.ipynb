{
 "cells": [
  {
   "cell_type": "markdown",
   "metadata": {
    "ExecuteTime": {
     "end_time": "2021-03-18T19:29:37.362570Z",
     "start_time": "2021-03-18T19:29:37.357600Z"
    }
   },
   "source": [
    "# Case study: Mobilities between a group of countries's and others \n",
    "\n",
    "This case investigate mobilities between a group of countries and others. The group in this study case has several large developed economies: Canada, France, Germany, Italy, Japan, the United Kingdom and the United States."
   ]
  },
  {
   "cell_type": "markdown",
   "metadata": {
    "ExecuteTime": {
     "end_time": "2021-03-18T19:36:11.543454Z",
     "start_time": "2021-03-18T19:36:11.540462Z"
    }
   },
   "source": [
    "## Import packages"
   ]
  },
  {
   "cell_type": "code",
   "execution_count": 3,
   "metadata": {
    "ExecuteTime": {
     "end_time": "2021-03-18T19:33:33.802835Z",
     "start_time": "2021-03-18T19:33:32.613017Z"
    }
   },
   "outputs": [],
   "source": [
    "import os\n",
    "import math\n",
    "import pandas as pd\n",
    "import numpy as np\n",
    "import requests\n",
    "from io import StringIO\n",
    "import keplergl\n",
    "import geopandas as gpd\n",
    "import matplotlib.pyplot as plt\n",
    "import matplotlib as mpl\n",
    "from keplergl import KeplerGl"
   ]
  },
  {
   "cell_type": "markdown",
   "metadata": {
    "ExecuteTime": {
     "end_time": "2021-03-18T19:38:09.784951Z",
     "start_time": "2021-03-18T19:38:09.780965Z"
    }
   },
   "source": [
    "Prepare boundary data."
   ]
  },
  {
   "cell_type": "code",
   "execution_count": 15,
   "metadata": {
    "ExecuteTime": {
     "end_time": "2021-03-18T19:37:40.226011Z",
     "start_time": "2021-03-18T19:37:38.373933Z"
    }
   },
   "outputs": [
    {
     "name": "stderr",
     "output_type": "stream",
     "text": [
      "C:\\ProgramData\\Anaconda3\\envs\\gdal_env\\lib\\site-packages\\ipykernel_launcher.py:7: UserWarning: Geometry is in a geographic CRS. Results from 'centroid' are likely incorrect. Use 'GeoSeries.to_crs()' to re-project geometries to a projected CRS before this operation.\n",
      "\n",
      "  import sys\n",
      "C:\\ProgramData\\Anaconda3\\envs\\gdal_env\\lib\\site-packages\\ipykernel_launcher.py:8: UserWarning: Geometry is in a geographic CRS. Results from 'centroid' are likely incorrect. Use 'GeoSeries.to_crs()' to re-project geometries to a projected CRS before this operation.\n",
      "\n",
      "  \n"
     ]
    },
    {
     "data": {
      "text/html": [
       "<div>\n",
       "<style scoped>\n",
       "    .dataframe tbody tr th:only-of-type {\n",
       "        vertical-align: middle;\n",
       "    }\n",
       "\n",
       "    .dataframe tbody tr th {\n",
       "        vertical-align: top;\n",
       "    }\n",
       "\n",
       "    .dataframe thead th {\n",
       "        text-align: right;\n",
       "    }\n",
       "</style>\n",
       "<table border=\"1\" class=\"dataframe\">\n",
       "  <thead>\n",
       "    <tr style=\"text-align: right;\">\n",
       "      <th></th>\n",
       "      <th>GID_0</th>\n",
       "      <th>NAME_0</th>\n",
       "      <th>geometry</th>\n",
       "      <th>y</th>\n",
       "      <th>x</th>\n",
       "    </tr>\n",
       "  </thead>\n",
       "  <tbody>\n",
       "    <tr>\n",
       "      <th>0</th>\n",
       "      <td>ABW</td>\n",
       "      <td>Aruba</td>\n",
       "      <td>POLYGON ((-69.97820 12.46986, -70.02847 12.503...</td>\n",
       "      <td>12.509652</td>\n",
       "      <td>-69.970508</td>\n",
       "    </tr>\n",
       "    <tr>\n",
       "      <th>1</th>\n",
       "      <td>AFG</td>\n",
       "      <td>Afghanistan</td>\n",
       "      <td>POLYGON ((68.52644 31.75435, 68.58202 31.75034...</td>\n",
       "      <td>33.828566</td>\n",
       "      <td>66.029628</td>\n",
       "    </tr>\n",
       "    <tr>\n",
       "      <th>2</th>\n",
       "      <td>AGO</td>\n",
       "      <td>Angola</td>\n",
       "      <td>MULTIPOLYGON (((11.73347 -16.67255, 11.74014 -...</td>\n",
       "      <td>-12.297561</td>\n",
       "      <td>17.548715</td>\n",
       "    </tr>\n",
       "    <tr>\n",
       "      <th>3</th>\n",
       "      <td>AIA</td>\n",
       "      <td>Anguilla</td>\n",
       "      <td>MULTIPOLYGON (((-63.42375 18.58903, -63.42403 ...</td>\n",
       "      <td>18.221736</td>\n",
       "      <td>-63.056916</td>\n",
       "    </tr>\n",
       "    <tr>\n",
       "      <th>4</th>\n",
       "      <td>ALA</td>\n",
       "      <td>Ã",
       "land</td>\n",
       "      <td>MULTIPOLYGON (((21.32195 59.74986, 21.32472 59...</td>\n",
       "      <td>60.204199</td>\n",
       "      <td>20.147058</td>\n",
       "    </tr>\n",
       "    <tr>\n",
       "      <th>...</th>\n",
       "      <td>...</td>\n",
       "      <td>...</td>\n",
       "      <td>...</td>\n",
       "      <td>...</td>\n",
       "      <td>...</td>\n",
       "    </tr>\n",
       "    <tr>\n",
       "      <th>251</th>\n",
       "      <td>XSP</td>\n",
       "      <td>Spratly Islands</td>\n",
       "      <td>MULTIPOLYGON (((114.35472 11.45139, 114.35167 ...</td>\n",
       "      <td>10.816933</td>\n",
       "      <td>114.508408</td>\n",
       "    </tr>\n",
       "    <tr>\n",
       "      <th>252</th>\n",
       "      <td>YEM</td>\n",
       "      <td>Yemen</td>\n",
       "      <td>MULTIPOLYGON (((53.26931 12.12875, 53.28680 12...</td>\n",
       "      <td>15.904209</td>\n",
       "      <td>47.582688</td>\n",
       "    </tr>\n",
       "    <tr>\n",
       "      <th>253</th>\n",
       "      <td>ZAF</td>\n",
       "      <td>South Africa</td>\n",
       "      <td>MULTIPOLYGON (((19.42097 -34.67903, 19.42208 -...</td>\n",
       "      <td>-28.996440</td>\n",
       "      <td>25.086365</td>\n",
       "    </tr>\n",
       "    <tr>\n",
       "      <th>254</th>\n",
       "      <td>ZMB</td>\n",
       "      <td>Zambia</td>\n",
       "      <td>POLYGON ((25.88753 -17.98407, 25.86519 -17.975...</td>\n",
       "      <td>-13.462328</td>\n",
       "      <td>27.792294</td>\n",
       "    </tr>\n",
       "    <tr>\n",
       "      <th>255</th>\n",
       "      <td>ZWE</td>\n",
       "      <td>Zimbabwe</td>\n",
       "      <td>POLYGON ((31.05947 -22.33982, 30.99968 -22.316...</td>\n",
       "      <td>-19.000676</td>\n",
       "      <td>29.868907</td>\n",
       "    </tr>\n",
       "  </tbody>\n",
       "</table>\n",
       "<p>256 rows × 5 columns</p>\n",
       "</div>"
      ],
      "text/plain": [
       "    GID_0           NAME_0                                           geometry  \\\n",
       "0     ABW            Aruba  POLYGON ((-69.97820 12.46986, -70.02847 12.503...   \n",
       "1     AFG      Afghanistan  POLYGON ((68.52644 31.75435, 68.58202 31.75034...   \n",
       "2     AGO           Angola  MULTIPOLYGON (((11.73347 -16.67255, 11.74014 -...   \n",
       "3     AIA         Anguilla  MULTIPOLYGON (((-63.42375 18.58903, -63.42403 ...   \n",
       "4     ALA           Ã\n",
       "land  MULTIPOLYGON (((21.32195 59.74986, 21.32472 59...   \n",
       "..    ...              ...                                                ...   \n",
       "251   XSP  Spratly Islands  MULTIPOLYGON (((114.35472 11.45139, 114.35167 ...   \n",
       "252   YEM            Yemen  MULTIPOLYGON (((53.26931 12.12875, 53.28680 12...   \n",
       "253   ZAF     South Africa  MULTIPOLYGON (((19.42097 -34.67903, 19.42208 -...   \n",
       "254   ZMB           Zambia  POLYGON ((25.88753 -17.98407, 25.86519 -17.975...   \n",
       "255   ZWE         Zimbabwe  POLYGON ((31.05947 -22.33982, 30.99968 -22.316...   \n",
       "\n",
       "             y           x  \n",
       "0    12.509652  -69.970508  \n",
       "1    33.828566   66.029628  \n",
       "2   -12.297561   17.548715  \n",
       "3    18.221736  -63.056916  \n",
       "4    60.204199   20.147058  \n",
       "..         ...         ...  \n",
       "251  10.816933  114.508408  \n",
       "252  15.904209   47.582688  \n",
       "253 -28.996440   25.086365  \n",
       "254 -13.462328   27.792294  \n",
       "255 -19.000676   29.868907  \n",
       "\n",
       "[256 rows x 5 columns]"
      ]
     },
     "execution_count": 15,
     "metadata": {},
     "output_type": "execute_result"
    }
   ],
   "source": [
    "# country group\n",
    "G = ['USA', 'GBR', \"FRA\", \"ITA\", \"JPN\", \"CAN\", \"DEU\"]\n",
    "\n",
    "# load country boundaries and generate centroids\n",
    "country_file = r'gdam00_simplified/gadm36_00.shp'\n",
    "gdf = gpd.read_file(country_file)\n",
    "gdf['y'] = gdf.centroid.y\n",
    "gdf['x'] = gdf.centroid.x\n",
    "gdf"
   ]
  },
  {
   "cell_type": "markdown",
   "metadata": {
    "ExecuteTime": {
     "end_time": "2021-03-18T19:39:10.568703Z",
     "start_time": "2021-03-18T19:39:10.564713Z"
    }
   },
   "source": [
    "Prepare flow data"
   ]
  },
  {
   "cell_type": "code",
   "execution_count": 145,
   "metadata": {
    "ExecuteTime": {
     "end_time": "2021-03-19T03:47:22.851370Z",
     "start_time": "2021-03-19T03:47:11.982422Z"
    },
    "code_folding": [],
    "scrolled": false
   },
   "outputs": [],
   "source": [
    "dict_countries = {}\n",
    "max_cnt_countries = []\n",
    "\n",
    "min_cnt = math.inf\n",
    "max_cnt = -math.inf  \n",
    "\n",
    "for target_place in G:\n",
    "    params = {\n",
    "        \"operation\": \"get_flow_by_place\",\n",
    "        \"source\": \"twitter\",\n",
    "        \"scale\": \"world_country\",\n",
    "        \"place\": str(target_place),\n",
    "        \"begin\": \"01/01/2019\",\n",
    "        \"end\": \"12/31/2019\",\n",
    "        \"direction\": \"both\"\n",
    "    }\n",
    "\n",
    "    q = r'http://gis.cas.sc.edu/GeoAnalytics/REST'\n",
    "    r = requests.get(q, params=params)\n",
    "    df = pd.read_csv(StringIO(r.text), header=None, names=['d_place', 'cnt'])\n",
    "    df = df[df['d_place'] != target_place]\n",
    "#     print(df)\n",
    "    \n",
    "    min_cnt = min(min_cnt, df['cnt'].min())\n",
    "    max_cnt = max(max_cnt, df['cnt'].max())\n",
    "    max_cnt_countries.append(df['cnt'].max())\n",
    "    dict_countries[target_place] = {}\n",
    "    dict_countries[target_place]['dataframe'] = df\n",
    "    dict_countries[target_place]['max_cnt'] = df['cnt'].max()\n",
    "#     print(target_place, dict_countries[target_place]['max_cnt'])\n",
    "    \n"
   ]
  },
  {
   "cell_type": "markdown",
   "metadata": {
    "ExecuteTime": {
     "end_time": "2021-03-18T19:42:35.219530Z",
     "start_time": "2021-03-18T19:42:35.214544Z"
    }
   },
   "source": [
    "set the start and end points of flows"
   ]
  },
  {
   "cell_type": "code",
   "execution_count": 124,
   "metadata": {
    "ExecuteTime": {
     "end_time": "2021-03-19T03:19:44.423171Z",
     "start_time": "2021-03-19T03:19:44.256616Z"
    }
   },
   "outputs": [],
   "source": [
    "def set_endpoints(G, dict_countries):\n",
    "    for target_place in G:        \n",
    "        df_c = dict_countries[target_place]['dataframe']\n",
    "        df_c[\"o_place\"] = target_place\n",
    "        df_c = df_c.set_index(\"o_place\").join(gdf.set_index(\"GID_0\"), how=\"left\")\n",
    "        df_c = df_c.drop(['NAME_0', \"geometry\"], axis=1)\n",
    "        df_c = df_c.rename(columns={\"y\": \"o_lat\", 'x': \"o_lon\"})\n",
    "        df_c['o_place'] = df_c.index\n",
    "        df_c = df_c.set_index(\"d_place\").join(gdf.set_index(\"GID_0\"), how=\"left\")\n",
    "        df_c = df_c.drop(['NAME_0', \"geometry\"], axis=1)\n",
    "        df_c = df_c.rename(columns={\"y\": \"d_lat\", 'x': \"d_lon\"})\n",
    "        df_c['d_place'] = df_c.index\n",
    "        df_c = df_c[df_c['d_place'] != df_c['o_place']]\n",
    "        df_c = df_c[~df_c['d_place'].isin(G)]\n",
    "\n",
    "        dict_countries[target_place]['dataframe'] = df_c\n",
    "        \n",
    "set_endpoints(G, dict_countries)"
   ]
  },
  {
   "cell_type": "markdown",
   "metadata": {
    "ExecuteTime": {
     "end_time": "2021-03-18T19:56:05.623581Z",
     "start_time": "2021-03-18T19:56:05.619592Z"
    }
   },
   "source": [
    "## Show the map"
   ]
  },
  {
   "cell_type": "code",
   "execution_count": 146,
   "metadata": {
    "ExecuteTime": {
     "end_time": "2021-03-19T03:47:22.994957Z",
     "start_time": "2021-03-19T03:47:22.871288Z"
    }
   },
   "outputs": [
    {
     "name": "stdout",
     "output_type": "stream",
     "text": [
      "User Guide: https://docs.kepler.gl/docs/keplergl-jupyter\n"
     ]
    },
    {
     "data": {
      "application/vnd.jupyter.widget-view+json": {
       "model_id": "cdde793d442341c4b838dec56f62fa07",
       "version_major": 2,
       "version_minor": 0
      },
      "text/plain": [
       "KeplerGl(config={'version': 'v1', 'config': {'visState': {'filters': [], 'layers': [{'id': '7bpj7x6', 'type': …"
      ]
     },
     "metadata": {},
     "output_type": "display_data"
    }
   ],
   "source": [
    "# load the config file for keplergl\n",
    "kepler_cfg_file = r'kepler_cfg_G.json'\n",
    "kepler_cfg = json.load(open(kepler_cfg_file, 'r'))\n",
    "\n",
    "\n",
    "map_2 = KeplerGl(height = 600)\n",
    "# map_2.config = kepler_cfg\n",
    "\n",
    "# add data lyaer to map\n",
    "max_arc_width = 20\n",
    "\n",
    "for idx in range(len(G)):\n",
    "#     target_place = G[idx]\n",
    "    \n",
    "    dataId = kepler_cfg['config']['visState']['layers'][idx]['config']['dataId']\n",
    "#     print(dataId)\n",
    "    map_2.add_data(data=dict_countries[dataId]['dataframe'], name=dataId)  \n",
    "    \n",
    "    arc_width = dict_countries[dataId]['max_cnt']/max(max_cnt_countries) * max_arc_width\n",
    "    arc_width = int(arc_width)\n",
    "    kepler_cfg['config']['visState']['layers'][idx]['config']['visConfig']['sizeRange'] = [0, arc_width]\n",
    "    \n",
    "#     print(kepler_cfg['config']['visState']['layers'][idx]['config']['visConfig']['sizeRange'] )\n",
    "#     print(kepler_cfg['config']['visState']['layers'][idx]['config']['dataId']  )\n",
    "#     print(map_2.config['config']['visState']['layers'][idx]['config']['visConfig']['sizeRange'] )\n",
    "#     print(arc_width)    \n",
    "\n",
    "# for idx, target_place in enumerate(G):   \n",
    "#     print(target_place)\n",
    "#     map_2.add_data(data=dict_counties[target_place], name=target_place)\n",
    "#     arc_width = max_cnt_countries[idx]/max(max_cnt_countries) * max_arc_width\n",
    "#     arc_width = int(arc_width)\n",
    "#     kepler_cfg['config']['visState']['layers'][idx]['config']['visConfig']['sizeRange'] = [0, arc_width]\n",
    "    \n",
    "#     print(kepler_cfg['config']['visState']['layers'][idx]['config']['visConfig']['sizeRange'] )\n",
    "#     print(kepler_cfg['config']['visState']['layers'][idx]['config']['dataId']  )\n",
    "# #     print(map_2.config['config']['visState']['layers'][idx]['config']['visConfig']['sizeRange'] )\n",
    "#     print(arc_width)\n",
    "\n",
    "# show the map\n",
    "map_2.config = kepler_cfg\n",
    "map_2"
   ]
  },
  {
   "cell_type": "markdown",
   "metadata": {
    "ExecuteTime": {
     "end_time": "2021-03-18T19:57:22.856471Z",
     "start_time": "2021-03-18T19:57:22.852482Z"
    }
   },
   "source": [
    "If needed, save the config"
   ]
  },
  {
   "cell_type": "code",
   "execution_count": 144,
   "metadata": {
    "ExecuteTime": {
     "end_time": "2021-03-19T03:47:00.487131Z",
     "start_time": "2021-03-19T03:47:00.478156Z"
    }
   },
   "outputs": [],
   "source": [
    "cfg = map_2.config\n",
    "with open('kepler_cfg_G.json', 'w') as fp:\n",
    "    json.dump(cfg, fp,  indent=2)"
   ]
  }
 ],
 "metadata": {
  "kernelspec": {
   "display_name": "gdal_env",
   "language": "python",
   "name": "gdal_env"
  },
  "language_info": {
   "codemirror_mode": {
    "name": "ipython",
    "version": 3
   },
   "file_extension": ".py",
   "mimetype": "text/x-python",
   "name": "python",
   "nbconvert_exporter": "python",
   "pygments_lexer": "ipython3",
   "version": "3.7.10"
  },
  "toc": {
   "base_numbering": 1,
   "nav_menu": {},
   "number_sections": true,
   "sideBar": true,
   "skip_h1_title": false,
   "title_cell": "Table of Contents",
   "title_sidebar": "Contents",
   "toc_cell": false,
   "toc_position": {},
   "toc_section_display": true,
   "toc_window_display": true
  }
 },
 "nbformat": 4,
 "nbformat_minor": 4
}
